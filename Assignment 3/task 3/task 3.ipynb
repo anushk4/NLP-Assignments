{
  "cells": [
    {
      "cell_type": "markdown",
      "metadata": {
        "id": "POgES2AylQ4s"
      },
      "source": [
        "## Task 3: Multimodal Sarcasm Explanation (MuSE)"
      ]
    },
    {
      "cell_type": "markdown",
      "metadata": {},
      "source": [
        "References\n",
        "\n",
        "- [PyTorch MultiheadAttention Documentation](https://pytorch.org/docs/stable/generated/torch.nn.MultiheadAttention.html)\n",
        "- [Shared Fusion Model Paper (Google Drive)](https://drive.google.com/file/d/1mMX4NhoZovPh8pJNbMpmV_EWy43CoBPO/view)\n",
        "- [NLTK BLEU Score Source Code](https://www.nltk.org/_modules/nltk/translate/bleu_score.html)\n"
      ]
    },
    {
      "cell_type": "code",
      "execution_count": null,
      "metadata": {
        "colab": {
          "base_uri": "https://localhost:8080/"
        },
        "id": "l5H7QRBtNLgH",
        "outputId": "9acbfa3a-40f0-4f78-e71e-15f5eea84120"
      },
      "outputs": [
        {
          "name": "stdout",
          "output_type": "stream",
          "text": [
            "Downloading from https://www.kaggle.com/api/v1/datasets/download/aarzooiiitd/sarcasm?dataset_version_number=3...\n"
          ]
        },
        {
          "name": "stderr",
          "output_type": "stream",
          "text": [
            "100%|██████████| 368M/368M [00:04<00:00, 88.8MB/s]"
          ]
        },
        {
          "name": "stdout",
          "output_type": "stream",
          "text": [
            "Extracting files...\n"
          ]
        },
        {
          "name": "stderr",
          "output_type": "stream",
          "text": [
            "\n"
          ]
        },
        {
          "name": "stdout",
          "output_type": "stream",
          "text": [
            "Data source import complete.\n"
          ]
        }
      ],
      "source": [
        "# IMPORTANT: RUN THIS CELL IN ORDER TO IMPORT YOUR KAGGLE DATA SOURCES,\n",
        "# THEN FEEL FREE TO DELETE THIS CELL.\n",
        "# NOTE: THIS NOTEBOOK ENVIRONMENT DIFFERS FROM KAGGLE'S PYTHON\n",
        "# ENVIRONMENT SO THERE MAY BE MISSING LIBRARIES USED BY YOUR\n",
        "# NOTEBOOK.\n",
        "import kagglehub\n",
        "aarzooiiitd_sarcasm_path = kagglehub.dataset_download('aarzooiiitd/sarcasm')\n",
        "\n",
        "print('Data source import complete.')"
      ]
    },
    {
      "cell_type": "markdown",
      "metadata": {
        "id": "T_lFKkuxlYK7"
      },
      "source": [
        "First, we install the necessary libraries and packages"
      ]
    },
    {
      "cell_type": "code",
      "execution_count": null,
      "metadata": {
        "execution": {
          "iopub.execute_input": "2025-04-06T11:04:44.417468Z",
          "iopub.status.busy": "2025-04-06T11:04:44.417128Z",
          "iopub.status.idle": "2025-04-06T11:04:49.706567Z",
          "shell.execute_reply": "2025-04-06T11:04:49.705485Z",
          "shell.execute_reply.started": "2025-04-06T11:04:44.417443Z"
        },
        "id": "4r88t6YbNLgL",
        "trusted": true
      },
      "outputs": [],
      "source": [
        "%%capture\n",
        "pip install rouge-score nltk bert-score\n"
      ]
    },
    {
      "cell_type": "code",
      "execution_count": null,
      "metadata": {
        "execution": {
          "iopub.execute_input": "2025-04-06T11:04:49.708137Z",
          "iopub.status.busy": "2025-04-06T11:04:49.707809Z",
          "iopub.status.idle": "2025-04-06T11:04:53.000485Z",
          "shell.execute_reply": "2025-04-06T11:04:52.999349Z",
          "shell.execute_reply.started": "2025-04-06T11:04:49.708112Z"
        },
        "id": "m-SSJCMGNLgL",
        "trusted": true
      },
      "outputs": [],
      "source": [
        "%%capture\n",
        "pip install bert-score"
      ]
    },
    {
      "cell_type": "code",
      "execution_count": null,
      "metadata": {
        "execution": {
          "iopub.execute_input": "2025-04-06T11:04:53.002222Z",
          "iopub.status.busy": "2025-04-06T11:04:53.001958Z",
          "iopub.status.idle": "2025-04-06T11:04:56.174737Z",
          "shell.execute_reply": "2025-04-06T11:04:56.173692Z",
          "shell.execute_reply.started": "2025-04-06T11:04:53.002199Z"
        },
        "id": "Me_5Vk3NNLgM",
        "trusted": true
      },
      "outputs": [],
      "source": [
        "%%capture\n",
        "pip install nltk==3.5"
      ]
    },
    {
      "cell_type": "code",
      "execution_count": null,
      "metadata": {
        "colab": {
          "base_uri": "https://localhost:8080/"
        },
        "id": "0nC8REBeQcjP",
        "outputId": "ffcecb58-c422-4aba-e8ac-e64fb9f65ef6"
      },
      "outputs": [
        {
          "name": "stderr",
          "output_type": "stream",
          "text": [
            "[nltk_data] Downloading package punkt to /root/nltk_data...\n",
            "[nltk_data]   Package punkt is already up-to-date!\n",
            "[nltk_data] Downloading package wordnet to /root/nltk_data...\n"
          ]
        }
      ],
      "source": [
        "%%capture\n",
        "import nltk\n",
        "\n",
        "nltk.download('punkt')\n",
        "nltk.download('wordnet')"
      ]
    },
    {
      "cell_type": "code",
      "execution_count": null,
      "metadata": {
        "execution": {
          "iopub.execute_input": "2025-04-06T11:04:57.678753Z",
          "iopub.status.busy": "2025-04-06T11:04:57.678439Z",
          "iopub.status.idle": "2025-04-06T11:04:57.767895Z",
          "shell.execute_reply": "2025-04-06T11:04:57.766817Z",
          "shell.execute_reply.started": "2025-04-06T11:04:57.678729Z"
        },
        "id": "IyeXMHpkNLgM",
        "trusted": true
      },
      "outputs": [],
      "source": [
        "# Importing all libraries\n",
        "import os\n",
        "import pickle\n",
        "import pandas as pd\n",
        "import torch\n",
        "import torch.nn as nn\n",
        "import torch.nn.functional as F\n",
        "from torch.utils.data import Dataset, DataLoader\n",
        "from transformers import (\n",
        "    BartTokenizer,\n",
        "    BartForConditionalGeneration,\n",
        "    ViTFeatureExtractor,\n",
        "    ViTModel,\n",
        "ViTImageProcessor\n",
        ")\n",
        "from transformers.modeling_outputs import BaseModelOutput\n",
        "from tqdm import tqdm\n",
        "import math\n",
        "from nltk.translate.bleu_score import corpus_bleu\n",
        "from nltk.tokenize import word_tokenize\n",
        "from nltk.translate.meteor_score import meteor_score\n",
        "import numpy as np\n",
        "from rouge_score import rouge_scorer\n",
        "from bert_score import score as bert_score\n",
        "from PIL import Image\n",
        "import matplotlib.pyplot as plt\n",
        "import warnings"
      ]
    },
    {
      "cell_type": "code",
      "execution_count": null,
      "metadata": {
        "id": "AebvUIqOSM_k"
      },
      "outputs": [],
      "source": [
        "warnings.filterwarnings(\"ignore\")"
      ]
    },
    {
      "cell_type": "markdown",
      "metadata": {
        "id": "wI43jZh7nRbP"
      },
      "source": [
        "### Dataset Processing"
      ]
    },
    {
      "cell_type": "code",
      "execution_count": null,
      "metadata": {
        "execution": {
          "iopub.execute_input": "2025-04-06T11:04:59.932328Z",
          "iopub.status.busy": "2025-04-06T11:04:59.931975Z",
          "iopub.status.idle": "2025-04-06T11:04:59.940528Z",
          "shell.execute_reply": "2025-04-06T11:04:59.939573Z",
          "shell.execute_reply.started": "2025-04-06T11:04:59.932301Z"
        },
        "id": "lt7ypMCFNLgN",
        "trusted": true
      },
      "outputs": [],
      "source": [
        "class MorePlusDataset(Dataset):\n",
        "    \"\"\"\n",
        "    Dataset class. Preprocessing is done in __getitem__().\n",
        "    \"\"\"\n",
        "    def __init__(self, tsv_file, d_pkl, o_pkl, image_dir, tokenizer, max_length=256):\n",
        "        with open(d_pkl, 'rb') as f:\n",
        "            self.D = pickle.load(f)  # image descriptions dictionary keyed by pid\n",
        "        with open(o_pkl, 'rb') as f:\n",
        "            self.O = pickle.load(f)  # detected objects dictionary keyed by pid\n",
        "        # Removing all pids which are not present in the pickle files\n",
        "        valid_pids = set(self.D.keys()) & set(self.O.keys())\n",
        "        self.df = pd.read_csv(tsv_file, sep='\\t')\n",
        "        self.df = self.df[self.df['pid'].isin(valid_pids)].reset_index(drop=True)\n",
        "        self.image_dir = image_dir\n",
        "        self.tokenizer = tokenizer\n",
        "        self.max_length = max_length\n",
        "        self.vit_model = ViTImageProcessor.from_pretrained('google/vit-base-patch16-224')\n",
        "\n",
        "    def __len__(self):\n",
        "        return len(self.df)\n",
        "\n",
        "    def __getitem__(self, idx):\n",
        "        row = self.df.iloc[idx]\n",
        "        pid = row['pid']\n",
        "        text = row['text']\n",
        "        explanation = row['explanation']\n",
        "        sarcasm_target = row['target_of_sarcasm']\n",
        "\n",
        "        # Load image\n",
        "        image_path = os.path.join(self.image_dir, f\"{pid}.jpg\")\n",
        "        image = Image.open(image_path).convert('RGB')\n",
        "\n",
        "        # Get additional image info from preprocessed pickles\n",
        "        image_description = self.D.get(pid, \"\")\n",
        "        detected_objects = self.O.get(pid, \"\")\n",
        "\n",
        "        # Concatenate text as per Section 4.3: [caption] + [image description] + [detected objects] + [sarcasm target]\n",
        "        # Use a separator token from the BART tokenizer\n",
        "        separator = self.tokenizer.eos_token\n",
        "        concatenated_text = f\"{text} {separator} {image_description} {separator} {detected_objects} {separator} {sarcasm_target}\"\n",
        "        # Tokenize input and target explanation\n",
        "        encoding = self.tokenizer(\n",
        "            concatenated_text,\n",
        "            max_length=self.max_length,\n",
        "            padding='max_length',\n",
        "            truncation=True,\n",
        "            return_tensors=\"pt\"\n",
        "        )\n",
        "        target_encoding = self.tokenizer(\n",
        "            explanation,\n",
        "            max_length=self.max_length,\n",
        "            padding='max_length',\n",
        "            truncation=True,\n",
        "            return_tensors=\"pt\"\n",
        "        )\n",
        "        # Preprocessing using VIT Image Processor\n",
        "        image_input = self.vit_model(images=image, return_tensors='pt')\n",
        "        return {\n",
        "            \"input_ids\": encoding['input_ids'].squeeze(0),\n",
        "            \"attention_mask\": encoding['attention_mask'].squeeze(0),\n",
        "            \"labels\": target_encoding.input_ids.squeeze(0),\n",
        "            \"pixel_values\": image_input['pixel_values'].squeeze(0)\n",
        "        }"
      ]
    },
    {
      "cell_type": "markdown",
      "metadata": {
        "id": "icwA80hwnb_k"
      },
      "source": [
        "### Shared Fusion Mechanism"
      ]
    },
    {
      "cell_type": "code",
      "execution_count": null,
      "metadata": {
        "execution": {
          "iopub.execute_input": "2025-04-06T11:05:02.375392Z",
          "iopub.status.busy": "2025-04-06T11:05:02.375051Z",
          "iopub.status.idle": "2025-04-06T11:05:02.383537Z",
          "shell.execute_reply": "2025-04-06T11:05:02.382597Z",
          "shell.execute_reply.started": "2025-04-06T11:05:02.375363Z"
        },
        "id": "vHXCHDZuNLgN",
        "trusted": true
      },
      "outputs": [],
      "source": [
        "class SharedFusionLayer(nn.Module):\n",
        "    def __init__(self):\n",
        "        super(SharedFusionLayer, self).__init__()\n",
        "        '''  self.attention represent calculating perform self-attention (Vaswani et al., 2017) on the text and image embeddings\n",
        "        and equations equation 13 of the Shared Fusion model\n",
        "        Reference : https://pytorch.org/docs/stable/generated/torch.nn.MultiheadAttention.html\n",
        "        '''\n",
        "        self.attention = nn.MultiheadAttention(embed_dim=768, num_heads=8, batch_first=True)\n",
        "        self.gate = nn.Linear(768, 768)\n",
        "        self.alpha1 = nn.Parameter(torch.tensor(0.25))\n",
        "        self.alpha2 = nn.Parameter(torch.tensor(0.25))\n",
        "        self.beta1 = nn.Parameter(torch.tensor(0.25))\n",
        "        self.beta2 = nn.Parameter(torch.tensor(0.25))\n",
        "\n",
        "    def forward(self, E_t, E_v):\n",
        "        # Cross-modal attention\n",
        "        F_vt, _ = self.attention(E_t, E_v, E_v)\n",
        "        F_tv, _ = self.attention(E_v, E_t, E_t)\n",
        "\n",
        "        # Resize F_tv to match F_vt's sequence length\n",
        "        if F_tv.size(1) != F_vt.size(1):\n",
        "            F_tv = F_tv.transpose(1, 2)\n",
        "            F_tv = torch.nn.functional.interpolate(F_tv, size=F_vt.size(1), mode='linear', align_corners=False)\n",
        "            F_tv = F_tv.transpose(1, 2)\n",
        "\n",
        "        # Gating mechanism\n",
        "        G_t = torch.sigmoid(self.gate(E_t))\n",
        "        G_v = torch.sigmoid(self.gate(E_v))\n",
        "\n",
        "        # Resize G_v to match F_vt's sequence length\n",
        "        if G_v.size(1) != F_vt.size(1):\n",
        "            G_v = G_v.transpose(1, 2)\n",
        "            G_v = torch.nn.functional.interpolate(G_v, size=F_vt.size(1), mode='linear', align_corners=False)\n",
        "            G_v = G_v.transpose(1, 2)\n",
        "\n",
        "        # Fusion\n",
        "        F1 = G_v * F_tv + (1 - G_v) * F_vt\n",
        "        F2 = G_t * F_tv + (1 - G_t) * F_vt\n",
        "        F_v = G_v * E_t + (1 - G_v) * F_tv\n",
        "        F_t = G_t * E_t + (1 - G_t) * F_vt\n",
        "\n",
        "        F_fused = G_t * F_vt + (1 - G_t) * E_t\n",
        "\n",
        "        # Final fused encoder representation\n",
        "        F_sf = (self.alpha1 * F1 +\n",
        "                self.alpha2 * F2  +\n",
        "                self.beta1 * F_v +\n",
        "                self.beta2 * F_t)\n",
        "        Z = E_t + F_fused\n",
        "        return Z\n"
      ]
    },
    {
      "cell_type": "markdown",
      "metadata": {
        "id": "5Ca1nSiyng0l"
      },
      "source": [
        "### Turbo Model based on BART"
      ]
    },
    {
      "cell_type": "code",
      "execution_count": null,
      "metadata": {
        "execution": {
          "iopub.execute_input": "2025-04-06T11:05:05.993332Z",
          "iopub.status.busy": "2025-04-06T11:05:05.993003Z",
          "iopub.status.idle": "2025-04-06T11:05:06.000516Z",
          "shell.execute_reply": "2025-04-06T11:05:05.999742Z",
          "shell.execute_reply.started": "2025-04-06T11:05:05.993304Z"
        },
        "id": "R0xjuySjNLgO",
        "trusted": true
      },
      "outputs": [],
      "source": [
        "class TurboModel(nn.Module):\n",
        "    \"\"\"\n",
        "    Turbo Model which implements the SharedFusion Layer and passes the output to BART to train\n",
        "    \"\"\"\n",
        "    def __init__(self, bart_model_name='facebook/bart-base', vit_model_name='google/vit-base-patch16-224'):\n",
        "        super(TurboModel, self).__init__()\n",
        "        self.device = torch.device(\"cuda\" if torch.cuda.is_available() else \"cpu\")\n",
        "        self.vit = ViTModel.from_pretrained(vit_model_name)\n",
        "        for param in self.vit.parameters():\n",
        "            param.requires_grad = False\n",
        "        self.bart = BartForConditionalGeneration.from_pretrained(bart_model_name)\n",
        "        self.tokenizer = BartTokenizer.from_pretrained(bart_model_name)\n",
        "        self.shared_fusion_layer = SharedFusionLayer()\n",
        "\n",
        "    def forward(self, input_ids, attention_mask, pixel_values, labels=None):\n",
        "        # Image embeddings\n",
        "        E_v = self.vit(pixel_values=pixel_values).last_hidden_state\n",
        "        # Text embeddings\n",
        "        E_t = self.bart.model.encoder(input_ids=input_ids, attention_mask=attention_mask).last_hidden_state\n",
        "        # Fusion\n",
        "        F_Sf = self.shared_fusion_layer(E_t, E_v)\n",
        "\n",
        "        if labels is not None:\n",
        "            outputs = self.bart(encoder_outputs=(F_Sf,), labels=labels)\n",
        "            return outputs\n",
        "        else:\n",
        "            encoder_outputs = BaseModelOutput(last_hidden_state=F_Sf)\n",
        "            return self.bart.generate(\n",
        "                encoder_outputs=encoder_outputs,\n",
        "                attention_mask=attention_mask,\n",
        "                max_length=50,\n",
        "                num_beams=4,\n",
        "                early_stopping=True\n",
        "            )\n",
        "\n",
        "    def generate_explanation(self, input_ids, attention_mask, pixel_values, max_length=50):\n",
        "        E_v = self.vit(pixel_values=pixel_values).last_hidden_state\n",
        "        E_t = self.bart.model.encoder(input_ids=input_ids, attention_mask=attention_mask).last_hidden_state\n",
        "        Z = self.shared_fusion_layer(E_t, E_v)\n",
        "\n",
        "        encoder_outputs = BaseModelOutput(last_hidden_state=Z)\n",
        "        generated_ids = self.bart.generate(\n",
        "            encoder_outputs=encoder_outputs,\n",
        "            attention_mask=attention_mask,\n",
        "            max_length=max_length,\n",
        "            num_beams=4,\n",
        "            early_stopping=True\n",
        "        )\n",
        "        return generated_ids"
      ]
    },
    {
      "cell_type": "code",
      "execution_count": null,
      "metadata": {
        "execution": {
          "iopub.execute_input": "2025-04-06T11:05:07.298691Z",
          "iopub.status.busy": "2025-04-06T11:05:07.298416Z",
          "iopub.status.idle": "2025-04-06T11:05:07.306106Z",
          "shell.execute_reply": "2025-04-06T11:05:07.305279Z",
          "shell.execute_reply.started": "2025-04-06T11:05:07.298669Z"
        },
        "id": "6zyP8E5wNLgP",
        "trusted": true
      },
      "outputs": [],
      "source": [
        "def compute_metrics(preds, labels):\n",
        "    \"\"\"\n",
        "    Computing all required metrics and returning the dictionary\n",
        "    \"\"\"\n",
        "    # Tokenize predictions and references for BLEU computation\n",
        "    tokenized_preds = [word_tokenize(pred.lower()) for pred in preds]\n",
        "    tokenized_refs = [[word_tokenize(ref.lower())] for ref in labels]\n",
        "\n",
        "    # Compute BLEU scores: BLEU-1, BLEU-2, BLEU-3, BLEU-4\n",
        "    bleu1 = corpus_bleu(tokenized_refs, tokenized_preds, weights=(1, 0, 0, 0))\n",
        "    bleu2 = corpus_bleu(tokenized_refs, tokenized_preds, weights=(0.5, 0.5, 0, 0))\n",
        "    bleu3 = corpus_bleu(tokenized_refs, tokenized_preds, weights=(0.33, 0.33, 0.33, 0))\n",
        "    bleu4 = corpus_bleu(tokenized_refs, tokenized_preds, weights=(0.25, 0.25, 0.25, 0.25))\n",
        "\n",
        "    # Compute METEOR: compute individual scores and average them.\n",
        "    meteor_scores = [meteor_score([ref], pred) for pred, ref in zip(preds, labels)]\n",
        "    meteor_avg = sum(meteor_scores) / len(meteor_scores)\n",
        "\n",
        "    # Compute ROUGE scores using rouge_score package\n",
        "    scorer = rouge_scorer.RougeScorer(['rouge1', 'rouge2', 'rougeL'], use_stemmer=True)\n",
        "    rouge1_scores, rouge2_scores, rougeL_scores = [], [], []\n",
        "    for pred, ref in zip(preds, labels):\n",
        "        scores = scorer.score(ref, pred)\n",
        "        rouge1_scores.append(scores['rouge1'].fmeasure)\n",
        "        rouge2_scores.append(scores['rouge2'].fmeasure)\n",
        "        rougeL_scores.append(scores['rougeL'].fmeasure)\n",
        "    rouge1_avg = sum(rouge1_scores) / len(rouge1_scores)\n",
        "    rouge2_avg = sum(rouge2_scores) / len(rouge2_scores)\n",
        "    rougeL_avg = sum(rougeL_scores) / len(rougeL_scores)\n",
        "\n",
        "    # Compute BERTScore using bert-score library\n",
        "    P, R, F1 = bert_score(preds, labels, lang=\"en\", verbose=False)\n",
        "    bertscore_avg = F1.mean().item()\n",
        "\n",
        "    return {\n",
        "        \"BLEU-1\": bleu1,\n",
        "        \"BLEU-2\": bleu2,\n",
        "        \"BLEU-3\": bleu3,\n",
        "        \"BLEU-4\": bleu4,\n",
        "        \"ROUGE-1\": rouge1_avg,\n",
        "        \"ROUGE-2\": rouge2_avg,\n",
        "        \"ROUGE-L\": rougeL_avg,\n",
        "        \"METEOR\": meteor_avg,\n",
        "        \"BERTScore Precision\": P.mean().item(),\n",
        "        \"BERTScore Recall\": R.mean().item(),\n",
        "        \"BERTScore F1\": bertscore_avg\n",
        "    }"
      ]
    },
    {
      "cell_type": "code",
      "execution_count": null,
      "metadata": {
        "execution": {
          "iopub.execute_input": "2025-04-06T11:05:09.779774Z",
          "iopub.status.busy": "2025-04-06T11:05:09.779497Z",
          "iopub.status.idle": "2025-04-06T11:05:09.78501Z",
          "shell.execute_reply": "2025-04-06T11:05:09.784071Z",
          "shell.execute_reply.started": "2025-04-06T11:05:09.779754Z"
        },
        "id": "p33PPQAaNLgQ",
        "trusted": true
      },
      "outputs": [],
      "source": [
        "def train(model, dataloader, optimizer, device):\n",
        "    model.train()\n",
        "    total_loss = 0\n",
        "    for batch in tqdm(dataloader, desc=\"Training\"):\n",
        "        optimizer.zero_grad()\n",
        "        input_ids = batch[\"input_ids\"].to(device)\n",
        "        attention_mask = batch[\"attention_mask\"].to(device)\n",
        "        labels = batch[\"labels\"].to(device)\n",
        "        pixel_values = batch[\"pixel_values\"].to(device)\n",
        "\n",
        "        outputs = model(input_ids=input_ids, attention_mask=attention_mask, pixel_values=pixel_values, labels=labels)\n",
        "        loss = outputs.loss\n",
        "        loss.backward()\n",
        "        optimizer.step()\n",
        "        total_loss += loss.item()\n",
        "    avg_loss = total_loss / len(dataloader)\n",
        "    return avg_loss\n"
      ]
    },
    {
      "cell_type": "code",
      "execution_count": null,
      "metadata": {
        "execution": {
          "iopub.execute_input": "2025-04-06T11:05:11.703327Z",
          "iopub.status.busy": "2025-04-06T11:05:11.702997Z",
          "iopub.status.idle": "2025-04-06T11:05:11.70935Z",
          "shell.execute_reply": "2025-04-06T11:05:11.708522Z",
          "shell.execute_reply.started": "2025-04-06T11:05:11.703299Z"
        },
        "id": "M8kW_p5TNLgQ",
        "trusted": true
      },
      "outputs": [],
      "source": [
        "def evaluate(model, dataloader, device):\n",
        "    model.eval()\n",
        "    all_preds = []\n",
        "    all_labels = []\n",
        "    total_loss = 0\n",
        "    count = 0\n",
        "\n",
        "    with torch.no_grad():\n",
        "        for batch in tqdm(dataloader, desc=\"Evaluating\", leave=False):\n",
        "            input_ids = batch[\"input_ids\"].to(device)\n",
        "            attention_mask = batch[\"attention_mask\"].to(device)\n",
        "            labels = batch[\"labels\"].to(device)\n",
        "            pixel_values = batch[\"pixel_values\"].to(device)\n",
        "\n",
        "            # Forward pass to get loss\n",
        "            outputs = model(\n",
        "                input_ids=input_ids,\n",
        "                attention_mask=attention_mask,\n",
        "                pixel_values=pixel_values,\n",
        "                labels=labels\n",
        "            )\n",
        "            loss = outputs.loss\n",
        "            total_loss += loss.item()\n",
        "            count += 1\n",
        "\n",
        "            # Generate predictions\n",
        "            generated_ids = model.generate_explanation(\n",
        "                input_ids=input_ids,\n",
        "                attention_mask=attention_mask,\n",
        "                pixel_values=pixel_values\n",
        "            )\n",
        "            # Decoding to get sentences\n",
        "            preds = model.tokenizer.batch_decode(generated_ids, skip_special_tokens=True)\n",
        "            refs = model.tokenizer.batch_decode(labels, skip_special_tokens=True)\n",
        "            all_preds.extend(preds)\n",
        "            all_labels.extend(refs)\n",
        "\n",
        "    avg_loss = total_loss / count\n",
        "    metrics = compute_metrics(all_preds, all_labels)\n",
        "    return metrics, all_preds, all_labels, avg_loss"
      ]
    },
    {
      "cell_type": "code",
      "execution_count": null,
      "metadata": {
        "execution": {
          "iopub.execute_input": "2025-04-06T11:05:13.812796Z",
          "iopub.status.busy": "2025-04-06T11:05:13.812516Z",
          "iopub.status.idle": "2025-04-06T11:05:13.816824Z",
          "shell.execute_reply": "2025-04-06T11:05:13.815983Z",
          "shell.execute_reply.started": "2025-04-06T11:05:13.812776Z"
        },
        "id": "iXrUTNZWNLgQ",
        "trusted": true
      },
      "outputs": [],
      "source": [
        "# Set up paths\n",
        "train_tsv = aarzooiiitd_sarcasm_path  + '/' + \"train_df.tsv\"\n",
        "val_tsv = aarzooiiitd_sarcasm_path  + '/' + \"val_df.tsv\"\n",
        "d_train_pkl = aarzooiiitd_sarcasm_path  + '/' + \"D_train.pkl\"\n",
        "o_train_pkl = aarzooiiitd_sarcasm_path  + '/' + \"O_train.pkl\"\n",
        "d_val_pkl = aarzooiiitd_sarcasm_path  + '/' + \"D_val.pkl\"\n",
        "o_val_pkl = aarzooiiitd_sarcasm_path  + '/' + \"O_val.pkl\"\n",
        "image_dir = aarzooiiitd_sarcasm_path  + '/' + \"images-20250401T152822Z-001/images\""
      ]
    },
    {
      "cell_type": "code",
      "execution_count": null,
      "metadata": {
        "execution": {
          "iopub.execute_input": "2025-04-06T11:05:15.652783Z",
          "iopub.status.busy": "2025-04-06T11:05:15.652506Z",
          "iopub.status.idle": "2025-04-06T11:05:16.473066Z",
          "shell.execute_reply": "2025-04-06T11:05:16.472207Z",
          "shell.execute_reply.started": "2025-04-06T11:05:15.652763Z"
        },
        "id": "FYVD9wn-NLgQ",
        "trusted": true
      },
      "outputs": [],
      "source": [
        "device = torch.device(\"cuda\" if torch.cuda.is_available() else \"cpu\")\n",
        "\n",
        "# Initialize tokenizer and feature extractor from BART and ViT\n",
        "tokenizer = BartTokenizer.from_pretrained(\"facebook/bart-base\")\n",
        "feature_extractor = ViTFeatureExtractor.from_pretrained(\"google/vit-base-patch16-224\")\n",
        "\n",
        "# Create datasets and dataloaders\n",
        "train_dataset = MorePlusDataset(train_tsv, d_train_pkl, o_train_pkl, image_dir, tokenizer)\n",
        "val_dataset = MorePlusDataset(val_tsv, d_val_pkl, o_val_pkl, image_dir, tokenizer)\n",
        "\n",
        "train_loader = DataLoader(train_dataset, batch_size=8, shuffle=True)\n",
        "val_loader = DataLoader(val_dataset, batch_size=8, shuffle=False)"
      ]
    },
    {
      "cell_type": "code",
      "execution_count": null,
      "metadata": {
        "colab": {
          "base_uri": "https://localhost:8080/"
        },
        "execution": {
          "iopub.execute_input": "2025-04-06T11:05:19.370721Z",
          "iopub.status.busy": "2025-04-06T11:05:19.37042Z",
          "iopub.status.idle": "2025-04-06T11:05:25.305634Z",
          "shell.execute_reply": "2025-04-06T11:05:25.304964Z",
          "shell.execute_reply.started": "2025-04-06T11:05:19.3707Z"
        },
        "id": "LmfYaaf2NLgQ",
        "outputId": "8fd5ea92-ce79-47bf-db96-152fb2e36705",
        "trusted": true
      },
      "outputs": [
        {
          "name": "stderr",
          "output_type": "stream",
          "text": [
            "Some weights of ViTModel were not initialized from the model checkpoint at google/vit-base-patch16-224 and are newly initialized: ['pooler.dense.bias', 'pooler.dense.weight']\n",
            "You should probably TRAIN this model on a down-stream task to be able to use it for predictions and inference.\n"
          ]
        }
      ],
      "source": [
        "model = TurboModel()\n",
        "model.to(device)\n",
        "\n",
        "# Set up optimizer (using different LR for different parts if needed)\n",
        "optimizer = torch.optim.AdamW(model.parameters(), lr=1e-5)\n",
        "\n",
        "num_epochs = 10"
      ]
    },
    {
      "cell_type": "code",
      "execution_count": null,
      "metadata": {
        "colab": {
          "base_uri": "https://localhost:8080/"
        },
        "execution": {
          "iopub.execute_input": "2025-04-06T11:05:35.912834Z",
          "iopub.status.busy": "2025-04-06T11:05:35.912548Z",
          "iopub.status.idle": "2025-04-06T11:05:35.917589Z",
          "shell.execute_reply": "2025-04-06T11:05:35.916774Z",
          "shell.execute_reply.started": "2025-04-06T11:05:35.912812Z"
        },
        "id": "GLV0k_J6NLgR",
        "outputId": "2941ec0f-1aa2-4de7-f32b-25440ee0e22f",
        "trusted": true
      },
      "outputs": [
        {
          "name": "stdout",
          "output_type": "stream",
          "text": [
            "Created directory model_checkpoints\n"
          ]
        }
      ],
      "source": [
        "if not os.path.exists('model_checkpoints'):\n",
        "    os.makedirs('model_checkpoints')\n",
        "    print(\"Created directory model_checkpoints\")"
      ]
    },
    {
      "cell_type": "code",
      "execution_count": null,
      "metadata": {
        "execution": {
          "iopub.execute_input": "2025-04-06T11:05:37.86206Z",
          "iopub.status.busy": "2025-04-06T11:05:37.861784Z",
          "iopub.status.idle": "2025-04-06T11:05:37.86551Z",
          "shell.execute_reply": "2025-04-06T11:05:37.8647Z",
          "shell.execute_reply.started": "2025-04-06T11:05:37.862039Z"
        },
        "id": "GmRLRoxmNLgR",
        "trusted": true
      },
      "outputs": [],
      "source": [
        "train_losses = []\n",
        "val_losses = []"
      ]
    },
    {
      "cell_type": "code",
      "execution_count": null,
      "metadata": {
        "colab": {
          "base_uri": "https://localhost:8080/"
        },
        "execution": {
          "iopub.execute_input": "2025-04-06T11:05:39.415926Z",
          "iopub.status.busy": "2025-04-06T11:05:39.415647Z",
          "iopub.status.idle": "2025-04-06T12:09:25.961384Z",
          "shell.execute_reply": "2025-04-06T12:09:25.960628Z",
          "shell.execute_reply.started": "2025-04-06T11:05:39.415905Z"
        },
        "id": "rHo1Z7LRNLgS",
        "outputId": "6f7c9167-7a92-4eb5-87ed-c6010c3a7b0e",
        "trusted": true
      },
      "outputs": [
        {
          "name": "stdout",
          "output_type": "stream",
          "text": [
            "Epoch 1/10\n"
          ]
        },
        {
          "name": "stderr",
          "output_type": "stream",
          "text": [
            "Training: 100%|██████████| 315/315 [04:47<00:00,  1.10it/s]\n"
          ]
        },
        {
          "name": "stdout",
          "output_type": "stream",
          "text": [
            "Training Loss: 4.5802\n",
            "Saved checkpoint: model_checkpoints/turbo_epoch1.pt\n"
          ]
        },
        {
          "name": "stderr",
          "output_type": "stream",
          "text": [
            "Some weights of RobertaModel were not initialized from the model checkpoint at roberta-large and are newly initialized: ['pooler.dense.bias', 'pooler.dense.weight']\n",
            "You should probably TRAIN this model on a down-stream task to be able to use it for predictions and inference.\n",
            "Warning: Empty candidate sentence detected; setting raw BERTscores to 0.\n",
            "Warning: Empty candidate sentence detected; setting raw BERTscores to 0.\n",
            "Warning: Empty candidate sentence detected; setting raw BERTscores to 0.\n"
          ]
        },
        {
          "name": "stdout",
          "output_type": "stream",
          "text": [
            "Validation Loss: 0.3719\n",
            "Validation Metrics: {'BLEU-1': 0.4629261418884106, 'BLEU-2': 0.37696989793778596, 'BLEU-3': 0.32187051749610684, 'BLEU-4': 0.2760521828645803, 'ROUGE-1': 0.47883660683558, 'ROUGE-2': 0.31816568085753494, 'ROUGE-L': 0.46017428601455507, 'METEOR': 0.36648522636138414, 'BERTScore Precision': 0.879865288734436, 'BERTScore Recall': 0.8770987391471863, 'BERTScore F1': 0.8781840801239014}\n",
            "Epoch 2/10\n"
          ]
        },
        {
          "name": "stderr",
          "output_type": "stream",
          "text": [
            "Training: 100%|██████████| 315/315 [04:39<00:00,  1.13it/s]\n"
          ]
        },
        {
          "name": "stdout",
          "output_type": "stream",
          "text": [
            "Training Loss: 0.3303\n",
            "Saved checkpoint: model_checkpoints/turbo_epoch2.pt\n"
          ]
        },
        {
          "name": "stderr",
          "output_type": "stream",
          "text": [
            "Some weights of RobertaModel were not initialized from the model checkpoint at roberta-large and are newly initialized: ['pooler.dense.bias', 'pooler.dense.weight']\n",
            "You should probably TRAIN this model on a down-stream task to be able to use it for predictions and inference.\n"
          ]
        },
        {
          "name": "stdout",
          "output_type": "stream",
          "text": [
            "Validation Loss: 0.1746\n",
            "Validation Metrics: {'BLEU-1': 0.4901563425619773, 'BLEU-2': 0.4016758853625153, 'BLEU-3': 0.3461498664087722, 'BLEU-4': 0.2996985555505869, 'ROUGE-1': 0.5085971644329733, 'ROUGE-2': 0.3435467436266168, 'ROUGE-L': 0.48116714577482567, 'METEOR': 0.38726003772742507, 'BERTScore Precision': 0.9113345742225647, 'BERTScore Recall': 0.9034753441810608, 'BERTScore F1': 0.9071275591850281}\n",
            "Epoch 3/10\n"
          ]
        },
        {
          "name": "stderr",
          "output_type": "stream",
          "text": [
            "Training: 100%|██████████| 315/315 [04:36<00:00,  1.14it/s]\n"
          ]
        },
        {
          "name": "stdout",
          "output_type": "stream",
          "text": [
            "Training Loss: 0.1980\n",
            "Saved checkpoint: model_checkpoints/turbo_epoch3.pt\n"
          ]
        },
        {
          "name": "stderr",
          "output_type": "stream",
          "text": [
            "Some weights of RobertaModel were not initialized from the model checkpoint at roberta-large and are newly initialized: ['pooler.dense.bias', 'pooler.dense.weight']\n",
            "You should probably TRAIN this model on a down-stream task to be able to use it for predictions and inference.\n"
          ]
        },
        {
          "name": "stdout",
          "output_type": "stream",
          "text": [
            "Validation Loss: 0.1580\n",
            "Validation Metrics: {'BLEU-1': 0.48138339395917473, 'BLEU-2': 0.39619397189997, 'BLEU-3': 0.34182477613655216, 'BLEU-4': 0.2960909301233198, 'ROUGE-1': 0.5031153810782941, 'ROUGE-2': 0.33491542994695317, 'ROUGE-L': 0.479165832788216, 'METEOR': 0.38924539540508635, 'BERTScore Precision': 0.9135168790817261, 'BERTScore Recall': 0.9039142727851868, 'BERTScore F1': 0.9084537029266357}\n",
            "Epoch 4/10\n"
          ]
        },
        {
          "name": "stderr",
          "output_type": "stream",
          "text": [
            "Training: 100%|██████████| 315/315 [04:37<00:00,  1.14it/s]\n"
          ]
        },
        {
          "name": "stdout",
          "output_type": "stream",
          "text": [
            "Training Loss: 0.1641\n",
            "Saved checkpoint: model_checkpoints/turbo_epoch4.pt\n"
          ]
        },
        {
          "name": "stderr",
          "output_type": "stream",
          "text": [
            "Some weights of RobertaModel were not initialized from the model checkpoint at roberta-large and are newly initialized: ['pooler.dense.bias', 'pooler.dense.weight']\n",
            "You should probably TRAIN this model on a down-stream task to be able to use it for predictions and inference.\n"
          ]
        },
        {
          "name": "stdout",
          "output_type": "stream",
          "text": [
            "Validation Loss: 0.1369\n",
            "Validation Metrics: {'BLEU-1': 0.5083402365680324, 'BLEU-2': 0.41920582684734975, 'BLEU-3': 0.36190265643929737, 'BLEU-4': 0.3132269515604447, 'ROUGE-1': 0.5278494578805831, 'ROUGE-2': 0.36486064110749783, 'ROUGE-L': 0.494218145816636, 'METEOR': 0.4137022800775351, 'BERTScore Precision': 0.9178861975669861, 'BERTScore Recall': 0.9095094203948975, 'BERTScore F1': 0.9134642481803894}\n",
            "Epoch 5/10\n"
          ]
        },
        {
          "name": "stderr",
          "output_type": "stream",
          "text": [
            "Training: 100%|██████████| 315/315 [04:36<00:00,  1.14it/s]\n"
          ]
        },
        {
          "name": "stdout",
          "output_type": "stream",
          "text": [
            "Training Loss: 0.1427\n",
            "Saved checkpoint: model_checkpoints/turbo_epoch5.pt\n"
          ]
        },
        {
          "name": "stderr",
          "output_type": "stream",
          "text": [
            "Some weights of RobertaModel were not initialized from the model checkpoint at roberta-large and are newly initialized: ['pooler.dense.bias', 'pooler.dense.weight']\n",
            "You should probably TRAIN this model on a down-stream task to be able to use it for predictions and inference.\n"
          ]
        },
        {
          "name": "stdout",
          "output_type": "stream",
          "text": [
            "Validation Loss: 0.1284\n",
            "Validation Metrics: {'BLEU-1': 0.5216697218444206, 'BLEU-2': 0.4374150629041245, 'BLEU-3': 0.38210733555918763, 'BLEU-4': 0.33404492646046413, 'ROUGE-1': 0.5299052001318139, 'ROUGE-2': 0.37725306697747113, 'ROUGE-L': 0.4994322905566597, 'METEOR': 0.42796839930869607, 'BERTScore Precision': 0.9196717143058777, 'BERTScore Recall': 0.911685585975647, 'BERTScore F1': 0.9154557585716248}\n",
            "Epoch 6/10\n"
          ]
        },
        {
          "name": "stderr",
          "output_type": "stream",
          "text": [
            "Training: 100%|██████████| 315/315 [04:36<00:00,  1.14it/s]\n"
          ]
        },
        {
          "name": "stdout",
          "output_type": "stream",
          "text": [
            "Training Loss: 0.1298\n",
            "Saved checkpoint: model_checkpoints/turbo_epoch6.pt\n"
          ]
        },
        {
          "name": "stderr",
          "output_type": "stream",
          "text": [
            "Some weights of RobertaModel were not initialized from the model checkpoint at roberta-large and are newly initialized: ['pooler.dense.bias', 'pooler.dense.weight']\n",
            "You should probably TRAIN this model on a down-stream task to be able to use it for predictions and inference.\n"
          ]
        },
        {
          "name": "stdout",
          "output_type": "stream",
          "text": [
            "Validation Loss: 0.1235\n",
            "Validation Metrics: {'BLEU-1': 0.518476133554367, 'BLEU-2': 0.43764303015599293, 'BLEU-3': 0.3866361075661891, 'BLEU-4': 0.3420209051127739, 'ROUGE-1': 0.5336406807659194, 'ROUGE-2': 0.38549840774352506, 'ROUGE-L': 0.5114144417177975, 'METEOR': 0.4308216278618235, 'BERTScore Precision': 0.9228239059448242, 'BERTScore Recall': 0.9124187231063843, 'BERTScore F1': 0.9173898100852966}\n",
            "Epoch 7/10\n"
          ]
        },
        {
          "name": "stderr",
          "output_type": "stream",
          "text": [
            "Training: 100%|██████████| 315/315 [04:37<00:00,  1.14it/s]\n"
          ]
        },
        {
          "name": "stdout",
          "output_type": "stream",
          "text": [
            "Training Loss: 0.1209\n",
            "Saved checkpoint: model_checkpoints/turbo_epoch7.pt\n"
          ]
        },
        {
          "name": "stderr",
          "output_type": "stream",
          "text": [
            "Some weights of RobertaModel were not initialized from the model checkpoint at roberta-large and are newly initialized: ['pooler.dense.bias', 'pooler.dense.weight']\n",
            "You should probably TRAIN this model on a down-stream task to be able to use it for predictions and inference.\n"
          ]
        },
        {
          "name": "stdout",
          "output_type": "stream",
          "text": [
            "Validation Loss: 0.1189\n",
            "Validation Metrics: {'BLEU-1': 0.5349350447465363, 'BLEU-2': 0.4520309289389566, 'BLEU-3': 0.39852037577148874, 'BLEU-4': 0.3522825790763408, 'ROUGE-1': 0.5409927222963142, 'ROUGE-2': 0.38806521859239895, 'ROUGE-L': 0.5180854701949186, 'METEOR': 0.44296444774721294, 'BERTScore Precision': 0.9250602722167969, 'BERTScore Recall': 0.9151489734649658, 'BERTScore F1': 0.919858992099762}\n",
            "Epoch 8/10\n"
          ]
        },
        {
          "name": "stderr",
          "output_type": "stream",
          "text": [
            "Training: 100%|██████████| 315/315 [04:37<00:00,  1.13it/s]\n"
          ]
        },
        {
          "name": "stdout",
          "output_type": "stream",
          "text": [
            "Training Loss: 0.1122\n",
            "Saved checkpoint: model_checkpoints/turbo_epoch8.pt\n"
          ]
        },
        {
          "name": "stderr",
          "output_type": "stream",
          "text": [
            "Some weights of RobertaModel were not initialized from the model checkpoint at roberta-large and are newly initialized: ['pooler.dense.bias', 'pooler.dense.weight']\n",
            "You should probably TRAIN this model on a down-stream task to be able to use it for predictions and inference.\n"
          ]
        },
        {
          "name": "stdout",
          "output_type": "stream",
          "text": [
            "Validation Loss: 0.1156\n",
            "Validation Metrics: {'BLEU-1': 0.5450143134719282, 'BLEU-2': 0.4617035139604815, 'BLEU-3': 0.40852466904287926, 'BLEU-4': 0.3619038389657191, 'ROUGE-1': 0.5465610258846226, 'ROUGE-2': 0.3915893447275643, 'ROUGE-L': 0.5232968592598605, 'METEOR': 0.4479438555295153, 'BERTScore Precision': 0.9241625070571899, 'BERTScore Recall': 0.9163749814033508, 'BERTScore F1': 0.9200149774551392}\n",
            "Epoch 9/10\n"
          ]
        },
        {
          "name": "stderr",
          "output_type": "stream",
          "text": [
            "Training: 100%|██████████| 315/315 [04:38<00:00,  1.13it/s]\n"
          ]
        },
        {
          "name": "stdout",
          "output_type": "stream",
          "text": [
            "Training Loss: 0.1055\n",
            "Saved checkpoint: model_checkpoints/turbo_epoch9.pt\n"
          ]
        },
        {
          "name": "stderr",
          "output_type": "stream",
          "text": [
            "Some weights of RobertaModel were not initialized from the model checkpoint at roberta-large and are newly initialized: ['pooler.dense.bias', 'pooler.dense.weight']\n",
            "You should probably TRAIN this model on a down-stream task to be able to use it for predictions and inference.\n"
          ]
        },
        {
          "name": "stdout",
          "output_type": "stream",
          "text": [
            "Validation Loss: 0.1125\n",
            "Validation Metrics: {'BLEU-1': 0.5630849615380769, 'BLEU-2': 0.4771368548076897, 'BLEU-3': 0.4220954663170926, 'BLEU-4': 0.3740293841651546, 'ROUGE-1': 0.5599441769393023, 'ROUGE-2': 0.40527258923934456, 'ROUGE-L': 0.5362022665417107, 'METEOR': 0.4705766656968886, 'BERTScore Precision': 0.9262163639068604, 'BERTScore Recall': 0.9192990064620972, 'BERTScore F1': 0.9225054979324341}\n",
            "Epoch 10/10\n"
          ]
        },
        {
          "name": "stderr",
          "output_type": "stream",
          "text": [
            "Training: 100%|██████████| 315/315 [04:37<00:00,  1.13it/s]\n"
          ]
        },
        {
          "name": "stdout",
          "output_type": "stream",
          "text": [
            "Training Loss: 0.0983\n",
            "Saved checkpoint: model_checkpoints/turbo_epoch10.pt\n"
          ]
        },
        {
          "name": "stderr",
          "output_type": "stream",
          "text": [
            "Some weights of RobertaModel were not initialized from the model checkpoint at roberta-large and are newly initialized: ['pooler.dense.bias', 'pooler.dense.weight']\n",
            "You should probably TRAIN this model on a down-stream task to be able to use it for predictions and inference.\n"
          ]
        },
        {
          "name": "stdout",
          "output_type": "stream",
          "text": [
            "Validation Loss: 0.1101\n",
            "Validation Metrics: {'BLEU-1': 0.5519632281472142, 'BLEU-2': 0.47184157546324434, 'BLEU-3': 0.4195082366510512, 'BLEU-4': 0.3729495911415091, 'ROUGE-1': 0.5568063083957235, 'ROUGE-2': 0.40541958157948194, 'ROUGE-L': 0.5322956650018713, 'METEOR': 0.46052634981972435, 'BERTScore Precision': 0.9268147349357605, 'BERTScore Recall': 0.9179215431213379, 'BERTScore F1': 0.922130823135376}\n"
          ]
        }
      ],
      "source": [
        "for epoch in range(num_epochs):\n",
        "    print(f\"Epoch {epoch+1}/{num_epochs}\")\n",
        "    train_loss = train(model, train_loader, optimizer, device)\n",
        "    print(f\"Training Loss: {train_loss:.4f}\")\n",
        "    train_losses.append(train_loss)\n",
        "    # Save model checkpoint after each epoch\n",
        "    checkpoint_path = f\"model_checkpoints/turbo_epoch{epoch+1}.pt\"\n",
        "    torch.save(model.state_dict(), checkpoint_path)\n",
        "    print(f\"Saved checkpoint: {checkpoint_path}\")\n",
        "\n",
        "    # Evaluate on validation set\n",
        "    metrics, preds, refs, val_loss = evaluate(model, val_loader, device)\n",
        "    val_losses.append(val_loss)\n",
        "    print(f\"Validation Loss: {val_loss:.4f}\")\n",
        "    print(\"Validation Metrics:\", metrics)\n",
        "    if (epoch == num_epochs - 1):\n",
        "        with open(f\"val_explanations_epoch{epoch+1}.txt\", \"w\") as f:\n",
        "            for i in range(10):\n",
        "                f.write(\"Reference Text: \" + refs[i] + \"\\n\")\n",
        "                f.write(\"Predicted Text: \" + preds[i] + \"\\n\")\n",
        "                f.write(\"\\n\")"
      ]
    },
    {
      "cell_type": "code",
      "execution_count": null,
      "metadata": {
        "colab": {
          "base_uri": "https://localhost:8080/",
          "height": 507
        },
        "execution": {
          "iopub.execute_input": "2025-04-06T12:14:50.707757Z",
          "iopub.status.busy": "2025-04-06T12:14:50.707454Z",
          "iopub.status.idle": "2025-04-06T12:14:51.017867Z",
          "shell.execute_reply": "2025-04-06T12:14:51.01709Z",
          "shell.execute_reply.started": "2025-04-06T12:14:50.70773Z"
        },
        "id": "CiaRUMmjNLgS",
        "outputId": "252ba2ea-bd7f-4194-8508-8dd58055ff36",
        "trusted": true
      },
      "outputs": [
        {
          "data": {
            "image/png": "[encoded data removed]",
            "text/plain": [
              "<Figure size 800x500 with 1 Axes>"
            ]
          },
          "metadata": {},
          "output_type": "display_data"
        }
      ],
      "source": [
        "plt.figure(figsize=(8, 5))\n",
        "plt.plot(train_losses, label='Training Loss', marker='o')\n",
        "plt.plot(val_losses, label='Validation Loss', marker='x')\n",
        "plt.xlabel('Epochs')\n",
        "plt.ylabel('Loss')\n",
        "plt.title('Training vs Validation Loss')\n",
        "plt.xticks(range(1, 11))\n",
        "plt.legend()\n",
        "plt.grid(True)\n",
        "plt.tight_layout()\n",
        "plt.show()"
      ]
    },
    {
      "cell_type": "markdown",
      "metadata": {
        "id": "V87dErA6n0g2"
      },
      "source": [
        "Due to large size of model checkpoints, we have shared the Google Drive link for all the model checkpoints saved after each epoch:\n",
        "[Model Checkpoints](https://drive.google.com/drive/folders/1nbtbUeArKHvQNIDHlnNYGfG1WWA-PHYw?usp=sharing)"
      ]
    },
    {
      "cell_type": "markdown",
      "metadata": {
        "id": "tg5B-chRnyPZ"
      },
      "source": [
        "### Testing and Model Inference"
      ]
    },
    {
      "cell_type": "code",
      "execution_count": null,
      "metadata": {
        "execution": {
          "iopub.execute_input": "2025-04-05T22:16:44.899292Z",
          "iopub.status.busy": "2025-04-05T22:16:44.89894Z",
          "iopub.status.idle": "2025-04-05T22:16:44.910398Z",
          "shell.execute_reply": "2025-04-05T22:16:44.909152Z",
          "shell.execute_reply.started": "2025-04-05T22:16:44.899262Z"
        },
        "id": "nYxIVf3TNLgS",
        "trusted": true
      },
      "outputs": [],
      "source": [
        "def run_inference_and_evaluate(test_tsv, d_test_pkl, o_test_pkl, image_dir,checkpoint_path, output_file=\"test_predictions.txt\"):\n",
        "    # Set device\n",
        "    device = torch.device(\"cuda\" if torch.cuda.is_available() else \"cpu\")\n",
        "\n",
        "    # Load tokenizer and model\n",
        "    tokenizer = BartTokenizer.from_pretrained(\"facebook/bart-base\")\n",
        "    model = TurboModel()\n",
        "    model.load_state_dict(torch.load(checkpoint_path, map_location=device))\n",
        "    model.to(device)\n",
        "    model.eval()\n",
        "\n",
        "    # Load test dataset\n",
        "    test_dataset = MorePlusDataset(test_tsv, d_test_pkl, o_test_pkl, image_dir, tokenizer)\n",
        "    test_loader = DataLoader(test_dataset, batch_size=8, shuffle=False)\n",
        "\n",
        "    all_preds = []\n",
        "    all_refs = []\n",
        "\n",
        "    with torch.no_grad():\n",
        "        for batch in tqdm(test_loader, desc=\"Inference\", unit=\"batch\"):\n",
        "            input_ids = batch[\"input_ids\"].to(device)\n",
        "            attention_mask = batch[\"attention_mask\"].to(device)\n",
        "            pixel_values = batch[\"pixel_values\"].to(device)\n",
        "            labels = batch[\"labels\"].to(device)\n",
        "\n",
        "            # Generate predictions\n",
        "            generated_ids = model.generate_explanation(input_ids, attention_mask, pixel_values)\n",
        "            preds = tokenizer.batch_decode(generated_ids, skip_special_tokens=True)\n",
        "            refs = tokenizer.batch_decode(labels, skip_special_tokens=True)\n",
        "\n",
        "            all_preds.extend(preds)\n",
        "            all_refs.extend(refs)\n",
        "\n",
        "    # Save predictions\n",
        "    with open(output_file, \"w\") as f:\n",
        "        for ref, pred in zip(all_refs, all_preds):\n",
        "            f.write(\"Reference: \" + ref.strip() + \"\\n\")\n",
        "            f.write(\"Prediction: \" + pred.strip() + \"\\n\")\n",
        "            f.write(\"\\n\")\n",
        "\n",
        "    # Compute and return metrics\n",
        "    metrics = compute_metrics(all_preds, all_refs)\n",
        "    print(\"Evaluation Metrics:\")\n",
        "    for key, val in metrics.items():\n",
        "        print(f\"{key}: {val:.4f}\")\n",
        "\n",
        "    return metrics, all_preds, all_refs\n"
      ]
    },
    {
      "cell_type": "code",
      "execution_count": null,
      "metadata": {
        "execution": {
          "iopub.execute_input": "2025-04-05T22:16:48.26395Z",
          "iopub.status.busy": "2025-04-05T22:16:48.263558Z",
          "iopub.status.idle": "2025-04-05T22:17:08.039391Z",
          "shell.execute_reply": "2025-04-05T22:17:08.038484Z",
          "shell.execute_reply.started": "2025-04-05T22:16:48.263917Z"
        },
        "id": "BSdVFM_VNLgS",
        "trusted": true
      },
      "outputs": [],
      "source": [
        "path = aarzooiiitd_sarcasm_path + '/'\n",
        "\n",
        "metrics, predictions, references = run_inference_and_evaluate(\n",
        "    test_tsv= path + \"val_df.tsv\",\n",
        "    d_test_pkl= path + \"D_val.pkl\",\n",
        "    o_test_pkl= path + \"O_val.pkl\",\n",
        "    image_dir= path + \"images-20250401T152822Z-001/images\",\n",
        "    checkpoint_path=\"model_checkpoints/turbo_epoch10.pt\",\n",
        "    output_file=\"test_predictions.txt\"\n",
        ")\n"
      ]
    }
  ],
  "metadata": {
    "accelerator": "GPU",
    "colab": {
      "gpuType": "T4",
      "provenance": []
    },
    "kaggle": {
      "accelerator": "gpu",
      "dataSources": [
        {
          "datasetId": 7006520,
          "sourceId": 11279483,
          "sourceType": "datasetVersion"
        }
      ],
      "dockerImageVersionId": 30919,
      "isGpuEnabled": true,
      "isInternetEnabled": true,
      "language": "python",
      "sourceType": "notebook"
    },
    "kernelspec": {
      "display_name": "Python 3",
      "name": "python3"
    },
    "language_info": {
      "codemirror_mode": {
        "name": "ipython",
        "version": 3
      },
      "file_extension": ".py",
      "mimetype": "text/x-python",
      "name": "python",
      "nbconvert_exporter": "python",
      "pygments_lexer": "ipython3",
      "version": "3.10.12"
    }
  },
  "nbformat": 4,
  "nbformat_minor": 0
}
