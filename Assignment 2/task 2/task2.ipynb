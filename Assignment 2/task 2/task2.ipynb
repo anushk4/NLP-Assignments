{
 "cells": [
  {
   "cell_type": "code",
   "execution_count": null,
   "metadata": {},
   "outputs": [],
   "source": [
    "import json\n",
    "import re\n",
    "import os\n",
    "from torch.utils.data import Dataset, DataLoader\n",
    "import torch\n",
    "from transformers import AutoTokenizer, AutoModel\n",
    "import torch.nn as nn\n",
    "import torch.optim as optim\n",
    "from tqdm import tqdm \n",
    "import matplotlib.pyplot as plt\n",
    "from transformers import BertForSequenceClassification\n",
    "from transformers import AdamW, get_scheduler\n",
    "from transformers import BartForSequenceClassification\n",
    "from transformers import BartTokenizer\n",
    "from transformers import RobertaForSequenceClassification, RobertaTokenizer\n",
    "from transformers import BertTokenizer"
   ]
  },
  {
   "cell_type": "code",
   "execution_count": 136,
   "metadata": {},
   "outputs": [],
   "source": [
    "class ABSADataset(Dataset):\n",
    "    def __init__(self, file_path, saved_file_path = None):\n",
    "        \"\"\"\n",
    "        Initialize the dataset by loading and preprocessing the data.\n",
    "        \"\"\"\n",
    "        self.tokenizer = AutoTokenizer.from_pretrained(\"bert-base-cased\")\n",
    "        self.model = AutoModel.from_pretrained(\"bert-base-cased\", output_hidden_states=True)\n",
    "        with open(file_path, 'r') as f:\n",
    "            raw_data = json.load(f)  # Load raw JSON data\n",
    "        if saved_file_path is not None and os.path.exists(saved_file_path):\n",
    "            with open(saved_file_path, 'r') as f:\n",
    "                self.data = json.load(f)  # Load preprocessed data\n",
    "            print(\"Preprocessed data loaded from\", saved_file_path)\n",
    "        else:\n",
    "            self.data = self.preprocess_data(raw_data)  # Preprocess and store in self.data\n",
    "            if saved_file_path is not None:\n",
    "                with open(saved_file_path, 'w') as f:\n",
    "                    json.dump(self.data, f, indent=4)  # Save preprocessed data\n",
    "                print(\"Preprocessed data saved to\", saved_file_path)    \n",
    "        \n",
    "    \"\"\"\n",
    "    Preprocessing rule:\n",
    "    - Extract the index of each token in the original sentence by taking multiple spaces into account\n",
    "    - Remove leading and trailing punctuation like ,.!()-{}[]\"\";:\n",
    "    - Remove single quotes\n",
    "    - Skip words that become empty (which means they were only punctuation)\n",
    "    - Allow an error range of +/- 2 tokens when matching the aspect term\n",
    "    - Check if the token's prefix matches the start of the aspect term\n",
    "    - Return -1 if no match is found\n",
    "    \"\"\"\n",
    "\n",
    "    def preprocess_data(self, data):\n",
    "        \"\"\"\n",
    "        Tokenizes and processes data into required format.\n",
    "        \"\"\"\n",
    "        preprocessed_data = []\n",
    "        for d in data:\n",
    "            tokens = self.tokenize_data(d[\"sentence\"])\n",
    "            for term in d['aspect_terms']:\n",
    "                new_data = {\n",
    "                    \"tokens\": [t[0] for t in tokens],  # Extract token words\n",
    "                    \"polarity\": term[\"polarity\"],\n",
    "                    \"aspect_term\": [term[\"term\"]],\n",
    "                    \"index\": self.find_aspect_index(tokens, int(term[\"from\"]), term[\"term\"])\n",
    "                }\n",
    "                preprocessed_data.append(new_data)\n",
    "        return preprocessed_data\n",
    "\n",
    "    def tokenize_data(self, sentence):\n",
    "        \"\"\"\n",
    "        Tokenizes sentence while preserving exact indices.\n",
    "        \"\"\"\n",
    "        tokens_idx = []\n",
    "        i = 0\n",
    "        word = ''\n",
    "        start_idx = -1\n",
    "\n",
    "        while i < len(sentence):\n",
    "            while i < len(sentence) and sentence[i] != ' ':\n",
    "                if not word:\n",
    "                    start_idx = i\n",
    "                word += sentence[i]\n",
    "                i += 1\n",
    "            if word:\n",
    "                tokens_idx.append((word, start_idx))\n",
    "            word = ''\n",
    "            i += 1\n",
    "\n",
    "        return self.clean_tokens(tokens_idx)\n",
    "\n",
    "    def clean_tokens(self, tokens_idx):\n",
    "        \"\"\"\n",
    "        Cleans tokens by removing punctuation and handling contractions.\n",
    "        \"\"\"\n",
    "        cleaned_tokens = []\n",
    "        for word, idx in tokens_idx:\n",
    "            stripped_word = re.sub(r'^[.!(),\\[\\]{}\\'\":;-]+|[.!(),\\[\\]{}\\'\":;-]+$', '', word)\n",
    "            stripped_word = stripped_word.replace(\"'\", \"\")\n",
    "\n",
    "            if stripped_word:  # Skip empty tokens\n",
    "                cleaned_tokens.append((stripped_word.lower(), idx))\n",
    "        return cleaned_tokens\n",
    "\n",
    "    def find_aspect_index(self, tokens, aspect_from, aspect_term):\n",
    "        \"\"\"\n",
    "        Finds the token index corresponding to the aspect term with an error range of ±2.\n",
    "        \"\"\"\n",
    "        aspect_term = self.tokenize_data(aspect_term)\n",
    "        for i in range(len(tokens)):\n",
    "            if aspect_from - 2 <= tokens[i][1] <= aspect_from + 2:\n",
    "                if tokens[i][0].startswith(aspect_term[0][0]):  # Check prefix match\n",
    "                    return i\n",
    "        return -1\n",
    "    \n",
    "    def get_token_embeddings(self, tokens, max_length=128, layers=[-4, -3, -2, -1]):\n",
    "        \"\"\"\n",
    "        Get BERT embeddings for a list of tokens, ensuring a fixed shape of (max_length, 768).\n",
    "        \"\"\"\n",
    "        encoded = self.tokenizer(\n",
    "            tokens,\n",
    "            return_tensors=\"pt\",\n",
    "            is_split_into_words=True,\n",
    "            padding=\"max_length\",  # ✅ Ensures fixed length\n",
    "            truncation=True,\n",
    "            max_length=max_length,  # ✅ Force consistent size\n",
    "        )\n",
    "\n",
    "        with torch.no_grad():\n",
    "            output = self.model(**encoded)\n",
    "\n",
    "        # Compute embeddings (sum last 4 layers)\n",
    "        hidden_states = torch.stack([output.hidden_states[i] for i in layers]).sum(0).squeeze()\n",
    "\n",
    "        # **Ensure final shape is (max_length, 768)**\n",
    "        if hidden_states.shape[0] < max_length:\n",
    "            pad_size = max_length - hidden_states.shape[0]\n",
    "            pad_tensor = torch.zeros((pad_size, hidden_states.shape[1]))  # (pad_size, 768)\n",
    "            hidden_states = torch.cat([hidden_states, pad_tensor], dim=0)  # Pad at the end\n",
    "\n",
    "        return hidden_states[:max_length]  # ✅ Ensure shape (max_length, 768)\n",
    "\n",
    "    def __len__(self):\n",
    "        \"\"\"\n",
    "        Returns the total number of data samples.\n",
    "        \"\"\"\n",
    "        return len(self.data)\n",
    "\n",
    "    def __getitem__(self, idx):\n",
    "        \"\"\"\n",
    "        Returns a single preprocessed data sample, including computed embeddings.\n",
    "        \"\"\"\n",
    "        sample = self.data[idx]\n",
    "        polarity_map = {\"positive\": 0, \"neutral\": 2, \"negative\": 1, \"conflict\": 3}\n",
    "\n",
    "        # Get sentence embeddings (shape: (max_length, 768))\n",
    "        embeddings = self.get_token_embeddings(sample[\"tokens\"], max_length=128)  # Max length 128\n",
    "\n",
    "        # Get aspect term embeddings (shape: (aspect_max_length, 768))\n",
    "        aspect_tokens = self.tokenize_data(sample[\"aspect_term\"][0])  # Tokenize aspect term\n",
    "        aspect_embedding = self.get_token_embeddings([t[0] for t in aspect_tokens], max_length=8)  # Max length 8\n",
    "        # print(\"Sample:\", sample[\"tokens\"])\n",
    "        # print(\"Aspect term embedding:\", aspect_embedding.shape)\n",
    "        # print(\"Token embedding:\", embeddings.shape)\n",
    "        return {\n",
    "            \"tokens\": sample[\"tokens\"],\n",
    "            \"embeddings\": torch.tensor(embeddings, dtype=torch.float),  # Shape: (128, 768)\n",
    "            \"polarity\": torch.tensor(polarity_map[sample[\"polarity\"]], dtype=torch.long),  # Shape: ()\n",
    "            \"aspect_term\":  torch.tensor(aspect_embedding, dtype=torch.float),\n",
    "            \"index\": torch.tensor(sample[\"index\"], dtype=torch.long),  # Shape: ()\n",
    "        }\n"
   ]
  },
  {
   "cell_type": "code",
   "execution_count": 137,
   "metadata": {},
   "outputs": [
    {
     "name": "stdout",
     "output_type": "stream",
     "text": [
      "Preprocessed data loaded from train_task_2.json\n",
      "Preprocessed data loaded from val_task_2.json\n"
     ]
    }
   ],
   "source": [
    "train_dataset = ABSADataset(\"train.json\", \"train_task_2.json\")\n",
    "val_dataset = ABSADataset(\"val.json\", \"val_task_2.json\")"
   ]
  },
  {
   "cell_type": "code",
   "execution_count": 138,
   "metadata": {},
   "outputs": [
    {
     "name": "stdout",
     "output_type": "stream",
     "text": [
      "Max train length: 69\n",
      "Max val length: 48\n"
     ]
    }
   ],
   "source": [
    "max_train_length = max([len(d[\"tokens\"]) for d in train_dataset.data])\n",
    "max_val_length = max([len(d[\"tokens\"]) for d in val_dataset.data])\n",
    "print(\"Max train length:\", max_train_length)\n",
    "print(\"Max val length:\", max_val_length)"
   ]
  },
  {
   "cell_type": "code",
   "execution_count": 139,
   "metadata": {},
   "outputs": [
    {
     "name": "stdout",
     "output_type": "stream",
     "text": [
      "2961\n",
      "371\n"
     ]
    },
    {
     "name": "stderr",
     "output_type": "stream",
     "text": [
      "C:\\Users\\ASUS\\AppData\\Local\\Temp\\ipykernel_6068\\3109388899.py:146: UserWarning: To copy construct from a tensor, it is recommended to use sourceTensor.clone().detach() or sourceTensor.clone().detach().requires_grad_(True), rather than torch.tensor(sourceTensor).\n",
      "  \"embeddings\": torch.tensor(embeddings, dtype=torch.float),  # Shape: (128, 768)\n",
      "C:\\Users\\ASUS\\AppData\\Local\\Temp\\ipykernel_6068\\3109388899.py:148: UserWarning: To copy construct from a tensor, it is recommended to use sourceTensor.clone().detach() or sourceTensor.clone().detach().requires_grad_(True), rather than torch.tensor(sourceTensor).\n",
      "  \"aspect_term\":  torch.tensor(aspect_embedding, dtype=torch.float),\n"
     ]
    },
    {
     "name": "stdout",
     "output_type": "stream",
     "text": [
      "{'tokens': ['But', 'the', 'staff', 'was', 'so', 'horrible', 'to', 'us'], 'embeddings': tensor([[ 1.9976,  3.0614, -2.7381,  ..., -1.5977,  1.8881, -0.6945],\n",
      "        [ 2.2932,  2.6890, -0.3895,  ...,  2.1881, -1.1270, -0.5891],\n",
      "        [-0.4416, -0.6662, -2.2985,  ...,  1.4890, -1.8471,  3.0896],\n",
      "        ...,\n",
      "        [-3.3617,  1.8583, -0.7389,  ..., -0.9075, -1.0788, -2.5828],\n",
      "        [-2.9848,  1.6417, -1.2289,  ..., -1.4844, -1.8254, -3.1934],\n",
      "        [-3.0569,  1.6146, -1.7832,  ..., -1.0309, -2.0181, -3.6214]]), 'polarity': tensor(1), 'aspect_term': tensor([[ 0.9993, -1.1836, -1.4425,  ..., -1.0973,  1.5845,  1.2668],\n",
      "        [ 2.5821, -4.1148, -0.4606,  ..., -3.3853, -0.1479,  0.3372],\n",
      "        [ 0.2073,  0.8993,  0.4269,  ..., -0.0397,  0.8534, -0.5007],\n",
      "        ...,\n",
      "        [ 0.7302, -2.3626, -0.5775,  ..., -1.7317, -1.3500,  2.5714],\n",
      "        [ 0.5360, -2.1273, -0.7242,  ..., -1.6414, -0.6824,  2.7984],\n",
      "        [ 0.6539, -1.3669, -2.6096,  ..., -0.8288,  1.8169,  4.2203]]), 'index': tensor(2)}\n",
      "{'tokens': ['I', 'was', 'here', 'a', 'few', 'weeks', 'back', 'and', 'we', 'had', 'the', 'worst', 'customer', 'service', 'experience', 'at', 'a', 'restaurant', 'ever'], 'embeddings': tensor([[ 3.5972,  2.6238, -2.5143,  ..., -0.4186,  1.2370, -0.1547],\n",
      "        [-1.4033, -0.0940,  0.2786,  ...,  2.8207, -1.3669,  4.2318],\n",
      "        [ 2.1835, -1.3102,  1.4985,  ...,  2.4183, -1.8050,  2.2127],\n",
      "        ...,\n",
      "        [-1.2712, -0.3999, -0.5788,  ...,  0.8361, -1.9402, -1.0874],\n",
      "        [-0.2658,  0.1937, -0.6427,  ...,  1.1425, -2.2993, -2.1760],\n",
      "        [-0.6617,  0.0487, -1.9680,  ...,  1.7595, -1.1541, -0.8367]]), 'polarity': tensor(1), 'aspect_term': tensor([[-0.7149, -1.6694, -0.6739,  ...,  0.1908,  1.5144,  1.2978],\n",
      "        [ 2.3363, -0.6419, -0.4983,  ..., -0.4619,  0.0755,  0.3284],\n",
      "        [ 1.0971, -4.6552, -0.1587,  ..., -4.1071, -0.7690,  4.2592],\n",
      "        ...,\n",
      "        [ 0.1822, -0.9471,  0.9471,  ..., -2.7717,  1.5265,  5.1497],\n",
      "        [ 0.9118, -1.5729,  1.9811,  ..., -2.3746, -0.9063,  2.8127],\n",
      "        [ 0.6203, -0.7260,  1.4271,  ..., -1.4662,  0.1426,  1.9636]]), 'index': tensor(12)}\n"
     ]
    }
   ],
   "source": [
    "print(len(train_dataset))\n",
    "print(len(val_dataset)) \n",
    "print(train_dataset[0])\n",
    "print(val_dataset[0])  "
   ]
  },
  {
   "cell_type": "markdown",
   "metadata": {},
   "source": [
    "Reference: https://discuss.huggingface.co/t/generate-raw-word-embeddings-using-transformer-models-like-bert-for-downstream-process/2958\n",
    "\n",
    "https://discuss.huggingface.co/t/huggingface-dataset-each-element-in-list-of-batch-should-be-of-equal-size/10697/6\n",
    "\n",
    "https://medium.com/@xiaohan_63326/fine-tune-fine-tuning-bert-for-sentiment-analysis-f5002b08f10a"
   ]
  },
  {
   "cell_type": "code",
   "execution_count": null,
   "metadata": {},
   "outputs": [],
   "source": [
    "class LSTMClassifier(nn.Module):\n",
    "    def __init__(self, input_dim=768, hidden_dim=256, num_layers=2, output_dim=4, dropout=0.3):\n",
    "        super(LSTMClassifier, self).__init__()\n",
    "        self.lstm = nn.LSTM(input_dim, hidden_dim, num_layers, batch_first=True, bidirectional=True, dropout=dropout)\n",
    "        \n",
    "        # **Fix: Change input size from 256 -> 768**\n",
    "        self.aspect_fc = nn.Linear(input_dim, hidden_dim)  # Now correctly maps 768 -> 256\n",
    "\n",
    "        self.fc = nn.Linear(hidden_dim * 3, output_dim)  # Combine LSTM + aspect\n",
    "        self.dropout = nn.Dropout(dropout)\n",
    "\n",
    "    def forward(self, sentence_embeddings, aspect_embeddings, aspect_index):\n",
    "        # Process sentence embeddings through LSTM\n",
    "        lstm_out, (hidden, _) = self.lstm(sentence_embeddings)  \n",
    "        hidden = torch.cat((hidden[-2], hidden[-1]), dim=1)  # Shape: (batch_size, hidden_dim * 2)\n",
    "\n",
    "        # **Fix: Mean-pool aspect embeddings (now shape is (batch_size, 768))**\n",
    "        aspect_rep = aspect_embeddings.mean(dim=1)  # Shape: (batch_size, 768)\n",
    "        aspect_rep = self.aspect_fc(aspect_rep)  # **Maps (batch_size, 768) → (batch_size, 256)**\n",
    "\n",
    "        # **Ensure tensors have matching dimensions before concatenation**\n",
    "        combined = torch.cat((hidden, aspect_rep), dim=1)  # Shape: (batch_size, hidden_dim * 3)\n",
    "\n",
    "        out = self.fc(self.dropout(combined))\n",
    "        return out\n"
   ]
  },
  {
   "cell_type": "code",
   "execution_count": 141,
   "metadata": {},
   "outputs": [],
   "source": [
    "def train_model(model, train_loader, val_loader, epochs=10, lr=0.001):\n",
    "    criterion = nn.CrossEntropyLoss()\n",
    "    optimizer = optim.Adam(model.parameters(), lr=lr)\n",
    "    scheduler = optim.lr_scheduler.StepLR(optimizer, step_size=5, gamma=0.5)\n",
    "\n",
    "    train_loss = []\n",
    "    val_loss = []\n",
    "    train_accuracy = []\n",
    "    val_accuracy = []\n",
    "\n",
    "    best_acc = 0.0\n",
    "    device = torch.device(\"cuda\" if torch.cuda.is_available() else \"cpu\")\n",
    "    model.to(device)\n",
    "\n",
    "    for epoch in range(epochs):\n",
    "        model.train()\n",
    "        total_loss, correct, total = 0, 0, 0\n",
    "\n",
    "        tqdm_bar = tqdm(train_loader, desc=f\"Epoch {epoch+1}/{epochs}\", leave=False)\n",
    "\n",
    "        for sentence_embeddings, aspect_embeddings, labels, aspect_index in tqdm_bar:\n",
    "            sentence_embeddings = sentence_embeddings.to(device)  # ✅ No need for batch[\"embeddings\"]\n",
    "            aspect_embeddings = aspect_embeddings.to(device)\n",
    "            labels = labels.to(device)\n",
    "            aspect_index = aspect_index.to(device)# Shape: (batch_size,)\n",
    "\n",
    "            optimizer.zero_grad()\n",
    "            outputs = model(sentence_embeddings, aspect_embeddings, aspect_index)  # ✅ Pass all inputs\n",
    "            loss = criterion(outputs, labels)\n",
    "            loss.backward()\n",
    "            optimizer.step()\n",
    "\n",
    "            total_loss += loss.item()\n",
    "            _, preds = torch.max(outputs, 1)\n",
    "            correct += (preds == labels).sum().item()\n",
    "            total += labels.size(0)\n",
    "\n",
    "            tqdm_bar.set_postfix(loss=f\"{loss.item():.4f}\")\n",
    "\n",
    "        train_acc = correct / total\n",
    "        train_accuracy.append(train_acc)\n",
    "        train_loss.append(total_loss / len(train_loader))\n",
    "\n",
    "        # Validation\n",
    "        model.eval()\n",
    "        val_total_loss, correct, total = 0, 0, 0\n",
    "\n",
    "        tqdm_bar_val = tqdm(val_loader, desc=f\"Validating Epoch {epoch+1}\", leave=False)\n",
    "        with torch.no_grad():\n",
    "            for sentence_embeddings, aspect_embeddings, labels, aspect_index in tqdm_bar_val:\n",
    "                sentence_embeddings = sentence_embeddings.to(device)  # ✅ No need for batch[\"embeddings\"]\n",
    "                aspect_embeddings = aspect_embeddings.to(device)\n",
    "                labels = labels.to(device)\n",
    "                aspect_index = aspect_index.to(device)\n",
    "\n",
    "                outputs = model(sentence_embeddings, aspect_embeddings, aspect_index)  # ✅ Pass all inputs\n",
    "                loss = criterion(outputs, labels)\n",
    "                val_total_loss += loss.item()\n",
    "\n",
    "                _, preds = torch.max(outputs, 1)\n",
    "                correct += (preds == labels).sum().item()\n",
    "                total += labels.size(0)\n",
    "\n",
    "                tqdm_bar_val.set_postfix(loss=f\"{loss.item():.4f}\")\n",
    "\n",
    "        val_acc = correct / total\n",
    "        val_accuracy.append(val_acc)\n",
    "        val_loss.append(val_total_loss / len(val_loader))\n",
    "\n",
    "        print(f\"Epoch {epoch+1}/{epochs} - Train Loss: {train_loss[-1]:.4f} - Train Acc: {train_acc:.4f} - Val Loss: {val_loss[-1]:.4f} - Val Acc: {val_acc:.4f}\")\n",
    "\n",
    "        if val_acc > best_acc:\n",
    "            best_acc = val_acc\n",
    "            torch.save(model.state_dict(), \"best_lstm_model.pth\")\n",
    "            print(\"🔥 Best model saved!\")\n",
    "\n",
    "    print(f\"🎉 Training complete. Best Validation Accuracy: {best_acc:.4f}\")\n",
    "    return train_loss, val_loss, train_accuracy, val_accuracy\n"
   ]
  },
  {
   "cell_type": "code",
   "execution_count": 2,
   "metadata": {},
   "outputs": [],
   "source": [
    "def plot_metrics(train_loss, val_loss, train_acc, val_acc):\n",
    "    plt.figure(figsize=(10, 5))\n",
    "\n",
    "    # Plot Loss\n",
    "    plt.subplot(1, 2, 1)\n",
    "    plt.plot(train_loss, label=\"Train Loss\")\n",
    "    plt.plot(val_loss, label=\"Val Loss\")\n",
    "    plt.xlabel(\"Epochs\")\n",
    "    plt.ylabel(\"Loss\")\n",
    "    plt.ylim(0, max(max(train_loss), max(val_loss)) * 1.1)  # ✅ Y-axis starts from 0\n",
    "    plt.legend()\n",
    "\n",
    "    # Plot Accuracy\n",
    "    plt.subplot(1, 2, 2)\n",
    "    plt.plot(train_acc, label=\"Train Acc\")\n",
    "    plt.plot(val_acc, label=\"Val Acc\")\n",
    "    plt.xlabel(\"Epochs\")\n",
    "    plt.ylabel(\"Accuracy\")\n",
    "    plt.ylim(0, 1)  # ✅ Accuracy should be between 0 and 1\n",
    "    plt.legend()\n",
    "\n",
    "    plt.tight_layout()\n",
    "    plt.show()"
   ]
  },
  {
   "cell_type": "code",
   "execution_count": 143,
   "metadata": {},
   "outputs": [],
   "source": [
    "def collate_fn(batch):\n",
    "    \"\"\"\n",
    "    Custom collate function to batch fixed-length embeddings for ABSADataset.\n",
    "    \"\"\"\n",
    "    sentence_embeddings = torch.stack([item[\"embeddings\"] for item in batch])  # (batch_size, 128, 768)\n",
    "    aspect_embeddings = torch.stack([item[\"aspect_term\"] for item in batch])  # (batch_size, 8, 768)\n",
    "    labels = torch.tensor([item[\"polarity\"] for item in batch], dtype=torch.long)  # (batch_size,)\n",
    "    indices = torch.tensor([item[\"index\"] for item in batch], dtype=torch.long)  # (batch_size,)\n",
    "\n",
    "    return sentence_embeddings, aspect_embeddings, labels, indices\n"
   ]
  },
  {
   "cell_type": "code",
   "execution_count": 144,
   "metadata": {},
   "outputs": [],
   "source": [
    "train_loader = DataLoader(train_dataset, batch_size=32, shuffle=True, collate_fn=collate_fn)\n",
    "val_loader = DataLoader(val_dataset, batch_size=32, shuffle=False, collate_fn=collate_fn)"
   ]
  },
  {
   "cell_type": "code",
   "execution_count": 145,
   "metadata": {},
   "outputs": [
    {
     "name": "stderr",
     "output_type": "stream",
     "text": [
      "Epoch 1/5:   0%|          | 0/93 [00:00<?, ?it/s]C:\\Users\\ASUS\\AppData\\Local\\Temp\\ipykernel_6068\\3109388899.py:146: UserWarning: To copy construct from a tensor, it is recommended to use sourceTensor.clone().detach() or sourceTensor.clone().detach().requires_grad_(True), rather than torch.tensor(sourceTensor).\n",
      "  \"embeddings\": torch.tensor(embeddings, dtype=torch.float),  # Shape: (128, 768)\n",
      "C:\\Users\\ASUS\\AppData\\Local\\Temp\\ipykernel_6068\\3109388899.py:148: UserWarning: To copy construct from a tensor, it is recommended to use sourceTensor.clone().detach() or sourceTensor.clone().detach().requires_grad_(True), rather than torch.tensor(sourceTensor).\n",
      "  \"aspect_term\":  torch.tensor(aspect_embedding, dtype=torch.float),\n",
      "                                                                                \r"
     ]
    },
    {
     "name": "stdout",
     "output_type": "stream",
     "text": [
      "Epoch 1/5 - Train Loss: 0.9810 - Train Acc: 0.6184 - Val Loss: 0.9233 - Val Acc: 0.6496\n",
      "🔥 Best model saved!\n"
     ]
    },
    {
     "name": "stderr",
     "output_type": "stream",
     "text": [
      "                                                                                \r"
     ]
    },
    {
     "name": "stdout",
     "output_type": "stream",
     "text": [
      "Epoch 2/5 - Train Loss: 0.6623 - Train Acc: 0.7430 - Val Loss: 0.9208 - Val Acc: 0.6631\n",
      "🔥 Best model saved!\n"
     ]
    },
    {
     "name": "stderr",
     "output_type": "stream",
     "text": [
      "                                                                                \r"
     ]
    },
    {
     "name": "stdout",
     "output_type": "stream",
     "text": [
      "Epoch 3/5 - Train Loss: 0.5476 - Train Acc: 0.7933 - Val Loss: 0.9059 - Val Acc: 0.6388\n"
     ]
    },
    {
     "name": "stderr",
     "output_type": "stream",
     "text": [
      "                                                                                \r"
     ]
    },
    {
     "name": "stdout",
     "output_type": "stream",
     "text": [
      "Epoch 4/5 - Train Loss: 0.5229 - Train Acc: 0.8024 - Val Loss: 0.9353 - Val Acc: 0.6442\n"
     ]
    },
    {
     "name": "stderr",
     "output_type": "stream",
     "text": [
      "                                                                                "
     ]
    },
    {
     "name": "stdout",
     "output_type": "stream",
     "text": [
      "Epoch 5/5 - Train Loss: 0.4510 - Train Acc: 0.8261 - Val Loss: 1.0320 - Val Acc: 0.6739\n",
      "🔥 Best model saved!\n",
      "🎉 Training complete. Best Validation Accuracy: 0.6739\n"
     ]
    },
    {
     "name": "stderr",
     "output_type": "stream",
     "text": [
      "\r"
     ]
    }
   ],
   "source": [
    "model = LSTMClassifier()\n",
    "train_loss, val_loss, train_acc, val_acc = train_model(model, train_loader, val_loader, epochs=5, lr=0.001)"
   ]
  },
  {
   "cell_type": "code",
   "execution_count": 154,
   "metadata": {},
   "outputs": [
    {
     "data": {
      "image/png": "[encoded data removed]",
      "text/plain": [
       "<Figure size 1000x500 with 2 Axes>"
      ]
     },
     "metadata": {},
     "output_type": "display_data"
    }
   ],
   "source": [
    "plot_metrics(train_loss, val_loss, train_acc, val_acc)"
   ]
  },
  {
   "cell_type": "code",
   "execution_count": 150,
   "metadata": {},
   "outputs": [
    {
     "name": "stdout",
     "output_type": "stream",
     "text": [
      "Preprocessed data loaded from val_task_2.json\n"
     ]
    },
    {
     "name": "stderr",
     "output_type": "stream",
     "text": [
      "Evaluating:   0%|          | 0/24 [00:00<?, ?it/s]C:\\Users\\ASUS\\AppData\\Local\\Temp\\ipykernel_6068\\3109388899.py:146: UserWarning: To copy construct from a tensor, it is recommended to use sourceTensor.clone().detach() or sourceTensor.clone().detach().requires_grad_(True), rather than torch.tensor(sourceTensor).\n",
      "  \"embeddings\": torch.tensor(embeddings, dtype=torch.float),  # Shape: (128, 768)\n",
      "C:\\Users\\ASUS\\AppData\\Local\\Temp\\ipykernel_6068\\3109388899.py:148: UserWarning: To copy construct from a tensor, it is recommended to use sourceTensor.clone().detach() or sourceTensor.clone().detach().requires_grad_(True), rather than torch.tensor(sourceTensor).\n",
      "  \"aspect_term\":  torch.tensor(aspect_embedding, dtype=torch.float),\n",
      "Evaluating: 100%|██████████| 24/24 [02:33<00:00,  6.40s/it]"
     ]
    },
    {
     "name": "stdout",
     "output_type": "stream",
     "text": [
      "✅ Test Accuracy: 67.39%\n"
     ]
    },
    {
     "name": "stderr",
     "output_type": "stream",
     "text": [
      "\n"
     ]
    },
    {
     "data": {
      "text/plain": [
       "67.38544474393531"
      ]
     },
     "execution_count": 150,
     "metadata": {},
     "output_type": "execute_result"
    }
   ],
   "source": [
    "def load_and_evaluate(model_path = \"best_lstm_model.pth\", test_file = \"val_task_2.json\", batch_size=16):\n",
    "    \"\"\"\n",
    "    Load the trained model and evaluate it on test data.\n",
    "\n",
    "    Args:\n",
    "        model_path (str): Path to the saved model file.\n",
    "        test_file (str): Path to the test dataset.\n",
    "        batch_size (int): Batch size for evaluation.\n",
    "\n",
    "    Returns:\n",
    "        float: Test accuracy.\n",
    "    \"\"\"\n",
    "\n",
    "    # Load test dataset\n",
    "    test_dataset = ABSADataset(\"val.json\", test_file)\n",
    "    \n",
    "    # Ensure collate_fn is used to handle variable-length sequences\n",
    "    test_loader = DataLoader(test_dataset, batch_size=batch_size, shuffle=False, collate_fn=collate_fn)\n",
    "\n",
    "    # Define model\n",
    "    model = LSTMClassifier(output_dim=4)  # Ensure output_dim matches trained model\n",
    "\n",
    "    # Load saved model weights\n",
    "    model.load_state_dict(torch.load(model_path))\n",
    "    model.eval()  # Set to evaluation mode\n",
    "\n",
    "    correct, total = 0, 0\n",
    "    with torch.no_grad():\n",
    "        tqdm_bar = tqdm(test_loader, desc=\"Evaluating\")\n",
    "        for sentence_embeddings, aspect_embeddings, labels, aspect_index in tqdm_bar:\n",
    "            outputs = model(sentence_embeddings, aspect_embeddings, aspect_index)\n",
    "            _, preds = torch.max(outputs, 1)  # Get predicted class\n",
    "            correct += (preds == labels).sum().item()\n",
    "            total += labels.size(0)\n",
    "\n",
    "    accuracy = correct / total * 100\n",
    "    print(f\"✅ Test Accuracy: {accuracy:.2f}%\")\n",
    "    return accuracy\n",
    "\n",
    "load_and_evaluate()"
   ]
  },
  {
   "cell_type": "markdown",
   "metadata": {},
   "source": [
    "Finetuning BERT"
   ]
  },
  {
   "cell_type": "code",
   "execution_count": null,
   "metadata": {},
   "outputs": [],
   "source": [
    "class FinetuneDataset(Dataset):\n",
    "    def __init__(self, model, file_path):\n",
    "        \"\"\"\n",
    "        Load and preprocess dataset for fine-tuning BERT.\n",
    "        \"\"\"\n",
    "        if model == \"bert\":\n",
    "            self.tokenizer = BertTokenizer.from_pretrained(\"bert-base-cased\")\n",
    "        elif model == \"bart\":\n",
    "            self.tokenizer = BartTokenizer.from_pretrained(\"facebook/bart-base\")\n",
    "        elif model == \"roberta\":\n",
    "            self.tokenizer = RobertaTokenizer.from_pretrained(\"roberta-base\")\n",
    "        else:  \n",
    "            raise ValueError(\"Invalid model name. Choose from 'bert', 'bart', or 'roberta'.\")\n",
    "        \n",
    "        with open(file_path, 'r') as f:\n",
    "            self.data = json.load(f)  \n",
    "\n",
    "        self.polarity_map = {\"positive\": 0, \"negative\": 1, \"neutral\": 2, \"conflict\": 3}\n",
    "        \n",
    "    def tokenize_data(self, sentence):\n",
    "        \"\"\"\n",
    "        Tokenizes sentence while preserving exact indices.\n",
    "        \"\"\"\n",
    "        tokens_idx = []\n",
    "        i = 0\n",
    "        word = ''\n",
    "        start_idx = -1\n",
    "\n",
    "        while i < len(sentence):\n",
    "            while i < len(sentence) and sentence[i] != ' ':\n",
    "                if not word:\n",
    "                    start_idx = i\n",
    "                word += sentence[i]\n",
    "                i += 1\n",
    "            if word:\n",
    "                tokens_idx.append((word, start_idx))\n",
    "            word = ''\n",
    "            i += 1\n",
    "\n",
    "        return self.clean_tokens(tokens_idx)\n",
    "\n",
    "    def clean_tokens(self, tokens_idx):\n",
    "        \"\"\"\n",
    "        Cleans tokens by removing punctuation and handling contractions.\n",
    "        \"\"\"\n",
    "        cleaned_tokens = []\n",
    "        for word, idx in tokens_idx:\n",
    "            stripped_word = re.sub(r'^[.!(),\\[\\]{}\\'\":;-]+|[.!(),\\[\\]{}\\'\":;-]+$', '', word)\n",
    "            stripped_word = stripped_word.replace(\"'\", \"\")\n",
    "\n",
    "            if stripped_word:  # Skip empty tokens\n",
    "                cleaned_tokens.append((stripped_word.lower(), idx))\n",
    "        return cleaned_tokens\n",
    "\n",
    "    def __len__(self):\n",
    "        return len(self.data)\n",
    "\n",
    "    def __getitem__(self, idx):\n",
    "        \"\"\"\n",
    "        Returns pre-tokenized input as BERT-compatible token IDs.\n",
    "        \"\"\"\n",
    "        sample = self.data[idx]\n",
    "        tokenized_words = sample[\"tokens\"]  # Already tokenized from `tokenize_data()`\n",
    "        aspect_term = sample[\"aspect_term\"][0]\n",
    "        label = self.polarity_map[sample[\"polarity\"]]\n",
    "        if isinstance(self.tokenizer, BartTokenizer):\n",
    "            tokenized_words.append(\"</s>\")\n",
    "\n",
    "        # **Convert pre-tokenized words into token IDs**\n",
    "        input_ids = self.tokenizer.convert_tokens_to_ids(tokenized_words)\n",
    "        aspect_ids = self.tokenizer.convert_tokens_to_ids([t[0] for t in self.tokenize_data(aspect_term)])\n",
    "\n",
    "        # **Pad sequences to max_length**\n",
    "        max_length = 128\n",
    "        input_ids = input_ids[:max_length] + [self.tokenizer.pad_token_id] * (max_length - len(input_ids))\n",
    "        aspect_ids = aspect_ids[:8] + [self.tokenizer.pad_token_id] * (8 - len(aspect_ids))\n",
    "\n",
    "        # **Create attention masks (1 for real tokens, 0 for padding)**\n",
    "        attention_mask = [1 if id != self.tokenizer.pad_token_id else 0 for id in input_ids]\n",
    "\n",
    "        return {\n",
    "            \"input_ids\": torch.tensor(input_ids, dtype=torch.long),  # Shape: (max_length,)\n",
    "            \"attention_mask\": torch.tensor(attention_mask, dtype=torch.long),\n",
    "            \"aspect_ids\": torch.tensor(aspect_ids, dtype=torch.long),  # Shape: (8,)\n",
    "            \"label\": torch.tensor(label, dtype=torch.long),  # Shape: ()\n",
    "        }"
   ]
  },
  {
   "cell_type": "code",
   "execution_count": null,
   "metadata": {},
   "outputs": [],
   "source": [
    "def finetune(model, train_loader, val_loader, epochs=5, lr=2e-5, model_name=\"bert\"):\n",
    "    device = torch.device(\"cuda\" if torch.cuda.is_available() else \"cpu\")\n",
    "    model.to(device)\n",
    "\n",
    "    optimizer = AdamW(model.parameters(), lr=lr)\n",
    "    scheduler = get_scheduler(\"linear\", optimizer=optimizer, num_warmup_steps=0, num_training_steps=epochs * len(train_loader))\n",
    "    criterion = torch.nn.CrossEntropyLoss()\n",
    "    \n",
    "    train_losses = []\n",
    "    val_losses = []\n",
    "    best_acc = 0.0\n",
    "    train_accuracy = []\n",
    "    val_accuracy = []\n",
    "\n",
    "    for epoch in range(epochs):\n",
    "        model.train()\n",
    "        total_loss, correct, total = 0, 0, 0\n",
    "\n",
    "        tqdm_bar = tqdm(train_loader, desc=f\"Epoch {epoch+1}/{epochs} [Training]\")\n",
    "        for batch in tqdm_bar:\n",
    "            optimizer.zero_grad()\n",
    "\n",
    "            input_ids = batch[\"input_ids\"].to(device)\n",
    "            attention_mask = batch[\"attention_mask\"].to(device)\n",
    "            labels = batch[\"label\"].to(device)\n",
    "\n",
    "            outputs = model(input_ids, attention_mask=attention_mask, labels=labels)\n",
    "            loss = outputs.loss\n",
    "            logits = outputs.logits\n",
    "\n",
    "            loss.backward()\n",
    "            optimizer.step()\n",
    "            scheduler.step()\n",
    "\n",
    "            total_loss += loss.item()\n",
    "            preds = torch.argmax(logits, dim=1)\n",
    "            correct += (preds == labels).sum().item()\n",
    "            total += labels.size(0)\n",
    "\n",
    "            tqdm_bar.set_postfix(loss=f\"{loss.item():.4f}\")\n",
    "\n",
    "        train_acc = correct / total\n",
    "        train_accuracy.append(train_acc)\n",
    "        train_losses.append(total_loss / len(train_loader))\n",
    "        print(f\"✅ Epoch {epoch+1}: Train Loss = {train_losses[-1]:.4f}, Train Accuracy = {train_acc:.4f}\")\n",
    "\n",
    "        # Validation\n",
    "        model.eval()\n",
    "        correct, total = 0, 0\n",
    "        val_loss = 0\n",
    "\n",
    "        tqdm_bar_val = tqdm(val_loader, desc=f\"Epoch {epoch+1}/{epochs} [Validation]\")  # ✅ Add tqdm for validation\n",
    "        with torch.no_grad():\n",
    "            for batch in tqdm_bar_val:\n",
    "                input_ids = batch[\"input_ids\"].to(device)\n",
    "                attention_mask = batch[\"attention_mask\"].to(device)\n",
    "                labels = batch[\"label\"].to(device)\n",
    "\n",
    "                outputs = model(input_ids, attention_mask=attention_mask, labels=labels)\n",
    "                loss = outputs.loss\n",
    "                logits = outputs.logits\n",
    "\n",
    "                val_loss += loss.item()\n",
    "                preds = torch.argmax(logits, dim=1)\n",
    "                correct += (preds == labels).sum().item()\n",
    "                total += labels.size(0)\n",
    "\n",
    "                tqdm_bar_val.set_postfix(loss=f\"{loss.item():.4f}\")\n",
    "\n",
    "        val_acc = correct / total\n",
    "        val_accuracy.append(val_acc)\n",
    "        val_losses.append(val_loss / len(val_loader))\n",
    "        \n",
    "        if val_acc > best_acc:\n",
    "            best_acc = val_acc\n",
    "            torch.save(model.state_dict(), f\"best_{model_name}_model.pth\")\n",
    "            print(\"🔥 Best model saved!\")\n",
    "\n",
    "        print(f\"📌 Epoch {epoch+1}: Val Loss = {val_losses[-1]:.4f}, Val Accuracy = {val_acc:.4f}\")\n",
    "\n",
    "    print(f\"\\n🎉 Training complete. Best Validation Accuracy: {best_acc:.4f}\")\n",
    "    return train_losses, val_losses, train_accuracy, val_accuracy\n"
   ]
  },
  {
   "cell_type": "code",
   "execution_count": null,
   "metadata": {},
   "outputs": [],
   "source": [
    "# Load dataset\n",
    "train_dataset = FinetuneDataset(\"bert\", \"train_task_2.json\")\n",
    "val_dataset = FinetuneDataset(\"bert\", \"val_task_2.json\")\n",
    "\n",
    "# Create DataLoader\n",
    "train_loader = DataLoader(train_dataset, batch_size=32, shuffle=True, num_workers=4, pin_memory=True)\n",
    "val_loader = DataLoader(val_dataset, batch_size=32, shuffle=False, num_workers=4, pin_memory=True)\n",
    "\n",
    "# Load BERT Model\n",
    "model = BertForSequenceClassification.from_pretrained(\"bert-base-cased\", num_labels=4)\n",
    "\n",
    "# Train\n",
    "train_loss, val_loss, train_acc, val_acc = finetune(model, train_loader, val_loader, epochs=5, lr=2e-5, model_name = \"bert\")\n"
   ]
  },
  {
   "cell_type": "code",
   "execution_count": null,
   "metadata": {},
   "outputs": [],
   "source": [
    "plot_metrics(train_loss, val_loss, train_acc, val_acc)"
   ]
  },
  {
   "cell_type": "markdown",
   "metadata": {},
   "source": [
    "Finetune BART"
   ]
  },
  {
   "cell_type": "code",
   "execution_count": null,
   "metadata": {},
   "outputs": [],
   "source": [
    "# Load dataset\n",
    "train_dataset = FinetuneDataset(\"bart\", \"train_task_2.json\")\n",
    "val_dataset = FinetuneDataset(\"bart\", \"val_task_2.json\")\n",
    "\n",
    "# Create DataLoader\n",
    "train_loader = DataLoader(train_dataset, batch_size=32, shuffle=True, num_workers=4, pin_memory=True)\n",
    "val_loader = DataLoader(val_dataset, batch_size=32, shuffle=False, num_workers=4, pin_memory=True)\n",
    "\n",
    "# Load BART Model\n",
    "model = BartForSequenceClassification.from_pretrained(\"facebook/bart-base\", num_labels=4)\n",
    "\n",
    "# Train\n",
    "train_loss, val_loss, train_acc, val_acc = finetune(model, train_loader, val_loader, epochs=5, lr=2e-5, model_name = \"bart\")"
   ]
  },
  {
   "cell_type": "code",
   "execution_count": null,
   "metadata": {},
   "outputs": [],
   "source": [
    "plot_metrics(train_loss, val_loss, train_acc, val_acc)"
   ]
  },
  {
   "cell_type": "markdown",
   "metadata": {},
   "source": [
    "Finetune Roberta"
   ]
  },
  {
   "cell_type": "code",
   "execution_count": null,
   "metadata": {},
   "outputs": [],
   "source": [
    "# Load dataset\n",
    "train_dataset = FinetuneDataset(\"roberta\", \"train_task_2.json\")\n",
    "val_dataset = FinetuneDataset(\"roberta\", \"val_task_2.json\")\n",
    "\n",
    "# Create DataLoader\n",
    "train_loader = DataLoader(train_dataset, batch_size=32, shuffle=True, num_workers=4, pin_memory=True)\n",
    "val_loader = DataLoader(val_dataset, batch_size=32, shuffle=False, num_workers=4, pin_memory=True)\n",
    "\n",
    "# Load BART Model\n",
    "model = RobertaForSequenceClassification.from_pretrained(\"roberta-base\", num_labels=4)\n",
    "\n",
    "# Train\n",
    "train_loss, val_loss, train_acc, val_acc = finetune(model, train_loader, val_loader, epochs=5, lr=2e-5, model_name = \"roberta\")"
   ]
  },
  {
   "cell_type": "code",
   "execution_count": null,
   "metadata": {},
   "outputs": [],
   "source": [
    "plot_metrics(train_loss, val_loss, train_acc, val_acc)"
   ]
  }
 ],
 "metadata": {
  "kernelspec": {
   "display_name": "base",
   "language": "python",
   "name": "python3"
  },
  "language_info": {
   "codemirror_mode": {
    "name": "ipython",
    "version": 3
   },
   "file_extension": ".py",
   "mimetype": "text/x-python",
   "name": "python",
   "nbconvert_exporter": "python",
   "pygments_lexer": "ipython3",
   "version": "3.11.5"
  }
 },
 "nbformat": 4,
 "nbformat_minor": 2
}
