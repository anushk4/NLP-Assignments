{
 "cells": [
  {
   "cell_type": "code",
   "execution_count": 51,
   "metadata": {},
   "outputs": [],
   "source": [
    "import json\n",
    "import re\n",
    "import os\n",
    "from torch.utils.data import Dataset, DataLoader\n",
    "import numpy as np\n",
    "import torch\n",
    "from transformers import AutoTokenizer, AutoModel\n",
    "import torch.nn as nn\n",
    "import torch.optim as optim\n",
    "from tqdm import tqdm \n",
    "import matplotlib.pyplot as plt\n",
    "from torch.nn.utils.rnn import pad_sequence"
   ]
  },
  {
   "cell_type": "code",
   "execution_count": 52,
   "metadata": {},
   "outputs": [],
   "source": [
    "class ABSADataset(Dataset):\n",
    "    def __init__(self, file_path, saved_file_path = None):\n",
    "        \"\"\"\n",
    "        Initialize the dataset by loading and preprocessing the data.\n",
    "        \"\"\"\n",
    "        self.tokenizer = AutoTokenizer.from_pretrained(\"bert-base-cased\")\n",
    "        self.model = AutoModel.from_pretrained(\"bert-base-cased\", output_hidden_states=True)\n",
    "        with open(file_path, 'r') as f:\n",
    "            raw_data = json.load(f)  # Load raw JSON data\n",
    "        if saved_file_path is not None and os.path.exists(saved_file_path):\n",
    "            with open(saved_file_path, 'r') as f:\n",
    "                self.data = json.load(f)  # Load preprocessed data\n",
    "            print(\"Preprocessed data loaded from\", saved_file_path)\n",
    "        else:\n",
    "            self.data = self.preprocess_data(raw_data)  # Preprocess and store in self.data\n",
    "            if saved_file_path is not None:\n",
    "                with open(saved_file_path, 'w') as f:\n",
    "                    json.dump(self.data, f, indent=4)  # Save preprocessed data\n",
    "                print(\"Preprocessed data saved to\", saved_file_path)    \n",
    "        \n",
    "    \"\"\"\n",
    "    Preprocessing rule:\n",
    "    - Extract the index of each token in the original sentence by taking multiple spaces into account\n",
    "    - Remove leading and trailing punctuation like ,.!()-{}[]\"\";:\n",
    "    - Remove single quotes\n",
    "    - Skip words that become empty (which means they were only punctuation)\n",
    "    - Allow an error range of +/- 2 tokens when matching the aspect term\n",
    "    - Check if the token's prefix matches the start of the aspect term\n",
    "    - Return -1 if no match is found\n",
    "    \"\"\"\n",
    "\n",
    "    def preprocess_data(self, data):\n",
    "        \"\"\"\n",
    "        Tokenizes and processes data into required format.\n",
    "        \"\"\"\n",
    "        preprocessed_data = []\n",
    "        for d in data:\n",
    "            tokens = self.tokenize_data(d[\"sentence\"])\n",
    "            for term in d['aspect_terms']:\n",
    "                new_data = {\n",
    "                    \"tokens\": [t[0] for t in tokens],  # Extract token words\n",
    "                    \"polarity\": term[\"polarity\"],\n",
    "                    \"aspect_term\": [term[\"term\"]],\n",
    "                    \"index\": self.find_aspect_index(tokens, int(term[\"from\"]), term[\"term\"])\n",
    "                }\n",
    "                preprocessed_data.append(new_data)\n",
    "        return preprocessed_data\n",
    "\n",
    "    def tokenize_data(self, sentence):\n",
    "        \"\"\"\n",
    "        Tokenizes sentence while preserving exact indices.\n",
    "        \"\"\"\n",
    "        tokens_idx = []\n",
    "        i = 0\n",
    "        word = ''\n",
    "        start_idx = -1\n",
    "\n",
    "        while i < len(sentence):\n",
    "            while i < len(sentence) and sentence[i] != ' ':\n",
    "                if not word:\n",
    "                    start_idx = i\n",
    "                word += sentence[i]\n",
    "                i += 1\n",
    "            if word:\n",
    "                tokens_idx.append((word, start_idx))\n",
    "            word = ''\n",
    "            i += 1\n",
    "\n",
    "        return self.clean_tokens(tokens_idx)\n",
    "\n",
    "    def clean_tokens(self, tokens_idx):\n",
    "        \"\"\"\n",
    "        Cleans tokens by removing punctuation and handling contractions.\n",
    "        \"\"\"\n",
    "        cleaned_tokens = []\n",
    "        for word, idx in tokens_idx:\n",
    "            stripped_word = re.sub(r'^[.!(),\\[\\]{}\\'\":;-]+|[.!(),\\[\\]{}\\'\":;-]+$', '', word)\n",
    "            stripped_word = stripped_word.replace(\"'\", \"\")\n",
    "\n",
    "            if stripped_word:  # Skip empty tokens\n",
    "                cleaned_tokens.append((stripped_word.lower(), idx))\n",
    "        return cleaned_tokens\n",
    "\n",
    "    def find_aspect_index(self, tokens, aspect_from, aspect_term):\n",
    "        \"\"\"\n",
    "        Finds the token index corresponding to the aspect term with an error range of ±2.\n",
    "        \"\"\"\n",
    "        aspect_term = self.tokenize_data(aspect_term)\n",
    "        for i in range(len(tokens)):\n",
    "            if aspect_from - 2 <= tokens[i][1] <= aspect_from + 2:\n",
    "                if tokens[i][0].startswith(aspect_term[0][0]):  # Check prefix match\n",
    "                    return i\n",
    "        return -1\n",
    "    \n",
    "    def get_token_embeddings(self, tokens, layers=[-4, -3, -2, -1]):\n",
    "        \"\"\"\n",
    "        Get BERT embeddings for a list of tokens.\n",
    "        \"\"\"\n",
    "        encoded = self.tokenizer(tokens, return_tensors=\"pt\", is_split_into_words=True, padding=True, truncation=True)\n",
    "        \n",
    "        with torch.no_grad():\n",
    "            output = self.model(**encoded)\n",
    "\n",
    "        hidden_states = torch.stack([output.hidden_states[i] for i in layers]).sum(0).squeeze()\n",
    "        return hidden_states\n",
    "\n",
    "    def __len__(self):\n",
    "        \"\"\"\n",
    "        Returns the total number of data samples.\n",
    "        \"\"\"\n",
    "        return len(self.data)\n",
    "\n",
    "    def __getitem__(self, idx):\n",
    "        \"\"\"\n",
    "        Returns a single preprocessed data sample, including computed embeddings.\n",
    "        \"\"\"\n",
    "        sample = self.data[idx]\n",
    "        embeddings = self.get_token_embeddings(sample[\"tokens\"])  # Compute on-the-fly\n",
    "        polarity_map = {\"positive\": 0, \"neutral\": 2, \"negative\": 1, \"conflict\": 3}\n",
    "\n",
    "        return {\n",
    "            \"tokens\": sample[\"tokens\"],\n",
    "            \"embeddings\": embeddings,  # Now computed dynamically\n",
    "            \"polarity\": polarity_map[sample[\"polarity\"]],\n",
    "            \"aspect_term\": sample[\"aspect_term\"],\n",
    "            \"index\": sample[\"index\"],\n",
    "            \"seq_length\": embeddings.shape[0]  # Store sequence length\n",
    "        }"
   ]
  },
  {
   "cell_type": "code",
   "execution_count": 53,
   "metadata": {},
   "outputs": [
    {
     "name": "stdout",
     "output_type": "stream",
     "text": [
      "Preprocessed data loaded from train_task_2.json\n",
      "Preprocessed data loaded from val_task_2.json\n"
     ]
    }
   ],
   "source": [
    "train_dataset = ABSADataset(\"train.json\", \"train_task_2.json\")\n",
    "val_dataset = ABSADataset(\"val.json\", \"val_task_2.json\")"
   ]
  },
  {
   "cell_type": "code",
   "execution_count": 54,
   "metadata": {},
   "outputs": [
    {
     "name": "stdout",
     "output_type": "stream",
     "text": [
      "2961\n",
      "371\n",
      "{'tokens': ['But', 'the', 'staff', 'was', 'so', 'horrible', 'to', 'us'], 'embeddings': tensor([[ 1.9976,  3.0614, -2.7381,  ..., -1.5977,  1.8881, -0.6945],\n",
      "        [ 2.2932,  2.6890, -0.3895,  ...,  2.1881, -1.1270, -0.5891],\n",
      "        [-0.4416, -0.6662, -2.2985,  ...,  1.4890, -1.8471,  3.0896],\n",
      "        ...,\n",
      "        [-1.2842,  1.3957,  1.2688,  ...,  0.6546,  0.2717, -0.5866],\n",
      "        [-2.6654, -3.8004, -3.8122,  ..., -0.1129, -0.2697,  1.6893],\n",
      "        [ 1.4150,  1.0325, -0.4854,  ..., -0.1448, -0.0426, -1.0591]]), 'polarity': 1, 'aspect_term': ['staff'], 'index': 2, 'seq_length': 10}\n",
      "{'tokens': ['I', 'was', 'here', 'a', 'few', 'weeks', 'back', 'and', 'we', 'had', 'the', 'worst', 'customer', 'service', 'experience', 'at', 'a', 'restaurant', 'ever'], 'embeddings': tensor([[ 3.5972,  2.6238, -2.5143,  ..., -0.4186,  1.2370, -0.1547],\n",
      "        [-1.4033, -0.0940,  0.2786,  ...,  2.8207, -1.3669,  4.2318],\n",
      "        [ 2.1835, -1.3102,  1.4985,  ...,  2.4183, -1.8050,  2.2127],\n",
      "        ...,\n",
      "        [-0.0815,  1.5639, -0.9262,  ...,  0.2909, -1.5276, -0.4210],\n",
      "        [ 0.8219, -2.5171, -0.2994,  ..., -3.7108, -4.2678, -0.3276],\n",
      "        [ 0.7396,  0.7422, -0.1499,  ...,  0.3913,  0.1867, -0.4161]]), 'polarity': 1, 'aspect_term': ['customer service'], 'index': 12, 'seq_length': 21}\n"
     ]
    }
   ],
   "source": [
    "print(len(train_dataset))\n",
    "print(len(val_dataset)) \n",
    "print(train_dataset[0])\n",
    "print(val_dataset[0])  "
   ]
  },
  {
   "cell_type": "markdown",
   "metadata": {},
   "source": [
    "Reference: https://discuss.huggingface.co/t/generate-raw-word-embeddings-using-transformer-models-like-bert-for-downstream-process/2958"
   ]
  },
  {
   "cell_type": "code",
   "execution_count": 57,
   "metadata": {},
   "outputs": [],
   "source": [
    "import torch.nn.utils.rnn as rnn_utils\n",
    "\n",
    "class LSTMClassifier(nn.Module):\n",
    "    def __init__(self, input_dim=768, hidden_dim=256, num_layers=2, output_dim=4, dropout=0.3):  # Change output_dim to 4\n",
    "        super(LSTMClassifier, self).__init__()\n",
    "        self.lstm = nn.LSTM(input_dim, hidden_dim, num_layers, batch_first=True, bidirectional=True, dropout=dropout)\n",
    "        self.fc = nn.Linear(hidden_dim * 2, output_dim)  \n",
    "        self.dropout = nn.Dropout(dropout)\n",
    "\n",
    "    def forward(self, x, lengths):\n",
    "        packed_x = nn.utils.rnn.pack_padded_sequence(x, lengths.cpu(), batch_first=True, enforce_sorted=False)\n",
    "        packed_out, (hidden, _) = self.lstm(packed_x)  \n",
    "        hidden = torch.cat((hidden[-2], hidden[-1]), dim=1)  \n",
    "        out = self.fc(self.dropout(hidden))\n",
    "        return out"
   ]
  },
  {
   "cell_type": "code",
   "execution_count": 63,
   "metadata": {},
   "outputs": [],
   "source": [
    "def train_model(model, train_loader, val_loader, epochs=10, lr=0.001):\n",
    "    criterion = nn.CrossEntropyLoss()\n",
    "    optimizer = optim.Adam(model.parameters(), lr=lr)\n",
    "    scheduler = optim.lr_scheduler.StepLR(optimizer, step_size=5, gamma=0.5)\n",
    "\n",
    "    train_loss = []\n",
    "    val_loss = []\n",
    "    train_accuracy = []\n",
    "    val_accuracy = []\n",
    "\n",
    "    best_acc = 0.0\n",
    "    for epoch in range(epochs):\n",
    "        model.train()\n",
    "        total_loss, correct, total = 0, 0, 0\n",
    "\n",
    "        tqdm_bar = tqdm(train_loader, desc=f\"Epoch {epoch+1}/{epochs}\", leave=False)\n",
    "\n",
    "        for embeddings, labels, lengths in tqdm_bar:\n",
    "            optimizer.zero_grad()\n",
    "            outputs = model(embeddings, lengths)\n",
    "            loss = criterion(outputs, labels)\n",
    "            loss.backward()\n",
    "            optimizer.step()\n",
    "\n",
    "            total_loss += loss.item()\n",
    "            _, preds = torch.max(outputs, 1)\n",
    "            correct += (preds == labels).sum().item()\n",
    "            total += labels.size(0)\n",
    "\n",
    "            tqdm_bar.set_postfix(loss=f\"{loss.item():.4f}\")\n",
    "\n",
    "        train_acc = correct / total\n",
    "        train_accuracy.append(train_acc)\n",
    "        train_loss.append(total_loss / len(train_loader))  # ✅ Correct averaging\n",
    "\n",
    "        # Validation\n",
    "        model.eval()\n",
    "        val_total_loss, correct, total = 0, 0, 0\n",
    "        with torch.no_grad():\n",
    "            for embeddings, labels, lengths in val_loader:\n",
    "                outputs = model(embeddings, lengths)\n",
    "                loss = criterion(outputs, labels)  # ✅ Compute validation loss\n",
    "                val_total_loss += loss.item()\n",
    "                \n",
    "                _, preds = torch.max(outputs, 1)\n",
    "                correct += (preds == labels).sum().item()\n",
    "                total += labels.size(0)\n",
    "\n",
    "        val_acc = correct / total\n",
    "        val_accuracy.append(val_acc)\n",
    "        val_loss.append(val_total_loss / len(val_loader))  # ✅ Use val_total_loss\n",
    "\n",
    "        print(f\"Epoch {epoch+1}/{epochs} - Train Loss: {train_loss[-1]:.4f} - Train Acc: {train_acc:.4f} - Val Loss: {val_loss[-1]:.4f} - Val Acc: {val_acc:.4f}\")\n",
    "\n",
    "        if val_acc > best_acc:\n",
    "            best_acc = val_acc\n",
    "            torch.save(model.state_dict(), \"best_lstm_model.pth\")\n",
    "            print(\"🔥 Best model saved!\")\n",
    "\n",
    "    print(f\"🎉 Training complete. Best Validation Accuracy: {best_acc:.4f}\")\n",
    "    return train_loss, val_loss, train_accuracy, val_accuracy"
   ]
  },
  {
   "cell_type": "code",
   "execution_count": 64,
   "metadata": {},
   "outputs": [],
   "source": [
    "def plot_metrics(train_loss, val_loss, train_acc, val_acc):\n",
    "    plt.figure(figsize=(10, 5))\n",
    "    plt.subplot(1, 2, 1)\n",
    "    plt.plot(train_loss, label=\"Train Loss\")\n",
    "    plt.plot(val_loss, label=\"Val Loss\")\n",
    "    plt.xlabel(\"Epochs\")\n",
    "    plt.ylabel(\"Loss\")\n",
    "    plt.legend()\n",
    "\n",
    "    plt.subplot(1, 2, 2)\n",
    "    plt.plot(train_acc, label=\"Train Acc\")\n",
    "    plt.plot(val_acc, label=\"Val Acc\")\n",
    "    plt.xlabel(\"Epochs\")\n",
    "    plt.ylabel(\"Accuracy\")\n",
    "    plt.legend()\n",
    "\n",
    "    plt.tight_layout()\n",
    "    plt.show()"
   ]
  },
  {
   "cell_type": "code",
   "execution_count": 60,
   "metadata": {},
   "outputs": [],
   "source": [
    "def collate_fn(batch):\n",
    "    embeddings, labels, lengths = zip(*[(torch.tensor(sample[\"embeddings\"]), sample[\"polarity\"], sample[\"seq_length\"]) for sample in batch])\n",
    "\n",
    "    # Pad sequences to max length in the batch\n",
    "    padded_embeddings = pad_sequence(embeddings, batch_first=True, padding_value=0)\n",
    "\n",
    "    return padded_embeddings, torch.tensor(labels), torch.tensor(lengths)\n"
   ]
  },
  {
   "cell_type": "code",
   "execution_count": 65,
   "metadata": {},
   "outputs": [],
   "source": [
    "train_loader = DataLoader(train_dataset, batch_size=32, shuffle=True, collate_fn=collate_fn)\n",
    "val_loader = DataLoader(val_dataset, batch_size=32, shuffle=False, collate_fn=collate_fn)"
   ]
  },
  {
   "cell_type": "code",
   "execution_count": 66,
   "metadata": {},
   "outputs": [
    {
     "name": "stderr",
     "output_type": "stream",
     "text": [
      "Epoch 1/10:   0%|          | 0/93 [00:00<?, ?it/s]C:\\Users\\ASUS\\AppData\\Local\\Temp\\ipykernel_17456\\1002749318.py:2: UserWarning: To copy construct from a tensor, it is recommended to use sourceTensor.clone().detach() or sourceTensor.clone().detach().requires_grad_(True), rather than torch.tensor(sourceTensor).\n",
      "  embeddings, labels, lengths = zip(*[(torch.tensor(sample[\"embeddings\"]), sample[\"polarity\"], sample[\"seq_length\"]) for sample in batch])\n",
      "                                                                        \r"
     ]
    },
    {
     "name": "stdout",
     "output_type": "stream",
     "text": [
      "Epoch 1/10 - Train Loss: 0.8407 - Train Acc: 0.6606 - Val Loss: 0.8282 - Val Acc: 0.6496\n",
      "🔥 Best model saved!\n"
     ]
    },
    {
     "name": "stderr",
     "output_type": "stream",
     "text": [
      "                                                                        \r"
     ]
    },
    {
     "name": "stdout",
     "output_type": "stream",
     "text": [
      "Epoch 2/10 - Train Loss: 0.6564 - Train Acc: 0.7403 - Val Loss: 0.8826 - Val Acc: 0.6523\n",
      "🔥 Best model saved!\n"
     ]
    },
    {
     "name": "stderr",
     "output_type": "stream",
     "text": [
      "                                                                        \r"
     ]
    },
    {
     "name": "stdout",
     "output_type": "stream",
     "text": [
      "Epoch 3/10 - Train Loss: 0.5493 - Train Acc: 0.7903 - Val Loss: 0.8248 - Val Acc: 0.6604\n",
      "🔥 Best model saved!\n"
     ]
    },
    {
     "name": "stderr",
     "output_type": "stream",
     "text": [
      "                                                                        \r"
     ]
    },
    {
     "name": "stdout",
     "output_type": "stream",
     "text": [
      "Epoch 4/10 - Train Loss: 0.4747 - Train Acc: 0.8031 - Val Loss: 0.8595 - Val Acc: 0.6361\n"
     ]
    },
    {
     "name": "stderr",
     "output_type": "stream",
     "text": [
      "                                                                        \r"
     ]
    },
    {
     "name": "stdout",
     "output_type": "stream",
     "text": [
      "Epoch 5/10 - Train Loss: 0.4547 - Train Acc: 0.8149 - Val Loss: 0.8758 - Val Acc: 0.6765\n",
      "🔥 Best model saved!\n"
     ]
    },
    {
     "name": "stderr",
     "output_type": "stream",
     "text": [
      "                                                                        \r"
     ]
    },
    {
     "name": "stdout",
     "output_type": "stream",
     "text": [
      "Epoch 6/10 - Train Loss: 0.4028 - Train Acc: 0.8291 - Val Loss: 0.9417 - Val Acc: 0.6280\n"
     ]
    },
    {
     "name": "stderr",
     "output_type": "stream",
     "text": [
      "                                                                        \r"
     ]
    },
    {
     "name": "stdout",
     "output_type": "stream",
     "text": [
      "Epoch 7/10 - Train Loss: 0.3723 - Train Acc: 0.8396 - Val Loss: 0.9851 - Val Acc: 0.6469\n"
     ]
    },
    {
     "name": "stderr",
     "output_type": "stream",
     "text": [
      "                                                                        \r"
     ]
    },
    {
     "name": "stdout",
     "output_type": "stream",
     "text": [
      "Epoch 8/10 - Train Loss: 0.3602 - Train Acc: 0.8372 - Val Loss: 0.9815 - Val Acc: 0.6226\n"
     ]
    },
    {
     "name": "stderr",
     "output_type": "stream",
     "text": [
      "                                                                        \r"
     ]
    },
    {
     "name": "stdout",
     "output_type": "stream",
     "text": [
      "Epoch 9/10 - Train Loss: 0.3499 - Train Acc: 0.8386 - Val Loss: 0.9869 - Val Acc: 0.6712\n"
     ]
    },
    {
     "name": "stderr",
     "output_type": "stream",
     "text": [
      "                                                                         \r"
     ]
    },
    {
     "name": "stdout",
     "output_type": "stream",
     "text": [
      "Epoch 10/10 - Train Loss: 0.3114 - Train Acc: 0.8521 - Val Loss: 1.0774 - Val Acc: 0.6334\n",
      "🎉 Training complete. Best Validation Accuracy: 0.6765\n"
     ]
    }
   ],
   "source": [
    "model = LSTMClassifier()\n",
    "train_loss, val_loss, train_acc, val_acc = train_model(model, train_loader, val_loader, epochs=10, lr=0.001)"
   ]
  },
  {
   "cell_type": "code",
   "execution_count": 67,
   "metadata": {},
   "outputs": [
    {
     "data": {
      "image/png": "[encoded data removed]",
      "text/plain": [
       "<Figure size 1000x500 with 2 Axes>"
      ]
     },
     "metadata": {},
     "output_type": "display_data"
    }
   ],
   "source": [
    "plot_metrics(train_loss, val_loss, train_acc, val_acc)"
   ]
  },
  {
   "cell_type": "code",
   "execution_count": 69,
   "metadata": {},
   "outputs": [
    {
     "name": "stdout",
     "output_type": "stream",
     "text": [
      "Preprocessed data loaded from val_task_2.json\n"
     ]
    },
    {
     "name": "stderr",
     "output_type": "stream",
     "text": [
      "Evaluating:   0%|          | 0/24 [00:00<?, ?it/s]C:\\Users\\ASUS\\AppData\\Local\\Temp\\ipykernel_17456\\1002749318.py:2: UserWarning: To copy construct from a tensor, it is recommended to use sourceTensor.clone().detach() or sourceTensor.clone().detach().requires_grad_(True), rather than torch.tensor(sourceTensor).\n",
      "  embeddings, labels, lengths = zip(*[(torch.tensor(sample[\"embeddings\"]), sample[\"polarity\"], sample[\"seq_length\"]) for sample in batch])\n",
      "Evaluating: 100%|██████████| 24/24 [00:24<00:00,  1.02s/it]"
     ]
    },
    {
     "name": "stdout",
     "output_type": "stream",
     "text": [
      "✅ Test Accuracy: 67.65%\n"
     ]
    },
    {
     "name": "stderr",
     "output_type": "stream",
     "text": [
      "\n"
     ]
    },
    {
     "data": {
      "text/plain": [
       "67.65498652291106"
      ]
     },
     "execution_count": 69,
     "metadata": {},
     "output_type": "execute_result"
    }
   ],
   "source": [
    "def load_and_evaluate(model_path = \"best_lstm_model.pth\", test_file = \"val_task_2.json\", batch_size=16):\n",
    "    \"\"\"\n",
    "    Load the trained model and evaluate it on test data.\n",
    "\n",
    "    Args:\n",
    "        model_path (str): Path to the saved model file.\n",
    "        test_file (str): Path to the test dataset.\n",
    "        batch_size (int): Batch size for evaluation.\n",
    "\n",
    "    Returns:\n",
    "        float: Test accuracy.\n",
    "    \"\"\"\n",
    "\n",
    "    # Load test dataset\n",
    "    test_dataset = ABSADataset(\"val.json\", test_file)\n",
    "    \n",
    "    # Ensure collate_fn is used to handle variable-length sequences\n",
    "    test_loader = DataLoader(test_dataset, batch_size=batch_size, shuffle=False, collate_fn=collate_fn)\n",
    "\n",
    "    # Define model\n",
    "    model = LSTMClassifier(output_dim=4)  # Ensure output_dim matches trained model\n",
    "\n",
    "    # Load saved model weights\n",
    "    model.load_state_dict(torch.load(model_path))\n",
    "    model.eval()  # Set to evaluation mode\n",
    "\n",
    "    correct, total = 0, 0\n",
    "    with torch.no_grad():\n",
    "        tqdm_bar = tqdm(test_loader, desc=\"Evaluating\")\n",
    "        for embeddings, labels, lengths in tqdm_bar:\n",
    "            outputs = model(embeddings, lengths)\n",
    "            _, preds = torch.max(outputs, 1)  # Get predicted class\n",
    "            correct += (preds == labels).sum().item()\n",
    "            total += labels.size(0)\n",
    "\n",
    "    accuracy = correct / total * 100\n",
    "    print(f\"✅ Test Accuracy: {accuracy:.2f}%\")\n",
    "    return accuracy\n",
    "\n",
    "load_and_evaluate()"
   ]
  }
 ],
 "metadata": {
  "kernelspec": {
   "display_name": "base",
   "language": "python",
   "name": "python3"
  },
  "language_info": {
   "codemirror_mode": {
    "name": "ipython",
    "version": 3
   },
   "file_extension": ".py",
   "mimetype": "text/x-python",
   "name": "python",
   "nbconvert_exporter": "python",
   "pygments_lexer": "ipython3",
   "version": "3.11.5"
  }
 },
 "nbformat": 4,
 "nbformat_minor": 2
}
