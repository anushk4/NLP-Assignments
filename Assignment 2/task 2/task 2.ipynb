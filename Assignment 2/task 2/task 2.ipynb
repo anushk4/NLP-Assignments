{
 "cells": [
  {
   "cell_type": "markdown",
   "metadata": {},
   "source": [
    "## Task 2: Aspect Based Sentiment Analysis"
   ]
  },
  {
   "cell_type": "markdown",
   "metadata": {},
   "source": [
    "##### References:\n",
    "- [Hugging Face: Generate BERT Embeddings](https://discuss.huggingface.co/t/generate-raw-word-embeddings-using-transformer-models-like-bert-for-downstream-process/2958)\n",
    "- [Hugging Face: Size of embedding vectors](https://discuss.huggingface.co/t/huggingface-dataset-each-element-in-list-of-batch-should-be-of-equal-size/10697/6)\n",
    "- [Medium: Finetune BERT](https://medium.com/@xiaohan_63326/fine-tune-fine-tuning-bert-for-sentiment-analysis-f5002b08f10a)\n",
    "- [Medium: Finetune Roberta for COVID-19 Tweet Sentiment Analysis](https://davidanifowoshe.medium.com/fine-tuning-roberta-for-covid-19-tweet-sentiment-classification-4063b85ff2e3)\n",
    "- [Github: Finetune Roberta for Sentiment Analysis](https://github.com/DhavalTaunk08/NLP_scripts/blob/master/sentiment_analysis_using_roberta.ipynb)\n",
    "- [Medium: Finetune BART as chat summarizer](https://medium.com/@ferlatti.aldo/fine-tuning-a-chat-summarizer-c18625bc817d)"
   ]
  },
  {
   "cell_type": "code",
   "execution_count": 7,
   "metadata": {
    "execution": {
     "iopub.execute_input": "2025-03-15T17:57:36.960245Z",
     "iopub.status.busy": "2025-03-15T17:57:36.959970Z",
     "iopub.status.idle": "2025-03-15T17:57:56.872817Z",
     "shell.execute_reply": "2025-03-15T17:57:56.872087Z",
     "shell.execute_reply.started": "2025-03-15T17:57:36.960225Z"
    },
    "trusted": true
   },
   "outputs": [],
   "source": [
    "# Import all libraries\n",
    "import json\n",
    "import re\n",
    "import os\n",
    "from torch.utils.data import Dataset, DataLoader\n",
    "import torch\n",
    "from transformers import AutoTokenizer, AutoModel\n",
    "import torch.nn as nn\n",
    "import torch.optim as optim\n",
    "from tqdm import tqdm\n",
    "import matplotlib.pyplot as plt\n",
    "from transformers import BertForSequenceClassification\n",
    "from transformers import AdamW, get_scheduler\n",
    "from transformers import BartForSequenceClassification\n",
    "from transformers import BartTokenizer\n",
    "from transformers import RobertaForSequenceClassification, RobertaTokenizer\n",
    "from transformers import BertTokenizer\n",
    "import warnings"
   ]
  },
  {
   "cell_type": "code",
   "execution_count": 2,
   "metadata": {
    "execution": {
     "iopub.execute_input": "2025-03-15T16:09:13.296575Z",
     "iopub.status.busy": "2025-03-15T16:09:13.295943Z",
     "iopub.status.idle": "2025-03-15T16:09:13.300303Z",
     "shell.execute_reply": "2025-03-15T16:09:13.299364Z",
     "shell.execute_reply.started": "2025-03-15T16:09:13.296544Z"
    },
    "trusted": true
   },
   "outputs": [],
   "source": [
    "warnings.filterwarnings(\"ignore\")"
   ]
  },
  {
   "cell_type": "markdown",
   "metadata": {},
   "source": [
    "### Task 2.2: Preprocessing"
   ]
  },
  {
   "cell_type": "code",
   "execution_count": 8,
   "metadata": {
    "execution": {
     "iopub.execute_input": "2025-03-15T16:09:15.793710Z",
     "iopub.status.busy": "2025-03-15T16:09:15.793407Z",
     "iopub.status.idle": "2025-03-15T16:09:15.807803Z",
     "shell.execute_reply": "2025-03-15T16:09:15.806911Z",
     "shell.execute_reply.started": "2025-03-15T16:09:15.793688Z"
    },
    "trusted": true
   },
   "outputs": [],
   "source": [
    "# Dataset class for Aspect Based Sentiment Analysis using our LSTM model\n",
    "class ABSADataset(Dataset):\n",
    "    def __init__(self, file_path, saved_file_path = None):\n",
    "        \"\"\"\n",
    "        Initialize the dataset by loading and preprocessing the data.\n",
    "        \"\"\"\n",
    "        self.tokenizer = AutoTokenizer.from_pretrained(\"bert-base-cased\")\n",
    "        self.model = AutoModel.from_pretrained(\"bert-base-cased\", output_hidden_states=True)\n",
    "        if saved_file_path is not None and os.path.exists(saved_file_path):\n",
    "            with open(saved_file_path, 'r') as f:\n",
    "                self.data = json.load(f)  # Load preprocessed data from the saved file\n",
    "            print(\"Preprocessed data loaded from\", saved_file_path)\n",
    "        else:\n",
    "            with open(file_path, 'r') as f:\n",
    "                raw_data = json.load(f)  # Load raw JSON data from given file\n",
    "            self.data = self.preprocess_data(raw_data)  # Preprocess and store in self.data\n",
    "            if saved_file_path is not None:\n",
    "                with open(saved_file_path, 'w') as f:\n",
    "                    json.dump(self.data, f, indent=4)  # Save preprocessed data in the file path\n",
    "                print(\"Preprocessed data saved to\", saved_file_path)\n",
    "\n",
    "    \"\"\"\n",
    "    Preprocessing rule (Assumptions taken):\n",
    "    - Extract the index of each token in the original sentence by taking multiple spaces into account\n",
    "    - Remove leading and trailing punctuation like ,.!()-{}[]\"\";:\n",
    "    - Remove single quotes\n",
    "    - Skip words that become empty (which means they were only punctuation)\n",
    "    - Allow an error range of +/- 2 tokens when matching the aspect term\n",
    "    - Check if the token's prefix matches the start of the aspect term\n",
    "    - Return -1 if no match is found\n",
    "    \"\"\"\n",
    "\n",
    "    def preprocess_data(self, data):\n",
    "        \"\"\"\n",
    "        Tokenizes and processes data into required format.\n",
    "        \"\"\"\n",
    "        preprocessed_data = []\n",
    "        for d in data:\n",
    "            tokens = self.tokenize_data(d[\"sentence\"])\n",
    "            for term in d['aspect_terms']:\n",
    "                new_data = {\n",
    "                    \"tokens\": [t[0] for t in tokens],  # Extract token words\n",
    "                    \"polarity\": term[\"polarity\"],\n",
    "                    \"aspect_term\": [term[\"term\"]],\n",
    "                    \"index\": self.find_aspect_index(tokens, int(term[\"from\"]), term[\"term\"])\n",
    "                }\n",
    "                preprocessed_data.append(new_data)\n",
    "        return preprocessed_data\n",
    "\n",
    "    def tokenize_data(self, sentence):\n",
    "        \"\"\"\n",
    "        Tokenizes sentence while preserving exact indices according to raw data.\n",
    "        \n",
    "        We tokenize manually to handle all the different cases that have been included in the given files.\n",
    "        \"\"\"\n",
    "        tokens_idx = []\n",
    "        i = 0\n",
    "        word = ''\n",
    "        start_idx = -1\n",
    "\n",
    "        while i < len(sentence):\n",
    "            while i < len(sentence) and sentence[i] != ' ':\n",
    "                if not word:\n",
    "                    start_idx = i\n",
    "                word += sentence[i]\n",
    "                i += 1\n",
    "            if word:\n",
    "                tokens_idx.append((word, start_idx))\n",
    "            word = ''\n",
    "            i += 1\n",
    "\n",
    "        return self.clean_tokens(tokens_idx)\n",
    "\n",
    "    def clean_tokens(self, tokens_idx):\n",
    "        \"\"\"\n",
    "        Cleans tokens by removing punctuation and handling contractions.\n",
    "        \"\"\"\n",
    "        cleaned_tokens = []\n",
    "        for word, idx in tokens_idx:\n",
    "            stripped_word = re.sub(r'^[.!(),\\[\\]{}\\'\":;-]+|[.!(),\\[\\]{}\\'\":;-]+$', '', word)\n",
    "            stripped_word = stripped_word.replace(\"'\", \"\")\n",
    "\n",
    "            if stripped_word:\n",
    "                cleaned_tokens.append((stripped_word.lower(), idx))\n",
    "        return cleaned_tokens\n",
    "\n",
    "    def find_aspect_index(self, tokens, aspect_from, aspect_term):\n",
    "        \"\"\"\n",
    "        Finds the token index corresponding to the aspect term with an error range of +/-2.\n",
    "        \"\"\"\n",
    "        aspect_term = self.tokenize_data(aspect_term)\n",
    "        for i in range(len(tokens)):\n",
    "            if aspect_from - 2 <= tokens[i][1] <= aspect_from + 2:\n",
    "                if tokens[i][0].startswith(aspect_term[0][0]):  # Check prefix match\n",
    "                    return i\n",
    "        return -1\n",
    "\n",
    "    def get_token_embeddings(self, tokens, max_length=128, layers=[-4, -3, -2, -1]):\n",
    "        \"\"\"\n",
    "        Get BERT embeddings for a list of tokens, ensuring a fixed shape of (max_length, 768).\n",
    "        \n",
    "        We use BERT since BERT is contextual and can capture the meaning of the words better.\n",
    "        \"\"\"\n",
    "        encoded = self.tokenizer(\n",
    "            tokens,\n",
    "            return_tensors=\"pt\",\n",
    "            is_split_into_words=True,\n",
    "            padding=\"max_length\",\n",
    "            truncation=True,\n",
    "            max_length=max_length,\n",
    "        )\n",
    "\n",
    "        with torch.no_grad():\n",
    "            output = self.model(**encoded)\n",
    "\n",
    "        # Compute embeddings (sum last 4 layers as these capture the most information)\n",
    "        hidden_states = torch.stack([output.hidden_states[i] for i in layers]).sum(0).squeeze()\n",
    "\n",
    "        # Ensure final shape is (max_length, 768)\n",
    "        if hidden_states.shape[0] < max_length:\n",
    "            pad_size = max_length - hidden_states.shape[0]\n",
    "            pad_tensor = torch.zeros((pad_size, hidden_states.shape[1]))  # (pad_size, 768)\n",
    "            hidden_states = torch.cat([hidden_states, pad_tensor], dim=0)  # Pad at the end\n",
    "\n",
    "        return hidden_states[:max_length]  # (max_length, 768)\n",
    "\n",
    "    def __len__(self):\n",
    "        \"\"\"\n",
    "        Returns the total number of data samples.\n",
    "        \"\"\"\n",
    "        return len(self.data)\n",
    "\n",
    "    def __getitem__(self, idx):\n",
    "        \"\"\"\n",
    "        Returns a single preprocessed data sample, including computed embeddings.\n",
    "        \"\"\"\n",
    "        sample = self.data[idx]\n",
    "        polarity_map = {\"positive\": 0, \"neutral\": 2, \"negative\": 1, \"conflict\": 3}\n",
    "\n",
    "        # Get sentence embeddings (shape: (max_length, 768))\n",
    "        embeddings = self.get_token_embeddings(sample[\"tokens\"], max_length=128)\n",
    "\n",
    "        # Get aspect term embeddings (shape: (aspect_max_length, 768))\n",
    "        aspect_tokens = self.tokenize_data(sample[\"aspect_term\"][0])\n",
    "        aspect_embedding = self.get_token_embeddings([t[0] for t in aspect_tokens], max_length=8)\n",
    "        return {\n",
    "            \"tokens\": sample[\"tokens\"],\n",
    "            \"embeddings\": torch.tensor(embeddings, dtype=torch.float),  # Shape: (128, 768)\n",
    "            \"polarity\": torch.tensor(polarity_map[sample[\"polarity\"]], dtype=torch.long),  # Shape: ()\n",
    "            \"aspect_term\":  torch.tensor(aspect_embedding, dtype=torch.float), # Shape: (8, 768)\n",
    "            \"index\": torch.tensor(sample[\"index\"], dtype=torch.long),  # Shape: ()\n",
    "        }"
   ]
  },
  {
   "cell_type": "code",
   "execution_count": null,
   "metadata": {
    "execution": {
     "iopub.execute_input": "2025-03-15T16:09:21.529647Z",
     "iopub.status.busy": "2025-03-15T16:09:21.529296Z",
     "iopub.status.idle": "2025-03-15T16:09:29.957705Z",
     "shell.execute_reply": "2025-03-15T16:09:29.957013Z",
     "shell.execute_reply.started": "2025-03-15T16:09:21.529623Z"
    },
    "trusted": true
   },
   "outputs": [
    {
     "data": {
      "application/vnd.jupyter.widget-view+json": {
       "model_id": "c3af2f85fa78474b8a08e88e6416a2cd",
       "version_major": 2,
       "version_minor": 0
      },
      "text/plain": [
       "tokenizer_config.json:   0%|          | 0.00/49.0 [00:00<?, ?B/s]"
      ]
     },
     "metadata": {},
     "output_type": "display_data"
    },
    {
     "data": {
      "application/vnd.jupyter.widget-view+json": {
       "model_id": "28aa589e6d8e409dbd0a53960802fce7",
       "version_major": 2,
       "version_minor": 0
      },
      "text/plain": [
       "config.json:   0%|          | 0.00/570 [00:00<?, ?B/s]"
      ]
     },
     "metadata": {},
     "output_type": "display_data"
    },
    {
     "data": {
      "application/vnd.jupyter.widget-view+json": {
       "model_id": "7e4ca534753a4227b3bdb447cdff4b47",
       "version_major": 2,
       "version_minor": 0
      },
      "text/plain": [
       "vocab.txt:   0%|          | 0.00/213k [00:00<?, ?B/s]"
      ]
     },
     "metadata": {},
     "output_type": "display_data"
    },
    {
     "data": {
      "application/vnd.jupyter.widget-view+json": {
       "model_id": "62c1e1e803234ac28450226d7af55493",
       "version_major": 2,
       "version_minor": 0
      },
      "text/plain": [
       "tokenizer.json:   0%|          | 0.00/436k [00:00<?, ?B/s]"
      ]
     },
     "metadata": {},
     "output_type": "display_data"
    },
    {
     "data": {
      "application/vnd.jupyter.widget-view+json": {
       "model_id": "189e9d7ebf844b819fb47eb9ffea543e",
       "version_major": 2,
       "version_minor": 0
      },
      "text/plain": [
       "model.safetensors:   0%|          | 0.00/436M [00:00<?, ?B/s]"
      ]
     },
     "metadata": {},
     "output_type": "display_data"
    },
    {
     "name": "stdout",
     "output_type": "stream",
     "text": [
      "Preprocessed data loaded from /kaggle/input/dataset/train_task_2.json\n",
      "Preprocessed data loaded from /kaggle/input/dataset/val_task_2.json\n"
     ]
    }
   ],
   "source": [
    "# Path for kaggle\n",
    "# train_dataset = ABSADataset(\"train.json\", \"/kaggle/input/dataset/train_task_2.json\")\n",
    "# val_dataset = ABSADataset(\"val.json\", \"/kaggle/input/dataset/val_task_2.json\")\n",
    "\n",
    "# Path for local\n",
    "train_dataset = ABSADataset(\"train.json\", \"train_task_2.json\")\n",
    "val_dataset = ABSADataset(\"val.json\", \"val_task_2.json\")"
   ]
  },
  {
   "cell_type": "code",
   "execution_count": null,
   "metadata": {},
   "outputs": [
    {
     "name": "stdout",
     "output_type": "stream",
     "text": [
      "Max train length: 69\n",
      "Max val length: 48\n"
     ]
    }
   ],
   "source": [
    "# Check the maximum length of the sentences to set the max_length parameter\n",
    "max_train_length = max([len(d[\"tokens\"]) for d in train_dataset.data])\n",
    "max_val_length = max([len(d[\"tokens\"]) for d in val_dataset.data])\n",
    "print(\"Max train length:\", max_train_length)\n",
    "print(\"Max val length:\", max_val_length)"
   ]
  },
  {
   "cell_type": "code",
   "execution_count": null,
   "metadata": {
    "execution": {
     "iopub.execute_input": "2025-03-14T19:58:21.312281Z",
     "iopub.status.busy": "2025-03-14T19:58:21.311988Z",
     "iopub.status.idle": "2025-03-14T19:58:21.889517Z",
     "shell.execute_reply": "2025-03-14T19:58:21.888715Z",
     "shell.execute_reply.started": "2025-03-14T19:58:21.312259Z"
    },
    "trusted": true
   },
   "outputs": [
    {
     "name": "stdout",
     "output_type": "stream",
     "text": [
      "2961\n",
      "371\n"
     ]
    },
    {
     "name": "stderr",
     "output_type": "stream",
     "text": [
      "<ipython-input-19-aaa2431169f3>:146: UserWarning: To copy construct from a tensor, it is recommended to use sourceTensor.clone().detach() or sourceTensor.clone().detach().requires_grad_(True), rather than torch.tensor(sourceTensor).\n",
      "  \"embeddings\": torch.tensor(embeddings, dtype=torch.float),  # Shape: (128, 768)\n",
      "<ipython-input-19-aaa2431169f3>:148: UserWarning: To copy construct from a tensor, it is recommended to use sourceTensor.clone().detach() or sourceTensor.clone().detach().requires_grad_(True), rather than torch.tensor(sourceTensor).\n",
      "  \"aspect_term\":  torch.tensor(aspect_embedding, dtype=torch.float),\n"
     ]
    },
    {
     "name": "stdout",
     "output_type": "stream",
     "text": [
      "{'tokens': ['But', 'the', 'staff', 'was', 'so', 'horrible', 'to', 'us'], 'embeddings': tensor([[ 1.9976,  3.0614, -2.7381,  ..., -1.5977,  1.8881, -0.6945],\n",
      "        [ 2.2932,  2.6890, -0.3895,  ...,  2.1881, -1.1270, -0.5891],\n",
      "        [-0.4416, -0.6662, -2.2985,  ...,  1.4890, -1.8471,  3.0896],\n",
      "        ...,\n",
      "        [-3.3617,  1.8583, -0.7389,  ..., -0.9075, -1.0788, -2.5828],\n",
      "        [-2.9848,  1.6417, -1.2289,  ..., -1.4844, -1.8254, -3.1934],\n",
      "        [-3.0569,  1.6146, -1.7832,  ..., -1.0309, -2.0181, -3.6214]]), 'polarity': tensor(1), 'aspect_term': tensor([[ 0.9993, -1.1836, -1.4425,  ..., -1.0973,  1.5845,  1.2668],\n",
      "        [ 2.5821, -4.1148, -0.4606,  ..., -3.3853, -0.1479,  0.3373],\n",
      "        [ 0.2073,  0.8993,  0.4269,  ..., -0.0397,  0.8534, -0.5007],\n",
      "        ...,\n",
      "        [ 0.7302, -2.3625, -0.5775,  ..., -1.7317, -1.3500,  2.5714],\n",
      "        [ 0.5361, -2.1273, -0.7241,  ..., -1.6414, -0.6824,  2.7984],\n",
      "        [ 0.6539, -1.3669, -2.6095,  ..., -0.8288,  1.8169,  4.2203]]), 'index': tensor(2)}\n",
      "{'tokens': ['I', 'was', 'here', 'a', 'few', 'weeks', 'back', 'and', 'we', 'had', 'the', 'worst', 'customer', 'service', 'experience', 'at', 'a', 'restaurant', 'ever'], 'embeddings': tensor([[ 3.5972,  2.6238, -2.5143,  ..., -0.4186,  1.2370, -0.1547],\n",
      "        [-1.4033, -0.0940,  0.2786,  ...,  2.8207, -1.3669,  4.2318],\n",
      "        [ 2.1835, -1.3102,  1.4985,  ...,  2.4183, -1.8050,  2.2127],\n",
      "        ...,\n",
      "        [-1.2712, -0.3999, -0.5788,  ...,  0.8361, -1.9402, -1.0874],\n",
      "        [-0.2658,  0.1937, -0.6427,  ...,  1.1425, -2.2993, -2.1760],\n",
      "        [-0.6617,  0.0487, -1.9680,  ...,  1.7595, -1.1541, -0.8367]]), 'polarity': tensor(1), 'aspect_term': tensor([[-0.7149, -1.6694, -0.6739,  ...,  0.1908,  1.5145,  1.2978],\n",
      "        [ 2.3363, -0.6419, -0.4983,  ..., -0.4619,  0.0755,  0.3284],\n",
      "        [ 1.0971, -4.6552, -0.1587,  ..., -4.1071, -0.7690,  4.2592],\n",
      "        ...,\n",
      "        [ 0.1822, -0.9471,  0.9471,  ..., -2.7717,  1.5265,  5.1497],\n",
      "        [ 0.9118, -1.5729,  1.9811,  ..., -2.3746, -0.9063,  2.8127],\n",
      "        [ 0.6203, -0.7260,  1.4271,  ..., -1.4662,  0.1426,  1.9636]]), 'index': tensor(12)}\n"
     ]
    }
   ],
   "source": [
    "# Verify the dataset\n",
    "print(len(train_dataset))\n",
    "print(len(val_dataset)) \n",
    "print(train_dataset[0])\n",
    "print(val_dataset[0])  "
   ]
  },
  {
   "cell_type": "markdown",
   "metadata": {},
   "source": [
    "### Task 2.3: Model Training"
   ]
  },
  {
   "cell_type": "code",
   "execution_count": 9,
   "metadata": {
    "execution": {
     "iopub.execute_input": "2025-03-15T16:09:34.726888Z",
     "iopub.status.busy": "2025-03-15T16:09:34.726589Z",
     "iopub.status.idle": "2025-03-15T16:09:34.733143Z",
     "shell.execute_reply": "2025-03-15T16:09:34.732175Z",
     "shell.execute_reply.started": "2025-03-15T16:09:34.726867Z"
    },
    "trusted": true
   },
   "outputs": [],
   "source": [
    "class LSTMClassifier(nn.Module):\n",
    "    \"\"\"\n",
    "    LSTM model for aspect-based sentiment analysis.\n",
    "    \"\"\"\n",
    "    def __init__(self, input_dim=768, hidden_dim=256, num_layers=2, output_dim=4, dropout=0.3):\n",
    "        \"\"\"\n",
    "        Initializes the LSTM model with given dimensions.\n",
    "        \"\"\"\n",
    "        super(LSTMClassifier, self).__init__()\n",
    "        # Define the LSTM layer\n",
    "        self.lstm = nn.LSTM(input_dim, hidden_dim, num_layers, batch_first=True, bidirectional=True, dropout=dropout)        \n",
    "        # Aspect FC layer: Maps aspect embeddings to hidden_dim\n",
    "        self.aspect_fc = nn.Linear(input_dim, hidden_dim)\n",
    "        # Fully connected layer: Maps hidden_dim * 3 to output_dim\n",
    "        self.fc = nn.Linear(hidden_dim * 3, output_dim)\n",
    "        # Dropout: Prevents overfitting\n",
    "        self.dropout = nn.Dropout(dropout)\n",
    "\n",
    "    def forward(self, sentence_embeddings, aspect_embeddings, aspect_index):\n",
    "        \"\"\"\n",
    "        Forward pass of the LSTM model.\n",
    "        \"\"\"\n",
    "        lstm_out, (hidden, _) = self.lstm(sentence_embeddings)  \n",
    "        hidden = torch.cat((hidden[-2], hidden[-1]), dim=1)  # Shape: (batch_size, hidden_dim * 2)\n",
    "        aspect_rep = aspect_embeddings.mean(dim=1)  # Shape: (batch_size, 768)\n",
    "        aspect_rep = self.aspect_fc(aspect_rep)  # **Maps (batch_size, 768) → (batch_size, 256)**\n",
    "        combined = torch.cat((hidden, aspect_rep), dim=1)  # Shape: (batch_size, hidden_dim * 3)\n",
    "        out = self.fc(self.dropout(combined))\n",
    "        return out"
   ]
  },
  {
   "cell_type": "code",
   "execution_count": null,
   "metadata": {
    "execution": {
     "iopub.execute_input": "2025-03-15T16:09:38.022700Z",
     "iopub.status.busy": "2025-03-15T16:09:38.022328Z",
     "iopub.status.idle": "2025-03-15T16:09:38.033416Z",
     "shell.execute_reply": "2025-03-15T16:09:38.032450Z",
     "shell.execute_reply.started": "2025-03-15T16:09:38.022673Z"
    },
    "trusted": true
   },
   "outputs": [],
   "source": [
    "def train_model(model, train_loader, val_loader, epochs=10, lr=0.001, patience=3):\n",
    "    \"\"\"\n",
    "    Trains the given model using the train and validation loaders.\n",
    "    \"\"\"\n",
    "    criterion = nn.CrossEntropyLoss()\n",
    "    optimizer = optim.Adam(model.parameters(), lr=lr)\n",
    "\n",
    "    train_loss = []\n",
    "    val_loss = []\n",
    "    train_accuracy = []\n",
    "    val_accuracy = []\n",
    "\n",
    "    best_acc = 0.0\n",
    "    best_loss = float('inf')\n",
    "    patience_counter = 0  # Early stopping counter\n",
    "\n",
    "    device = torch.device(\"cuda\" if torch.cuda.is_available() else \"cpu\")\n",
    "    model.to(device)\n",
    "\n",
    "    for epoch in range(epochs):\n",
    "        model.train()\n",
    "        total_loss, correct, total = 0, 0, 0\n",
    "\n",
    "        tqdm_bar = tqdm(train_loader, desc=f\"Epoch {epoch+1}/{epochs}\", leave=False)\n",
    "\n",
    "        for sentence_embeddings, aspect_embeddings, labels, aspect_index in tqdm_bar:\n",
    "            # Embeddings and labels to device\n",
    "            sentence_embeddings = sentence_embeddings.to(device)\n",
    "            aspect_embeddings = aspect_embeddings.to(device)\n",
    "            labels = labels.to(device)\n",
    "            aspect_index = aspect_index.to(device)\n",
    "\n",
    "            optimizer.zero_grad()\n",
    "            outputs = model(sentence_embeddings, aspect_embeddings, aspect_index)\n",
    "            loss = criterion(outputs, labels)\n",
    "            loss.backward()\n",
    "            optimizer.step()\n",
    "\n",
    "            total_loss += loss.item()\n",
    "            _, preds = torch.max(outputs, 1)\n",
    "            correct += (preds == labels).sum().item()\n",
    "            total += labels.size(0)\n",
    "\n",
    "            tqdm_bar.set_postfix(loss=f\"{loss.item():.4f}\")\n",
    "\n",
    "        train_acc = correct / total\n",
    "        train_accuracy.append(train_acc)\n",
    "        train_loss.append(total_loss / len(train_loader))\n",
    "\n",
    "        # Validation\n",
    "        model.eval()\n",
    "        val_total_loss, correct, total = 0, 0, 0\n",
    "\n",
    "        tqdm_bar_val = tqdm(val_loader, desc=f\"Validating Epoch {epoch+1}\", leave=False)\n",
    "        with torch.no_grad():\n",
    "            for sentence_embeddings, aspect_embeddings, labels, aspect_index in tqdm_bar_val:\n",
    "                sentence_embeddings = sentence_embeddings.to(device)\n",
    "                aspect_embeddings = aspect_embeddings.to(device)\n",
    "                labels = labels.to(device)\n",
    "                aspect_index = aspect_index.to(device)\n",
    "\n",
    "                outputs = model(sentence_embeddings, aspect_embeddings, aspect_index)\n",
    "                loss = criterion(outputs, labels)\n",
    "                val_total_loss += loss.item()\n",
    "\n",
    "                _, preds = torch.max(outputs, 1)\n",
    "                correct += (preds == labels).sum().item()\n",
    "                total += labels.size(0)\n",
    "\n",
    "                tqdm_bar_val.set_postfix(loss=f\"{loss.item():.4f}\")\n",
    "\n",
    "        val_acc = correct / total\n",
    "        val_accuracy.append(val_acc)\n",
    "        avg_val_loss = val_total_loss / len(val_loader)\n",
    "        val_loss.append(avg_val_loss)\n",
    "\n",
    "        print(f\"Epoch {epoch+1}/{epochs} - Train Loss: {train_loss[-1]:.4f} - Train Acc: {train_acc:.4f} - Val Loss: {avg_val_loss:.4f} - Val Acc: {val_acc:.4f}\")\n",
    "\n",
    "        # Early Stopping Check\n",
    "        if avg_val_loss < best_loss:\n",
    "            # Save the best model with lowest validation loss\n",
    "            best_loss = avg_val_loss\n",
    "            best_acc = val_acc\n",
    "            patience_counter = 0  # Reset counter\n",
    "            torch.save(model.state_dict(), \"best_lstm_model.pth\")\n",
    "            print(\"Best model saved!\")\n",
    "        else:\n",
    "            patience_counter += 1  # Increase counter\n",
    "            print(f\"No improvement. Patience: {patience_counter}/{patience}\")\n",
    "\n",
    "        if patience_counter >= patience:\n",
    "            print(f\"Early stopping triggered at epoch {epoch + 1}! Stopping training.\")\n",
    "            break  # Stop training\n",
    "\n",
    "    print(f\"Training complete. Best Validation Accuracy: {best_acc:.4f}\")\n",
    "    return train_loss, val_loss, train_accuracy, val_accuracy"
   ]
  },
  {
   "cell_type": "code",
   "execution_count": null,
   "metadata": {
    "execution": {
     "iopub.execute_input": "2025-03-15T18:17:53.800703Z",
     "iopub.status.busy": "2025-03-15T18:17:53.800331Z",
     "iopub.status.idle": "2025-03-15T18:17:53.807273Z",
     "shell.execute_reply": "2025-03-15T18:17:53.806334Z",
     "shell.execute_reply.started": "2025-03-15T18:17:53.800671Z"
    },
    "trusted": true
   },
   "outputs": [],
   "source": [
    "def plot_metrics(train_loss, val_loss, train_acc, val_acc):\n",
    "    \"\"\"\n",
    "    Plot the training and validation loss\n",
    "    \"\"\"\n",
    "    plt.figure(figsize=(10, 5))\n",
    "    epochs = range(1, len(train_loss) + 1)\n",
    "\n",
    "    # Plot Loss\n",
    "    plt.subplot(1, 2, 1)\n",
    "    plt.plot(epochs, train_loss, label=\"Train Loss\")\n",
    "    plt.plot(epochs, val_loss, label=\"Val Loss\")\n",
    "    plt.xlabel(\"Epochs\")\n",
    "    plt.ylabel(\"Loss\")\n",
    "    plt.ylim(0, max(max(train_loss), max(val_loss)) * 1.1)\n",
    "    plt.xticks(epochs)\n",
    "    plt.legend()\n",
    "\n",
    "    # Plot Accuracy\n",
    "    plt.subplot(1, 2, 2)\n",
    "    plt.plot(epochs, train_acc, label=\"Train Acc\")\n",
    "    plt.plot(epochs, val_acc, label=\"Val Acc\")\n",
    "    plt.xlabel(\"Epochs\")\n",
    "    plt.ylabel(\"Accuracy\")\n",
    "    plt.ylim(0, 1)\n",
    "    plt.xticks(epochs)\n",
    "    plt.legend()\n",
    "\n",
    "    plt.tight_layout()\n",
    "    plt.show()"
   ]
  },
  {
   "cell_type": "code",
   "execution_count": 10,
   "metadata": {
    "execution": {
     "iopub.execute_input": "2025-03-15T16:09:44.079234Z",
     "iopub.status.busy": "2025-03-15T16:09:44.078944Z",
     "iopub.status.idle": "2025-03-15T16:09:44.083968Z",
     "shell.execute_reply": "2025-03-15T16:09:44.083173Z",
     "shell.execute_reply.started": "2025-03-15T16:09:44.079213Z"
    },
    "trusted": true
   },
   "outputs": [],
   "source": [
    "def collate_fn(batch):\n",
    "    \"\"\"\n",
    "    Custom collate function to batch fixed-length embeddings for ABSADataset.\n",
    "    \"\"\"\n",
    "    sentence_embeddings = torch.stack([item[\"embeddings\"] for item in batch])  # (batch_size, 128, 768)\n",
    "    aspect_embeddings = torch.stack([item[\"aspect_term\"] for item in batch])  # (batch_size, 8, 768)\n",
    "    labels = torch.tensor([item[\"polarity\"] for item in batch], dtype=torch.long)  # (batch_size,)\n",
    "    indices = torch.tensor([item[\"index\"] for item in batch], dtype=torch.long)  # (batch_size,)\n",
    "    return sentence_embeddings, aspect_embeddings, labels, indices\n"
   ]
  },
  {
   "cell_type": "code",
   "execution_count": null,
   "metadata": {
    "execution": {
     "iopub.execute_input": "2025-03-15T16:09:46.665852Z",
     "iopub.status.busy": "2025-03-15T16:09:46.665559Z",
     "iopub.status.idle": "2025-03-15T16:09:46.670026Z",
     "shell.execute_reply": "2025-03-15T16:09:46.669185Z",
     "shell.execute_reply.started": "2025-03-15T16:09:46.665831Z"
    },
    "trusted": true
   },
   "outputs": [],
   "source": [
    "# Training and validation loaders\n",
    "train_loader = DataLoader(train_dataset, batch_size=32, shuffle=True, collate_fn=collate_fn)\n",
    "val_loader = DataLoader(val_dataset, batch_size=32, shuffle=False, collate_fn=collate_fn)"
   ]
  },
  {
   "cell_type": "code",
   "execution_count": 10,
   "metadata": {
    "execution": {
     "iopub.execute_input": "2025-03-15T16:09:49.055790Z",
     "iopub.status.busy": "2025-03-15T16:09:49.055306Z",
     "iopub.status.idle": "2025-03-15T16:59:36.983170Z",
     "shell.execute_reply": "2025-03-15T16:59:36.982310Z",
     "shell.execute_reply.started": "2025-03-15T16:09:49.055758Z"
    },
    "trusted": true
   },
   "outputs": [
    {
     "name": "stderr",
     "output_type": "stream",
     "text": [
      "                                                                                \r"
     ]
    },
    {
     "name": "stdout",
     "output_type": "stream",
     "text": [
      "Epoch 1/10 - Train Loss: 0.9113 - Train Acc: 0.6528 - Val Loss: 0.9254 - Val Acc: 0.6523\n",
      "Best model saved!\n"
     ]
    },
    {
     "name": "stderr",
     "output_type": "stream",
     "text": [
      "                                                                                \r"
     ]
    },
    {
     "name": "stdout",
     "output_type": "stream",
     "text": [
      "Epoch 2/10 - Train Loss: 0.6686 - Train Acc: 0.7538 - Val Loss: 0.8630 - Val Acc: 0.6415\n",
      "Best model saved!\n"
     ]
    },
    {
     "name": "stderr",
     "output_type": "stream",
     "text": [
      "                                                                                \r"
     ]
    },
    {
     "name": "stdout",
     "output_type": "stream",
     "text": [
      "Epoch 3/10 - Train Loss: 0.5489 - Train Acc: 0.7984 - Val Loss: 0.8906 - Val Acc: 0.6658\n",
      "No improvement. Patience: 1/3\n"
     ]
    },
    {
     "name": "stderr",
     "output_type": "stream",
     "text": [
      "                                                                                \r"
     ]
    },
    {
     "name": "stdout",
     "output_type": "stream",
     "text": [
      "Epoch 4/10 - Train Loss: 0.4948 - Train Acc: 0.8119 - Val Loss: 0.9739 - Val Acc: 0.6631\n",
      "No improvement. Patience: 2/3\n"
     ]
    },
    {
     "name": "stderr",
     "output_type": "stream",
     "text": [
      "                                                                                "
     ]
    },
    {
     "name": "stdout",
     "output_type": "stream",
     "text": [
      "Epoch 5/10 - Train Loss: 0.4358 - Train Acc: 0.8338 - Val Loss: 1.0609 - Val Acc: 0.6658\n",
      "No improvement. Patience: 3/3\n",
      "Early stopping triggered at epoch 5! Stopping training.\n",
      "Training complete. Best Validation Accuracy: 0.6415\n"
     ]
    },
    {
     "name": "stderr",
     "output_type": "stream",
     "text": [
      "\r"
     ]
    }
   ],
   "source": [
    "model = LSTMClassifier()\n",
    "train_loss, val_loss, train_acc, val_acc = train_model(model, train_loader, val_loader, epochs=10, lr=0.001)"
   ]
  },
  {
   "cell_type": "code",
   "execution_count": 13,
   "metadata": {
    "execution": {
     "iopub.execute_input": "2025-03-15T17:07:37.852431Z",
     "iopub.status.busy": "2025-03-15T17:07:37.852118Z",
     "iopub.status.idle": "2025-03-15T17:07:38.127220Z",
     "shell.execute_reply": "2025-03-15T17:07:38.126437Z",
     "shell.execute_reply.started": "2025-03-15T17:07:37.852406Z"
    },
    "trusted": true
   },
   "outputs": [
    {
     "data": {
      "image/png": "[encoded data removed]",
      "text/plain": [
       "<Figure size 1000x500 with 2 Axes>"
      ]
     },
     "metadata": {},
     "output_type": "display_data"
    }
   ],
   "source": [
    "plot_metrics(train_loss, val_loss, train_acc, val_acc)"
   ]
  },
  {
   "cell_type": "markdown",
   "metadata": {},
   "source": [
    "### Task 2.4: Evaluation\n",
    "Function to evaluate the trained LSTM model on `test.json`"
   ]
  },
  {
   "cell_type": "code",
   "execution_count": null,
   "metadata": {
    "execution": {
     "iopub.execute_input": "2025-03-15T17:11:00.676775Z",
     "iopub.status.busy": "2025-03-15T17:11:00.676455Z",
     "iopub.status.idle": "2025-03-15T17:12:12.623800Z",
     "shell.execute_reply": "2025-03-15T17:12:12.622949Z",
     "shell.execute_reply.started": "2025-03-15T17:11:00.676749Z"
    },
    "trusted": true
   },
   "outputs": [],
   "source": [
    "def load_and_evaluate(model_path = \"best_lstm_model.pth\", test_file = \"val.json\", save_file = \"val_task_2.json\", batch_size=32):\n",
    "    \"\"\"\n",
    "    Load the trained model and evaluate it on test data.\n",
    "\n",
    "    Args:\n",
    "        model_path (str): Path to the saved model file.\n",
    "        test_file (str): Path to the test dataset.\n",
    "        batch_size (int): Batch size for evaluation.\n",
    "\n",
    "    Returns:\n",
    "        float: Test accuracy.\n",
    "    \"\"\"\n",
    "\n",
    "    # Load test dataset\n",
    "    test_dataset = ABSADataset(test_file, save_file)    \n",
    "    test_loader = DataLoader(test_dataset, batch_size=batch_size, shuffle=False, collate_fn=collate_fn)\n",
    "\n",
    "    # Define model\n",
    "    model = LSTMClassifier()\n",
    "\n",
    "    # Load saved model weights\n",
    "    if torch.cuda.is_available():\n",
    "        model.load_state_dict(torch.load(model_path))\n",
    "    else:\n",
    "        model.load_state_dict(torch.load(model_path, map_location=torch.device('cpu')))\n",
    "    model.eval()  # Set to evaluation mode\n",
    "\n",
    "    correct, total = 0, 0\n",
    "    with torch.no_grad():\n",
    "        tqdm_bar = tqdm(test_loader, desc=\"Evaluating\")\n",
    "        for sentence_embeddings, aspect_embeddings, labels, aspect_index in tqdm_bar:\n",
    "            outputs = model(sentence_embeddings, aspect_embeddings, aspect_index)\n",
    "            _, preds = torch.max(outputs, 1)  # Get predicted class\n",
    "            correct += (preds == labels).sum().item()\n",
    "            total += labels.size(0)\n",
    "\n",
    "    accuracy = correct / total * 100\n",
    "    print(f\"Test Accuracy: {accuracy:.2f}%\")\n",
    "    return accuracy\n",
    "\n",
    "load_and_evaluate(model_path = \"best_lstm_model.pth\", test_file = \"test.json\", save_file = \"test_task_2.json\", batch_size=32)"
   ]
  },
  {
   "cell_type": "markdown",
   "metadata": {},
   "source": [
    "### Task 2.6: Additional Task"
   ]
  },
  {
   "cell_type": "code",
   "execution_count": 16,
   "metadata": {
    "execution": {
     "iopub.execute_input": "2025-03-15T17:59:53.336255Z",
     "iopub.status.busy": "2025-03-15T17:59:53.335840Z",
     "iopub.status.idle": "2025-03-15T17:59:53.355209Z",
     "shell.execute_reply": "2025-03-15T17:59:53.354371Z",
     "shell.execute_reply.started": "2025-03-15T17:59:53.336218Z"
    },
    "trusted": true
   },
   "outputs": [],
   "source": [
    "class FinetuneDataset(Dataset):\n",
    "    def __init__(self, model, file_path, saved_file_path = None):\n",
    "        \"\"\"\n",
    "        Load and preprocess dataset for fine-tuning BERT, BART and Roberta models.\n",
    "        \"\"\"\n",
    "        if model == \"bert\":\n",
    "            self.tokenizer = BertTokenizer.from_pretrained(\"bert-base-cased\")\n",
    "        elif model == \"bart\":\n",
    "            self.tokenizer = BartTokenizer.from_pretrained(\"facebook/bart-base\")\n",
    "        elif model == \"roberta\":\n",
    "            self.tokenizer = RobertaTokenizer.from_pretrained(\"roberta-base\")\n",
    "        else:  \n",
    "            raise ValueError(\"Invalid model name. Choose from 'bert', 'bart', or 'roberta'.\")\n",
    "\n",
    "        if saved_file_path is not None and os.path.exists(saved_file_path):\n",
    "            with open(saved_file_path, 'r') as f:\n",
    "                self.data = json.load(f)  # Load preprocessed data\n",
    "            print(\"Preprocessed data loaded from\", saved_file_path)\n",
    "        else:\n",
    "            with open(file_path, 'r') as f:\n",
    "                raw_data = json.load(f)  # Load raw JSON data\n",
    "            self.data = self.preprocess_data(raw_data)  # Preprocess and store in self.data\n",
    "            if saved_file_path is not None:\n",
    "                with open(saved_file_path, 'w') as f:\n",
    "                    json.dump(self.data, f, indent=4)  # Save preprocessed data\n",
    "                print(\"Preprocessed data saved to\", saved_file_path) \n",
    "\n",
    "        self.polarity_map = {\"positive\": 0, \"negative\": 1, \"neutral\": 2, \"conflict\": 3}\n",
    "\n",
    "    def preprocess_data(self, data):\n",
    "        \"\"\"\n",
    "        Tokenizes and processes data into required format.\n",
    "        \"\"\"\n",
    "        preprocessed_data = []\n",
    "        for d in data:\n",
    "            tokens = self.tokenize_data(d[\"sentence\"])\n",
    "            for term in d['aspect_terms']:\n",
    "                new_data = {\n",
    "                    \"tokens\": [t[0] for t in tokens],  # Extract token words\n",
    "                    \"polarity\": term[\"polarity\"],\n",
    "                    \"aspect_term\": [term[\"term\"]],\n",
    "                    \"index\": self.find_aspect_index(tokens, int(term[\"from\"]), term[\"term\"])\n",
    "                }\n",
    "                preprocessed_data.append(new_data)\n",
    "        return preprocessed_data\n",
    "    \n",
    "    def find_aspect_index(self, tokens, aspect_from, aspect_term):\n",
    "        \"\"\"\n",
    "        Finds the token index corresponding to the aspect term with an error range of +/-2.\n",
    "        \"\"\"\n",
    "        aspect_term = self.tokenize_data(aspect_term)\n",
    "        for i in range(len(tokens)):\n",
    "            if aspect_from - 2 <= tokens[i][1] <= aspect_from + 2:\n",
    "                if tokens[i][0].startswith(aspect_term[0][0]):  # Check prefix match\n",
    "                    return i\n",
    "        return -1\n",
    "        \n",
    "    def tokenize_data(self, sentence):\n",
    "        \"\"\"\n",
    "        Tokenizes sentence while preserving exact indices.\n",
    "        \"\"\"\n",
    "        tokens_idx = []\n",
    "        i = 0\n",
    "        word = ''\n",
    "        start_idx = -1\n",
    "\n",
    "        while i < len(sentence):\n",
    "            while i < len(sentence) and sentence[i] != ' ':\n",
    "                if not word:\n",
    "                    start_idx = i\n",
    "                word += sentence[i]\n",
    "                i += 1\n",
    "            if word:\n",
    "                tokens_idx.append((word, start_idx))\n",
    "            word = ''\n",
    "            i += 1\n",
    "\n",
    "        return self.clean_tokens(tokens_idx)\n",
    "\n",
    "    def clean_tokens(self, tokens_idx):\n",
    "        \"\"\"\n",
    "        Cleans tokens by removing punctuation and handling contractions.\n",
    "        \"\"\"\n",
    "        cleaned_tokens = []\n",
    "        for word, idx in tokens_idx:\n",
    "            stripped_word = re.sub(r'^[.!(),\\[\\]{}\\'\":;-]+|[.!(),\\[\\]{}\\'\":;-]+$', '', word)\n",
    "            stripped_word = stripped_word.replace(\"'\", \"\")\n",
    "\n",
    "            if stripped_word:\n",
    "                cleaned_tokens.append((stripped_word.lower(), idx))\n",
    "        return cleaned_tokens\n",
    "\n",
    "    def __len__(self):\n",
    "        return len(self.data)\n",
    "\n",
    "    def __getitem__(self, idx):\n",
    "        \"\"\"\n",
    "        Returns pre-tokenized input as BERT-compatible token IDs.\n",
    "        \"\"\"\n",
    "        sample = self.data[idx]\n",
    "        tokenized_words = sample[\"tokens\"]\n",
    "        aspect_term = sample[\"aspect_term\"][0]\n",
    "        label = self.polarity_map[sample[\"polarity\"]]\n",
    "        if isinstance(self.tokenizer, BartTokenizer):\n",
    "            tokenized_words.append(\"</s>\")\n",
    "\n",
    "        # Convert pre-tokenized words into token IDs\n",
    "        input_ids = self.tokenizer.convert_tokens_to_ids(tokenized_words)\n",
    "        aspect_ids = self.tokenizer.convert_tokens_to_ids([t[0] for t in self.tokenize_data(aspect_term)])\n",
    "\n",
    "        # Pad sequences to max_length\n",
    "        max_length = 128\n",
    "        input_ids = input_ids[:max_length] + [self.tokenizer.pad_token_id] * (max_length - len(input_ids))\n",
    "        aspect_ids = aspect_ids[:8] + [self.tokenizer.pad_token_id] * (8 - len(aspect_ids))\n",
    "\n",
    "        # Create attention masks (1 for real tokens, 0 for padding)\n",
    "        attention_mask = [1 if id != self.tokenizer.pad_token_id else 0 for id in input_ids]\n",
    "\n",
    "        return {\n",
    "            \"input_ids\": torch.tensor(input_ids, dtype=torch.long),  # Shape: (max_length,)\n",
    "            \"attention_mask\": torch.tensor(attention_mask, dtype=torch.long), # Shape: (max_length,)\n",
    "            \"aspect_ids\": torch.tensor(aspect_ids, dtype=torch.long),  # Shape: (8,)\n",
    "            \"label\": torch.tensor(label, dtype=torch.long),  # Shape: ()\n",
    "        }"
   ]
  },
  {
   "cell_type": "code",
   "execution_count": null,
   "metadata": {
    "execution": {
     "iopub.execute_input": "2025-03-15T18:03:47.335555Z",
     "iopub.status.busy": "2025-03-15T18:03:47.335230Z",
     "iopub.status.idle": "2025-03-15T18:03:47.346889Z",
     "shell.execute_reply": "2025-03-15T18:03:47.346065Z",
     "shell.execute_reply.started": "2025-03-15T18:03:47.335528Z"
    },
    "trusted": true
   },
   "outputs": [],
   "source": [
    "def finetune(model, train_loader, val_loader, epochs=5, lr=2e-5, patience=3, model_name=\"bert\"):\n",
    "    \"\"\"\n",
    "    Fine-tune the given model using the train and validation loaders.\n",
    "    \"\"\"\n",
    "    device = torch.device(\"cuda\" if torch.cuda.is_available() else \"cpu\")\n",
    "    model.to(device)\n",
    "\n",
    "    optimizer = AdamW(model.parameters(), lr=lr)\n",
    "    scheduler = get_scheduler(\"linear\", optimizer=optimizer, num_warmup_steps=0, num_training_steps=epochs * len(train_loader))\n",
    "    \n",
    "    train_losses = []\n",
    "    val_losses = []\n",
    "    train_accuracy = []\n",
    "    val_accuracy = []\n",
    "\n",
    "    best_acc = 0.0\n",
    "    best_loss = float('inf')\n",
    "    patience_counter = 0\n",
    "\n",
    "    for epoch in range(epochs):\n",
    "        model.train()\n",
    "        total_loss, correct, total = 0, 0, 0\n",
    "\n",
    "        tqdm_bar = tqdm(train_loader, desc=f\"Epoch {epoch+1}/{epochs}\", leave=False)\n",
    "        for batch in tqdm_bar:\n",
    "            optimizer.zero_grad()\n",
    "\n",
    "            input_ids = batch[\"input_ids\"].to(device)\n",
    "            attention_mask = batch[\"attention_mask\"].to(device)\n",
    "            labels = batch[\"label\"].to(device)\n",
    "\n",
    "            outputs = model(input_ids, attention_mask=attention_mask, labels=labels)\n",
    "            loss = outputs.loss\n",
    "            logits = outputs.logits\n",
    "\n",
    "            loss.backward()\n",
    "            optimizer.step()\n",
    "            scheduler.step()\n",
    "\n",
    "            total_loss += loss.item()\n",
    "            preds = torch.argmax(logits, dim=1)\n",
    "            correct += (preds == labels).sum().item()\n",
    "            total += labels.size(0)\n",
    "\n",
    "            tqdm_bar.set_postfix(loss=f\"{loss.item():.4f}\")\n",
    "\n",
    "        train_acc = correct / total\n",
    "        train_accuracy.append(train_acc)\n",
    "        avg_total_loss = total_loss / len(train_loader)\n",
    "        train_losses.append(avg_total_loss)\n",
    "\n",
    "        # Validation\n",
    "        model.eval()\n",
    "        correct, total = 0, 0\n",
    "        val_total_loss = 0\n",
    "\n",
    "        tqdm_bar_val = tqdm(val_loader, desc=f\"Validating Epoch {epoch+1}\", leave=False) # Add tqdm for validation\n",
    "        with torch.no_grad():\n",
    "            for batch in tqdm_bar_val:\n",
    "                input_ids = batch[\"input_ids\"].to(device)\n",
    "                attention_mask = batch[\"attention_mask\"].to(device)\n",
    "                labels = batch[\"label\"].to(device)\n",
    "\n",
    "                outputs = model(input_ids, attention_mask=attention_mask, labels=labels)\n",
    "                loss = outputs.loss\n",
    "                logits = outputs.logits\n",
    "\n",
    "                val_total_loss += loss.item()\n",
    "                preds = torch.argmax(logits, dim=1)\n",
    "                correct += (preds == labels).sum().item()\n",
    "                total += labels.size(0)\n",
    "\n",
    "                tqdm_bar_val.set_postfix(loss=f\"{loss.item():.4f}\")\n",
    "\n",
    "        val_acc = correct / total\n",
    "        val_accuracy.append(val_acc)\n",
    "        avg_val_loss = val_total_loss / len(val_loader)\n",
    "        val_losses.append(avg_val_loss)\n",
    "        print(f\"Epoch {epoch+1}/{epochs} - Train Loss: {avg_total_loss:.4f} - Train Acc: {train_acc:.4f} - Val Loss: {avg_val_loss:.4f} - Val Acc: {val_acc:.4f}\")\n",
    "\n",
    "        # Early Stopping Check\n",
    "        if avg_val_loss < best_loss:\n",
    "            best_loss = avg_val_loss\n",
    "            best_acc = val_acc\n",
    "            patience_counter = 0  # Reset counter\n",
    "            torch.save(model.state_dict(), f\"best_{model_name}_model.pth\")\n",
    "            print(\"Best model saved!\")\n",
    "        else:\n",
    "            patience_counter += 1  # Increase counter\n",
    "            print(f\"No improvement. Patience: {patience_counter}/{patience}\")\n",
    "\n",
    "        if patience_counter >= patience:\n",
    "            print(f\"Early stopping triggered at epoch {epoch + 1}! Stopping training.\")\n",
    "            break  # Stop training\n",
    "\n",
    "    print(f\"\\n Training complete. Best Validation Accuracy: {best_acc:.4f}\")\n",
    "    return train_losses, val_losses, train_accuracy, val_accuracy\n"
   ]
  },
  {
   "cell_type": "markdown",
   "metadata": {},
   "source": [
    "#### Finetuning BERT"
   ]
  },
  {
   "cell_type": "code",
   "execution_count": null,
   "metadata": {
    "execution": {
     "iopub.execute_input": "2025-03-15T18:13:07.120603Z",
     "iopub.status.busy": "2025-03-15T18:13:07.120255Z",
     "iopub.status.idle": "2025-03-15T18:16:41.244478Z",
     "shell.execute_reply": "2025-03-15T18:16:41.243527Z",
     "shell.execute_reply.started": "2025-03-15T18:13:07.120557Z"
    },
    "trusted": true
   },
   "outputs": [
    {
     "name": "stdout",
     "output_type": "stream",
     "text": [
      "Preprocessed data loaded from /kaggle/input/dataset/train_task_2.json\n",
      "Preprocessed data loaded from /kaggle/input/dataset/val_task_2.json\n"
     ]
    },
    {
     "name": "stderr",
     "output_type": "stream",
     "text": [
      "Some weights of BertForSequenceClassification were not initialized from the model checkpoint at bert-base-cased and are newly initialized: ['classifier.bias', 'classifier.weight']\n",
      "You should probably TRAIN this model on a down-stream task to be able to use it for predictions and inference.\n",
      "                                                                                \r"
     ]
    },
    {
     "name": "stdout",
     "output_type": "stream",
     "text": [
      "Epoch 1/20 - Train Loss: 0.9823 - Train Acc: 0.5843 - Val Loss: 0.9188 - Val Acc: 0.6550\n",
      "Best model saved!\n"
     ]
    },
    {
     "name": "stderr",
     "output_type": "stream",
     "text": [
      "                                                                                \r"
     ]
    },
    {
     "name": "stdout",
     "output_type": "stream",
     "text": [
      "Epoch 2/20 - Train Loss: 0.7786 - Train Acc: 0.6937 - Val Loss: 0.8521 - Val Acc: 0.6658\n",
      "Best model saved!\n"
     ]
    },
    {
     "name": "stderr",
     "output_type": "stream",
     "text": [
      "                                                                                \r"
     ]
    },
    {
     "name": "stdout",
     "output_type": "stream",
     "text": [
      "Epoch 3/20 - Train Loss: 0.6240 - Train Acc: 0.7653 - Val Loss: 0.8356 - Val Acc: 0.6280\n",
      "Best model saved!\n"
     ]
    },
    {
     "name": "stderr",
     "output_type": "stream",
     "text": [
      "                                                                                \r"
     ]
    },
    {
     "name": "stdout",
     "output_type": "stream",
     "text": [
      "Epoch 4/20 - Train Loss: 0.5275 - Train Acc: 0.7984 - Val Loss: 0.8477 - Val Acc: 0.6604\n",
      "No improvement. Patience: 1/3\n"
     ]
    },
    {
     "name": "stderr",
     "output_type": "stream",
     "text": [
      "                                                                                \r"
     ]
    },
    {
     "name": "stdout",
     "output_type": "stream",
     "text": [
      "Epoch 5/20 - Train Loss: 0.4637 - Train Acc: 0.8230 - Val Loss: 0.8706 - Val Acc: 0.6765\n",
      "No improvement. Patience: 2/3\n"
     ]
    },
    {
     "name": "stderr",
     "output_type": "stream",
     "text": [
      "                                                                                "
     ]
    },
    {
     "name": "stdout",
     "output_type": "stream",
     "text": [
      "Epoch 6/20 - Train Loss: 0.4114 - Train Acc: 0.8399 - Val Loss: 0.9277 - Val Acc: 0.6685\n",
      "No improvement. Patience: 3/3\n",
      "Early stopping triggered at epoch 6! Stopping training.\n",
      "\n",
      " Training complete. Best Validation Accuracy: 0.6280\n"
     ]
    },
    {
     "name": "stderr",
     "output_type": "stream",
     "text": [
      "\r"
     ]
    }
   ],
   "source": [
    "# Load dataset\n",
    "# train_dataset = FinetuneDataset(\"bert\", \"train.json\", \"/kaggle/input/dataset/train_task_2.json\")\n",
    "# val_dataset = FinetuneDataset(\"bert\", \"val.json\", \"/kaggle/input/dataset/val_task_2.json\")\n",
    "train_dataset = FinetuneDataset(\"bert\", \"train.json\", \"train_task_2.json\")\n",
    "val_dataset = FinetuneDataset(\"bert\", \"val.json\", \"val_task_2.json\")\n",
    "\n",
    "# Create DataLoader\n",
    "train_loader = DataLoader(train_dataset, batch_size=32, shuffle=True, num_workers=4, pin_memory=True)\n",
    "val_loader = DataLoader(val_dataset, batch_size=32, shuffle=False, num_workers=4, pin_memory=True)\n",
    "\n",
    "# Load BERT Model\n",
    "model = BertForSequenceClassification.from_pretrained(\"bert-base-cased\", num_labels=4)\n",
    "\n",
    "# Train\n",
    "train_loss, val_loss, train_acc, val_acc = finetune(model, train_loader, val_loader, epochs=20, lr=2e-5, model_name = \"bert\")\n"
   ]
  },
  {
   "cell_type": "code",
   "execution_count": 15,
   "metadata": {
    "execution": {
     "iopub.execute_input": "2025-03-15T18:18:01.252525Z",
     "iopub.status.busy": "2025-03-15T18:18:01.252235Z",
     "iopub.status.idle": "2025-03-15T18:18:01.639020Z",
     "shell.execute_reply": "2025-03-15T18:18:01.638159Z",
     "shell.execute_reply.started": "2025-03-15T18:18:01.252502Z"
    },
    "trusted": true
   },
   "outputs": [
    {
     "data": {
      "image/png": "[encoded data removed]",
      "text/plain": [
       "<Figure size 1000x500 with 2 Axes>"
      ]
     },
     "metadata": {},
     "output_type": "display_data"
    }
   ],
   "source": [
    "plot_metrics(train_loss, val_loss, train_acc, val_acc)"
   ]
  },
  {
   "cell_type": "markdown",
   "metadata": {},
   "source": [
    "Evaluating BERT"
   ]
  },
  {
   "cell_type": "code",
   "execution_count": null,
   "metadata": {},
   "outputs": [],
   "source": [
    "def evaluate_bert(model_path = \"best_bert_model.pth\", test_file = \"val.json\", save_file = \"val_task_2.json\", batch_size=32):\n",
    "    \"\"\"\n",
    "    Load the trained BERT model and evaluate it on test data.\n",
    "\n",
    "    Args:\n",
    "        model_path (str): Path to the saved model file.\n",
    "        test_file (str): Path to the test dataset.\n",
    "        batch_size (int): Batch size for evaluation.\n",
    "\n",
    "    Returns:\n",
    "        float: Test accuracy.\n",
    "    \"\"\"\n",
    "\n",
    "    # Load test dataset\n",
    "    test_dataset = FinetuneDataset(\"bert\", test_file, save_file)    \n",
    "    if torch.cuda.is_available():\n",
    "        test_loader = DataLoader(test_dataset, batch_size=batch_size, shuffle=False, num_workers=4, pin_memory=True)\n",
    "    else:\n",
    "        test_loader = DataLoader(test_dataset, batch_size=batch_size, shuffle=False)\n",
    "\n",
    "    # Define model\n",
    "    model = BertForSequenceClassification.from_pretrained(\"bert-base-cased\", num_labels=4)\n",
    "\n",
    "    # Load saved model weights\n",
    "    if torch.cuda.is_available():\n",
    "        model.load_state_dict(torch.load(model_path))\n",
    "    else:\n",
    "        model.load_state_dict(torch.load(model_path, map_location=torch.device('cpu')))\n",
    "    model.eval()  # Set to evaluation mode\n",
    "    device = torch.device(\"cuda\" if torch.cuda.is_available() else \"cpu\")\n",
    "    model.to(device)\n",
    "    correct, total = 0, 0\n",
    "    with torch.no_grad():\n",
    "        tqdm_bar = tqdm(test_loader, desc=\"Evaluating\")\n",
    "        for batch in tqdm_bar:\n",
    "            input_ids = batch[\"input_ids\"].to(device)\n",
    "            attention_mask = batch[\"attention_mask\"].to(device)\n",
    "            labels = batch[\"label\"].to(device)\n",
    "\n",
    "            outputs = model(input_ids, attention_mask=attention_mask, labels=labels)\n",
    "            loss = outputs.loss\n",
    "            logits = outputs.logits\n",
    "\n",
    "            preds = torch.argmax(logits, dim=1)\n",
    "            correct += (preds == labels).sum().item()\n",
    "            total += labels.size(0)\n",
    "\n",
    "    accuracy = correct / total * 100\n",
    "    print(f\"Test Accuracy: {accuracy:.2f}%\")\n",
    "    return accuracy\n",
    "\n",
    "evaluate_bert(model_path = \"best_bert_model.pth\", test_file = \"test.json\", save_file = \"test_task_2.json\", batch_size=32)"
   ]
  },
  {
   "cell_type": "markdown",
   "metadata": {},
   "source": [
    "#### Finetuning BART"
   ]
  },
  {
   "cell_type": "code",
   "execution_count": null,
   "metadata": {
    "execution": {
     "iopub.execute_input": "2025-03-15T18:19:48.990245Z",
     "iopub.status.busy": "2025-03-15T18:19:48.989943Z",
     "iopub.status.idle": "2025-03-15T18:27:04.909629Z",
     "shell.execute_reply": "2025-03-15T18:27:04.908609Z",
     "shell.execute_reply.started": "2025-03-15T18:19:48.990221Z"
    },
    "trusted": true
   },
   "outputs": [
    {
     "name": "stdout",
     "output_type": "stream",
     "text": [
      "Preprocessed data loaded from /kaggle/input/dataset/train_task_2.json\n",
      "Preprocessed data loaded from /kaggle/input/dataset/val_task_2.json\n"
     ]
    },
    {
     "name": "stderr",
     "output_type": "stream",
     "text": [
      "Some weights of BartForSequenceClassification were not initialized from the model checkpoint at facebook/bart-base and are newly initialized: ['classification_head.dense.bias', 'classification_head.dense.weight', 'classification_head.out_proj.bias', 'classification_head.out_proj.weight']\n",
      "You should probably TRAIN this model on a down-stream task to be able to use it for predictions and inference.\n",
      "                                                                                \r"
     ]
    },
    {
     "name": "stdout",
     "output_type": "stream",
     "text": [
      "Epoch 1/20 - Train Loss: 1.0049 - Train Acc: 0.5937 - Val Loss: 1.0657 - Val Acc: 0.5472\n",
      "Best model saved!\n"
     ]
    },
    {
     "name": "stderr",
     "output_type": "stream",
     "text": [
      "                                                                                \r"
     ]
    },
    {
     "name": "stdout",
     "output_type": "stream",
     "text": [
      "Epoch 2/20 - Train Loss: 0.8890 - Train Acc: 0.6309 - Val Loss: 0.9508 - Val Acc: 0.6065\n",
      "Best model saved!\n"
     ]
    },
    {
     "name": "stderr",
     "output_type": "stream",
     "text": [
      "                                                                                \r"
     ]
    },
    {
     "name": "stdout",
     "output_type": "stream",
     "text": [
      "Epoch 3/20 - Train Loss: 0.8052 - Train Acc: 0.6714 - Val Loss: 0.9722 - Val Acc: 0.5768\n",
      "No improvement. Patience: 1/3\n"
     ]
    },
    {
     "name": "stderr",
     "output_type": "stream",
     "text": [
      "                                                                                \r"
     ]
    },
    {
     "name": "stdout",
     "output_type": "stream",
     "text": [
      "Epoch 4/20 - Train Loss: 0.7510 - Train Acc: 0.6927 - Val Loss: 0.9475 - Val Acc: 0.5768\n",
      "Best model saved!\n"
     ]
    },
    {
     "name": "stderr",
     "output_type": "stream",
     "text": [
      "                                                                                \r"
     ]
    },
    {
     "name": "stdout",
     "output_type": "stream",
     "text": [
      "Epoch 5/20 - Train Loss: 0.6819 - Train Acc: 0.7139 - Val Loss: 0.9377 - Val Acc: 0.6253\n",
      "Best model saved!\n"
     ]
    },
    {
     "name": "stderr",
     "output_type": "stream",
     "text": [
      "                                                                                \r"
     ]
    },
    {
     "name": "stdout",
     "output_type": "stream",
     "text": [
      "Epoch 6/20 - Train Loss: 0.6128 - Train Acc: 0.7660 - Val Loss: 0.9564 - Val Acc: 0.6361\n",
      "No improvement. Patience: 1/3\n"
     ]
    },
    {
     "name": "stderr",
     "output_type": "stream",
     "text": [
      "                                                                                \r"
     ]
    },
    {
     "name": "stdout",
     "output_type": "stream",
     "text": [
      "Epoch 7/20 - Train Loss: 0.5812 - Train Acc: 0.7636 - Val Loss: 0.9352 - Val Acc: 0.6253\n",
      "Best model saved!\n"
     ]
    },
    {
     "name": "stderr",
     "output_type": "stream",
     "text": [
      "                                                                                \r"
     ]
    },
    {
     "name": "stdout",
     "output_type": "stream",
     "text": [
      "Epoch 8/20 - Train Loss: 0.5210 - Train Acc: 0.7957 - Val Loss: 0.9710 - Val Acc: 0.5957\n",
      "No improvement. Patience: 1/3\n"
     ]
    },
    {
     "name": "stderr",
     "output_type": "stream",
     "text": [
      "                                                                                \r"
     ]
    },
    {
     "name": "stdout",
     "output_type": "stream",
     "text": [
      "Epoch 9/20 - Train Loss: 0.4965 - Train Acc: 0.7997 - Val Loss: 1.0189 - Val Acc: 0.6361\n",
      "No improvement. Patience: 2/3\n"
     ]
    },
    {
     "name": "stderr",
     "output_type": "stream",
     "text": [
      "                                                                                 "
     ]
    },
    {
     "name": "stdout",
     "output_type": "stream",
     "text": [
      "Epoch 10/20 - Train Loss: 0.4762 - Train Acc: 0.8119 - Val Loss: 1.0250 - Val Acc: 0.6199\n",
      "No improvement. Patience: 3/3\n",
      "Early stopping triggered at epoch 10! Stopping training.\n",
      "\n",
      " Training complete. Best Validation Accuracy: 0.6253\n"
     ]
    },
    {
     "name": "stderr",
     "output_type": "stream",
     "text": [
      "\r"
     ]
    }
   ],
   "source": [
    "# Load dataset\n",
    "# train_dataset = FinetuneDataset(\"bart\", \"train.json\", \"/kaggle/input/dataset/train_task_2.json\")\n",
    "# val_dataset = FinetuneDataset(\"bart\", \"val.json\", \"/kaggle/input/dataset/val_task_2.json\")\n",
    "train_dataset = FinetuneDataset(\"bart\", \"train.json\", \"train_task_2.json\")\n",
    "val_dataset = FinetuneDataset(\"bart\", \"val.json\", \"val_task_2.json\")\n",
    "\n",
    "# Create DataLoader\n",
    "train_loader = DataLoader(train_dataset, batch_size=32, shuffle=True, num_workers=4, pin_memory=True)\n",
    "val_loader = DataLoader(val_dataset, batch_size=32, shuffle=False, num_workers=4, pin_memory=True)\n",
    "\n",
    "# Load BART Model\n",
    "model = BartForSequenceClassification.from_pretrained(\"facebook/bart-base\", num_labels=4)\n",
    "\n",
    "# Train\n",
    "train_loss, val_loss, train_acc, val_acc = finetune(model, train_loader, val_loader, epochs=20, lr=2e-5, model_name = \"bart\")"
   ]
  },
  {
   "cell_type": "code",
   "execution_count": 18,
   "metadata": {
    "execution": {
     "iopub.execute_input": "2025-03-15T18:27:20.054474Z",
     "iopub.status.busy": "2025-03-15T18:27:20.054123Z",
     "iopub.status.idle": "2025-03-15T18:27:20.393926Z",
     "shell.execute_reply": "2025-03-15T18:27:20.392999Z",
     "shell.execute_reply.started": "2025-03-15T18:27:20.054445Z"
    },
    "trusted": true
   },
   "outputs": [
    {
     "data": {
      "image/png": "[encoded data removed]",
      "text/plain": [
       "<Figure size 1000x500 with 2 Axes>"
      ]
     },
     "metadata": {},
     "output_type": "display_data"
    }
   ],
   "source": [
    "plot_metrics(train_loss, val_loss, train_acc, val_acc)"
   ]
  },
  {
   "cell_type": "markdown",
   "metadata": {},
   "source": [
    "Evaluating BART"
   ]
  },
  {
   "cell_type": "code",
   "execution_count": null,
   "metadata": {},
   "outputs": [],
   "source": [
    "def evaluate_bart(model_path = \"best_bart_model.pth\", test_file = \"val.json\", save_file = \"val_task_2.json\", batch_size=32):\n",
    "    \"\"\"\n",
    "    Load the trained BART model and evaluate it on test data.\n",
    "\n",
    "    Args:\n",
    "        model_path (str): Path to the saved model file.\n",
    "        test_file (str): Path to the test dataset.\n",
    "        batch_size (int): Batch size for evaluation.\n",
    "\n",
    "    Returns:\n",
    "        float: Test accuracy.\n",
    "    \"\"\"\n",
    "\n",
    "    # Load test dataset\n",
    "    test_dataset = FinetuneDataset(\"bart\", test_file, save_file)    \n",
    "    if torch.cuda.is_available():\n",
    "        test_loader = DataLoader(test_dataset, batch_size=batch_size, shuffle=False, num_workers=4, pin_memory=True)\n",
    "    else:\n",
    "        test_loader = DataLoader(test_dataset, batch_size=batch_size, shuffle=False)\n",
    "\n",
    "    # Define model\n",
    "    model = BartForSequenceClassification.from_pretrained(\"facebook/bart-base\", num_labels=4)\n",
    "\n",
    "    # Load saved model weights\n",
    "    if torch.cuda.is_available():\n",
    "        model.load_state_dict(torch.load(model_path))\n",
    "    else:\n",
    "        model.load_state_dict(torch.load(model_path, map_location=torch.device('cpu')))\n",
    "    model.eval()  # Set to evaluation mode\n",
    "    device = torch.device(\"cuda\" if torch.cuda.is_available() else \"cpu\")\n",
    "    model.to(device)\n",
    "    correct, total = 0, 0\n",
    "    with torch.no_grad():\n",
    "        tqdm_bar = tqdm(test_loader, desc=\"Evaluating\")\n",
    "        for batch in tqdm_bar:\n",
    "            input_ids = batch[\"input_ids\"].to(device)\n",
    "            attention_mask = batch[\"attention_mask\"].to(device)\n",
    "            labels = batch[\"label\"].to(device)\n",
    "\n",
    "            outputs = model(input_ids, attention_mask=attention_mask, labels=labels)\n",
    "            loss = outputs.loss\n",
    "            logits = outputs.logits\n",
    "\n",
    "            preds = torch.argmax(logits, dim=1)\n",
    "            correct += (preds == labels).sum().item()\n",
    "            total += labels.size(0)\n",
    "\n",
    "    accuracy = correct / total * 100\n",
    "    print(f\"Test Accuracy: {accuracy:.2f}%\")\n",
    "    return accuracy\n",
    "\n",
    "evaluate_bart(model_path = \"best_bart_model.pth\", test_file = \"test.json\", save_file = \"test_task_2.json\", batch_size=32)"
   ]
  },
  {
   "cell_type": "markdown",
   "metadata": {},
   "source": [
    "#### Finetuning Roberta"
   ]
  },
  {
   "cell_type": "code",
   "execution_count": null,
   "metadata": {
    "execution": {
     "iopub.execute_input": "2025-03-15T18:28:02.937535Z",
     "iopub.status.busy": "2025-03-15T18:28:02.937207Z",
     "iopub.status.idle": "2025-03-15T18:31:43.432390Z",
     "shell.execute_reply": "2025-03-15T18:31:43.431248Z",
     "shell.execute_reply.started": "2025-03-15T18:28:02.937499Z"
    },
    "trusted": true
   },
   "outputs": [
    {
     "data": {
      "application/vnd.jupyter.widget-view+json": {
       "model_id": "94b0d7f142d14f2ea0cc611fca398d42",
       "version_major": 2,
       "version_minor": 0
      },
      "text/plain": [
       "tokenizer_config.json:   0%|          | 0.00/25.0 [00:00<?, ?B/s]"
      ]
     },
     "metadata": {},
     "output_type": "display_data"
    },
    {
     "data": {
      "application/vnd.jupyter.widget-view+json": {
       "model_id": "0c7aeea1dac6493ea207b4891b955f94",
       "version_major": 2,
       "version_minor": 0
      },
      "text/plain": [
       "vocab.json:   0%|          | 0.00/899k [00:00<?, ?B/s]"
      ]
     },
     "metadata": {},
     "output_type": "display_data"
    },
    {
     "data": {
      "application/vnd.jupyter.widget-view+json": {
       "model_id": "ab69b693d2994190ac3a7d502c52295d",
       "version_major": 2,
       "version_minor": 0
      },
      "text/plain": [
       "merges.txt:   0%|          | 0.00/456k [00:00<?, ?B/s]"
      ]
     },
     "metadata": {},
     "output_type": "display_data"
    },
    {
     "data": {
      "application/vnd.jupyter.widget-view+json": {
       "model_id": "ff65b42d24364b01b8c1701153288e18",
       "version_major": 2,
       "version_minor": 0
      },
      "text/plain": [
       "tokenizer.json:   0%|          | 0.00/1.36M [00:00<?, ?B/s]"
      ]
     },
     "metadata": {},
     "output_type": "display_data"
    },
    {
     "data": {
      "application/vnd.jupyter.widget-view+json": {
       "model_id": "a4919fc498d74ab4ab227d73b1852cc1",
       "version_major": 2,
       "version_minor": 0
      },
      "text/plain": [
       "config.json:   0%|          | 0.00/481 [00:00<?, ?B/s]"
      ]
     },
     "metadata": {},
     "output_type": "display_data"
    },
    {
     "name": "stdout",
     "output_type": "stream",
     "text": [
      "Preprocessed data loaded from /kaggle/input/dataset/train_task_2.json\n",
      "Preprocessed data loaded from /kaggle/input/dataset/val_task_2.json\n"
     ]
    },
    {
     "data": {
      "application/vnd.jupyter.widget-view+json": {
       "model_id": "16425b854b1d4b6ebaea5f3f4ee615f2",
       "version_major": 2,
       "version_minor": 0
      },
      "text/plain": [
       "model.safetensors:   0%|          | 0.00/499M [00:00<?, ?B/s]"
      ]
     },
     "metadata": {},
     "output_type": "display_data"
    },
    {
     "name": "stderr",
     "output_type": "stream",
     "text": [
      "Some weights of RobertaForSequenceClassification were not initialized from the model checkpoint at roberta-base and are newly initialized: ['classifier.dense.bias', 'classifier.dense.weight', 'classifier.out_proj.bias', 'classifier.out_proj.weight']\n",
      "You should probably TRAIN this model on a down-stream task to be able to use it for predictions and inference.\n",
      "                                                                                \r"
     ]
    },
    {
     "name": "stdout",
     "output_type": "stream",
     "text": [
      "Epoch 1/20 - Train Loss: 1.0582 - Train Acc: 0.5653 - Val Loss: 1.0958 - Val Acc: 0.5418\n",
      "Best model saved!\n"
     ]
    },
    {
     "name": "stderr",
     "output_type": "stream",
     "text": [
      "                                                                                \r"
     ]
    },
    {
     "name": "stdout",
     "output_type": "stream",
     "text": [
      "Epoch 2/20 - Train Loss: 0.9632 - Train Acc: 0.6062 - Val Loss: 1.0069 - Val Acc: 0.5822\n",
      "Best model saved!\n"
     ]
    },
    {
     "name": "stderr",
     "output_type": "stream",
     "text": [
      "                                                                                \r"
     ]
    },
    {
     "name": "stdout",
     "output_type": "stream",
     "text": [
      "Epoch 3/20 - Train Loss: 0.8984 - Train Acc: 0.6282 - Val Loss: 0.9676 - Val Acc: 0.6011\n",
      "Best model saved!\n"
     ]
    },
    {
     "name": "stderr",
     "output_type": "stream",
     "text": [
      "                                                                                \r"
     ]
    },
    {
     "name": "stdout",
     "output_type": "stream",
     "text": [
      "Epoch 4/20 - Train Loss: 0.8146 - Train Acc: 0.6680 - Val Loss: 1.0044 - Val Acc: 0.5903\n",
      "No improvement. Patience: 1/3\n"
     ]
    },
    {
     "name": "stderr",
     "output_type": "stream",
     "text": [
      "                                                                                \r"
     ]
    },
    {
     "name": "stdout",
     "output_type": "stream",
     "text": [
      "Epoch 5/20 - Train Loss: 0.7135 - Train Acc: 0.7204 - Val Loss: 1.0171 - Val Acc: 0.5849\n",
      "No improvement. Patience: 2/3\n"
     ]
    },
    {
     "name": "stderr",
     "output_type": "stream",
     "text": [
      "                                                                                "
     ]
    },
    {
     "name": "stdout",
     "output_type": "stream",
     "text": [
      "Epoch 6/20 - Train Loss: 0.6400 - Train Acc: 0.7541 - Val Loss: 0.9927 - Val Acc: 0.6226\n",
      "No improvement. Patience: 3/3\n",
      "Early stopping triggered at epoch 6! Stopping training.\n",
      "\n",
      " Training complete. Best Validation Accuracy: 0.6011\n"
     ]
    },
    {
     "name": "stderr",
     "output_type": "stream",
     "text": [
      "\r"
     ]
    }
   ],
   "source": [
    "# Load dataset\n",
    "# train_dataset = FinetuneDataset(\"roberta\", \"train.json\", \"/kaggle/input/dataset/train_task_2.json\")\n",
    "# val_dataset = FinetuneDataset(\"roberta\", \"val.json\", \"/kaggle/input/dataset/val_task_2.json\")\n",
    "train_dataset = FinetuneDataset(\"roberta\", \"train.json\", \"train_task_2.json\")\n",
    "val_dataset = FinetuneDataset(\"roberta\", \"val.json\", \"val_task_2.json\")\n",
    "\n",
    "# Create DataLoader\n",
    "train_loader = DataLoader(train_dataset, batch_size=32, shuffle=True, num_workers=4, pin_memory=True)\n",
    "val_loader = DataLoader(val_dataset, batch_size=32, shuffle=False, num_workers=4, pin_memory=True)\n",
    "\n",
    "# Load Roberta Model\n",
    "model = RobertaForSequenceClassification.from_pretrained(\"roberta-base\", num_labels=4)\n",
    "\n",
    "# Train\n",
    "train_loss, val_loss, train_acc, val_acc = finetune(model, train_loader, val_loader, epochs=20, lr=2e-5, model_name = \"roberta\")"
   ]
  },
  {
   "cell_type": "code",
   "execution_count": 20,
   "metadata": {
    "execution": {
     "iopub.execute_input": "2025-03-15T18:32:04.080706Z",
     "iopub.status.busy": "2025-03-15T18:32:04.080326Z",
     "iopub.status.idle": "2025-03-15T18:32:04.381378Z",
     "shell.execute_reply": "2025-03-15T18:32:04.380644Z",
     "shell.execute_reply.started": "2025-03-15T18:32:04.080672Z"
    },
    "trusted": true
   },
   "outputs": [
    {
     "data": {
      "image/png": "[encoded data removed]",
      "text/plain": [
       "<Figure size 1000x500 with 2 Axes>"
      ]
     },
     "metadata": {},
     "output_type": "display_data"
    }
   ],
   "source": [
    "plot_metrics(train_loss, val_loss, train_acc, val_acc)"
   ]
  },
  {
   "cell_type": "markdown",
   "metadata": {},
   "source": [
    "Evaluating Roberta"
   ]
  },
  {
   "cell_type": "code",
   "execution_count": null,
   "metadata": {},
   "outputs": [],
   "source": [
    "def evaluate_roberta(model_path = \"best_roberta_model.pth\", test_file = \"val.json\", save_file = \"val_task_2.json\", batch_size=32):\n",
    "    \"\"\"\n",
    "    Load the trained Roberta model and evaluate it on test data.\n",
    "\n",
    "    Args:\n",
    "        model_path (str): Path to the saved model file.\n",
    "        test_file (str): Path to the test dataset.\n",
    "        batch_size (int): Batch size for evaluation.\n",
    "\n",
    "    Returns:\n",
    "        float: Test accuracy.\n",
    "    \"\"\"\n",
    "\n",
    "    # Load test dataset\n",
    "    test_dataset = FinetuneDataset(\"roberta\", test_file, save_file)    \n",
    "    if torch.cuda.is_available():\n",
    "        test_loader = DataLoader(test_dataset, batch_size=batch_size, shuffle=False, num_workers=4, pin_memory=True)\n",
    "    else:\n",
    "        test_loader = DataLoader(test_dataset, batch_size=batch_size, shuffle=False)\n",
    "\n",
    "    # Define model\n",
    "    model = RobertaForSequenceClassification.from_pretrained(\"roberta-base\", num_labels=4)\n",
    "\n",
    "    # Load saved model weights\n",
    "    if torch.cuda.is_available():\n",
    "        model.load_state_dict(torch.load(model_path))\n",
    "    else:\n",
    "        model.load_state_dict(torch.load(model_path, map_location=torch.device('cpu')))\n",
    "    model.eval()  # Set to evaluation mode\n",
    "    device = torch.device(\"cuda\" if torch.cuda.is_available() else \"cpu\")\n",
    "    model.to(device)\n",
    "    correct, total = 0, 0\n",
    "    with torch.no_grad():\n",
    "        tqdm_bar = tqdm(test_loader, desc=\"Evaluating\")\n",
    "        for batch in tqdm_bar:\n",
    "            input_ids = batch[\"input_ids\"].to(device)\n",
    "            attention_mask = batch[\"attention_mask\"].to(device)\n",
    "            labels = batch[\"label\"].to(device)\n",
    "\n",
    "            outputs = model(input_ids, attention_mask=attention_mask, labels=labels)\n",
    "            loss = outputs.loss\n",
    "            logits = outputs.logits\n",
    "\n",
    "            preds = torch.argmax(logits, dim=1)\n",
    "            correct += (preds == labels).sum().item()\n",
    "            total += labels.size(0)\n",
    "\n",
    "    accuracy = correct / total * 100\n",
    "    print(f\"Test Accuracy: {accuracy:.2f}%\")\n",
    "    return accuracy\n",
    "\n",
    "evaluate_roberta(model_path = \"best_roberta_model.pth\", test_file = \"test.json\", save_file = \"test_task_2.json\", batch_size=32)"
   ]
  }
 ],
 "metadata": {
  "kaggle": {
   "accelerator": "gpu",
   "dataSources": [
    {
     "datasetId": 6862382,
     "sourceId": 11020573,
     "sourceType": "datasetVersion"
    }
   ],
   "dockerImageVersionId": 30919,
   "isGpuEnabled": true,
   "isInternetEnabled": true,
   "language": "python",
   "sourceType": "notebook"
  },
  "kernelspec": {
   "display_name": "base",
   "language": "python",
   "name": "python3"
  },
  "language_info": {
   "codemirror_mode": {
    "name": "ipython",
    "version": 3
   },
   "file_extension": ".py",
   "mimetype": "text/x-python",
   "name": "python",
   "nbconvert_exporter": "python",
   "pygments_lexer": "ipython3",
   "version": "3.11.5"
  }
 },
 "nbformat": 4,
 "nbformat_minor": 4
}
