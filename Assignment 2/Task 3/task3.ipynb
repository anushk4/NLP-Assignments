{
 "cells": [
  {
   "cell_type": "code",
   "execution_count": 23,
   "metadata": {
    "_cell_guid": "b1076dfc-b9ad-4769-8c92-a6c4dae69d19",
    "_uuid": "8f2839f25d086af736a60e9eeb907d3b93b6e0e5",
    "execution": {
     "iopub.execute_input": "2025-03-15T14:02:42.790561Z",
     "iopub.status.busy": "2025-03-15T14:02:42.790208Z",
     "iopub.status.idle": "2025-03-15T14:02:42.795481Z",
     "shell.execute_reply": "2025-03-15T14:02:42.794636Z",
     "shell.execute_reply.started": "2025-03-15T14:02:42.790533Z"
    },
    "trusted": true
   },
   "outputs": [],
   "source": [
    "# This Python 3 environment comes with many helpful analytics libraries installed\n",
    "# It is defined by the kaggle/python Docker image: https://github.com/kaggle/docker-python\n",
    "# For example, here's several helpful packages to load\n",
    "\n",
    "import numpy as np # linear algebra\n",
    "import pandas as pd # data processing, CSV file I/O (e.g. pd.read_csv)\n",
    "\n",
    "# Input data files are available in the read-only \"../input/\" directory\n",
    "# For example, running this (by clicking run or pressing Shift+Enter) will list all files under the input directory\n",
    "\n",
    "import os\n",
    "for dirname, _, filenames in os.walk('/kaggle/input'):\n",
    "    for filename in filenames:\n",
    "        print(os.path.join(dirname, filename))\n",
    "\n",
    "# You can write up to 20GB to the current directory (/kaggle/working/) that gets preserved as output when you create a version using \"Save & Run All\" \n",
    "# You can also write temporary files to /kaggle/temp/, but they won't be saved outside of the current session"
   ]
  },
  {
   "cell_type": "markdown",
   "metadata": {},
   "source": [
    "### References : \n",
    "\n",
    "1. https://huggingface.co/learn/nlp-course/chapter7/7 \n",
    "\n",
    "2. https://discuss.huggingface.co/t/keyerror-eval-loss-when-using-trainer-with-bertforqa/1920/3\n",
    "\n",
    "3. https://gndp.medium.com/an-effective-eval-strategy-for-huggingface-trainer-213ae3c7144c\n",
    "\n",
    "4. https://huggingface.co/docs/transformers/v4.49.0/en/main_classes/trainer#transformers.TrainingArguments\n",
    "\n"
   ]
  },
  {
   "cell_type": "code",
   "execution_count": 25,
   "metadata": {
    "execution": {
     "iopub.execute_input": "2025-03-15T14:02:52.084416Z",
     "iopub.status.busy": "2025-03-15T14:02:52.084127Z",
     "iopub.status.idle": "2025-03-15T14:02:52.088733Z",
     "shell.execute_reply": "2025-03-15T14:02:52.087872Z",
     "shell.execute_reply.started": "2025-03-15T14:02:52.084393Z"
    },
    "trusted": true
   },
   "outputs": [],
   "source": [
    "import collections\n",
    "import numpy as np\n",
    "import torch\n",
    "import transformers\n",
    "from datasets import load_dataset\n",
    "from transformers import AutoTokenizer, AutoModelForQuestionAnswering, TrainingArguments, Trainer\n",
    "import matplotlib.pyplot as plt\n",
    "from tqdm.auto import tqdm\n"
   ]
  },
  {
   "cell_type": "code",
   "execution_count": 6,
   "metadata": {
    "execution": {
     "iopub.execute_input": "2025-03-15T13:32:32.218207Z",
     "iopub.status.busy": "2025-03-15T13:32:32.217888Z",
     "iopub.status.idle": "2025-03-15T13:32:41.591027Z",
     "shell.execute_reply": "2025-03-15T13:32:41.590387Z",
     "shell.execute_reply.started": "2025-03-15T13:32:32.218176Z"
    },
    "trusted": true
   },
   "outputs": [
    {
     "data": {
      "application/vnd.jupyter.widget-view+json": {
       "model_id": "e88ae498f7ff4c35bfe9039823d19099",
       "version_major": 2,
       "version_minor": 0
      },
      "text/plain": [
       "README.md:   0%|          | 0.00/8.92k [00:00<?, ?B/s]"
      ]
     },
     "metadata": {},
     "output_type": "display_data"
    },
    {
     "data": {
      "application/vnd.jupyter.widget-view+json": {
       "model_id": "ecb86b4286ba4082bec6c2228eda7173",
       "version_major": 2,
       "version_minor": 0
      },
      "text/plain": [
       "train-00000-of-00001.parquet:   0%|          | 0.00/16.4M [00:00<?, ?B/s]"
      ]
     },
     "metadata": {},
     "output_type": "display_data"
    },
    {
     "data": {
      "application/vnd.jupyter.widget-view+json": {
       "model_id": "a3a472b4f09d4f039c0801f213fabf9c",
       "version_major": 2,
       "version_minor": 0
      },
      "text/plain": [
       "validation-00000-of-00001.parquet:   0%|          | 0.00/1.35M [00:00<?, ?B/s]"
      ]
     },
     "metadata": {},
     "output_type": "display_data"
    },
    {
     "data": {
      "application/vnd.jupyter.widget-view+json": {
       "model_id": "9584be66512049d1a1890f6a941aa448",
       "version_major": 2,
       "version_minor": 0
      },
      "text/plain": [
       "Generating train split:   0%|          | 0/130319 [00:00<?, ? examples/s]"
      ]
     },
     "metadata": {},
     "output_type": "display_data"
    },
    {
     "data": {
      "application/vnd.jupyter.widget-view+json": {
       "model_id": "18b15a88ad6341a99238d9a793f79324",
       "version_major": 2,
       "version_minor": 0
      },
      "text/plain": [
       "Generating validation split:   0%|          | 0/11873 [00:00<?, ? examples/s]"
      ]
     },
     "metadata": {},
     "output_type": "display_data"
    }
   ],
   "source": [
    "raw_datasets = load_dataset(\"squad_v2\")\n",
    "\n",
    "train_size = 15000\n",
    "raw_datasets[\"train\"] = raw_datasets[\"train\"].select(range(train_size))\n"
   ]
  },
  {
   "cell_type": "markdown",
   "metadata": {},
   "source": [
    "#### SpanBert Finetune"
   ]
  },
  {
   "cell_type": "code",
   "execution_count": null,
   "metadata": {
    "execution": {
     "iopub.execute_input": "2025-03-15T13:32:44.726219Z",
     "iopub.status.busy": "2025-03-15T13:32:44.725909Z",
     "iopub.status.idle": "2025-03-15T13:32:58.226432Z",
     "shell.execute_reply": "2025-03-15T13:32:58.225711Z",
     "shell.execute_reply.started": "2025-03-15T13:32:44.726197Z"
    },
    "trusted": true
   },
   "outputs": [
    {
     "data": {
      "application/vnd.jupyter.widget-view+json": {
       "model_id": "58aff409349741ce9b7bded5c8a4f945",
       "version_major": 2,
       "version_minor": 0
      },
      "text/plain": [
       "config.json:   0%|          | 0.00/413 [00:00<?, ?B/s]"
      ]
     },
     "metadata": {},
     "output_type": "display_data"
    },
    {
     "data": {
      "application/vnd.jupyter.widget-view+json": {
       "model_id": "38b2cdacd4934a6da2cada95620c14b1",
       "version_major": 2,
       "version_minor": 0
      },
      "text/plain": [
       "vocab.txt:   0%|          | 0.00/213k [00:00<?, ?B/s]"
      ]
     },
     "metadata": {},
     "output_type": "display_data"
    },
    {
     "data": {
      "application/vnd.jupyter.widget-view+json": {
       "model_id": "4092b664a5724198a1e131473046c0c8",
       "version_major": 2,
       "version_minor": 0
      },
      "text/plain": [
       "Map:   0%|          | 0/15000 [00:00<?, ? examples/s]"
      ]
     },
     "metadata": {},
     "output_type": "display_data"
    }
   ],
   "source": [
    "max_length = 384\n",
    "stride = 128\n",
    "\n",
    "tokenizer = AutoTokenizer.from_pretrained(\"SpanBERT/spanbert-base-cased\")\n",
    "\n",
    "''' \n",
    "Preporcessing the training data\n",
    "'''\n",
    "\n",
    "def preprocess_training_examples(examples):\n",
    "    questions = [q.strip() for q in examples[\"question\"]]\n",
    "    inputs = tokenizer(\n",
    "        questions,\n",
    "        examples[\"context\"],\n",
    "        max_length=max_length,\n",
    "        truncation=\"only_second\",\n",
    "        stride=stride,\n",
    "        return_overflowing_tokens=True,\n",
    "        return_offsets_mapping=True,\n",
    "        padding=\"max_length\",\n",
    "    )\n",
    "\n",
    "    offset_mapping = inputs.pop(\"offset_mapping\")\n",
    "    sample_map = inputs.pop(\"overflow_to_sample_mapping\")\n",
    "    answers = examples[\"answers\"]\n",
    "    start_positions = []\n",
    "    end_positions = []\n",
    "\n",
    "    for i, offset in enumerate(offset_mapping):\n",
    "        sample_idx = sample_map[i]\n",
    "        answer = answers[sample_idx]\n",
    "\n",
    "        if len(answer[\"text\"]) == 0:\n",
    "            start_positions.append(0)\n",
    "            end_positions.append(0)\n",
    "            continue\n",
    "\n",
    "        start_char = answer[\"answer_start\"][0]\n",
    "        end_char = start_char + len(answer[\"text\"][0])\n",
    "        sequence_ids = inputs.sequence_ids(i)\n",
    "\n",
    "        idx = 0\n",
    "        while sequence_ids[idx] != 1:\n",
    "            idx += 1\n",
    "        context_start = idx\n",
    "        while sequence_ids[idx] == 1:\n",
    "            idx += 1\n",
    "        context_end = idx - 1\n",
    "\n",
    "        if offset[context_start][0] > start_char or offset[context_end][1] < end_char:\n",
    "            start_positions.append(0)\n",
    "            end_positions.append(0)\n",
    "        else:\n",
    "            idx = context_start\n",
    "            while idx <= context_end and offset[idx][0] <= start_char:\n",
    "                idx += 1\n",
    "            start_positions.append(idx - 1)\n",
    "\n",
    "            idx = context_end\n",
    "            while idx >= context_start and offset[idx][1] >= end_char:\n",
    "                idx -= 1\n",
    "            end_positions.append(idx + 1)\n",
    "\n",
    "    inputs[\"start_positions\"] = start_positions\n",
    "    inputs[\"end_positions\"] = end_positions\n",
    "    return inputs\n",
    "\n",
    "\n",
    "\n",
    "train_dataset = raw_datasets[\"train\"].map(\n",
    "    preprocess_training_examples,\n",
    "    batched=True,\n",
    "    remove_columns=raw_datasets[\"train\"].column_names,\n",
    ")\n"
   ]
  },
  {
   "cell_type": "code",
   "execution_count": null,
   "metadata": {
    "execution": {
     "iopub.execute_input": "2025-03-15T13:35:33.682232Z",
     "iopub.status.busy": "2025-03-15T13:35:33.681935Z",
     "iopub.status.idle": "2025-03-15T13:35:33.691002Z",
     "shell.execute_reply": "2025-03-15T13:35:33.689883Z",
     "shell.execute_reply.started": "2025-03-15T13:35:33.682210Z"
    },
    "trusted": true
   },
   "outputs": [],
   "source": [
    "''' \n",
    "Preporcessing the validation data\n",
    "'''\n",
    "\n",
    "\n",
    "def preprocess_validation_examples(examples):\n",
    "    questions = [q.strip() for q in examples[\"question\"]]\n",
    "    inputs = tokenizer(\n",
    "        questions,\n",
    "        examples[\"context\"],\n",
    "        max_length=max_length,\n",
    "        truncation=\"only_second\",\n",
    "        stride=stride,\n",
    "        return_overflowing_tokens=True,\n",
    "        return_offsets_mapping=True,  # Ensure offset_mapping is returned\n",
    "        padding=\"max_length\",\n",
    "    )\n",
    "\n",
    "    # Checking if offset_mapping is in inputs\n",
    "    if \"offset_mapping\" not in inputs:\n",
    "        raise ValueError(\"Tokenizer did not return offset_mapping. Check tokenizer settings.\")\n",
    "\n",
    "    offset_mapping = inputs[\"offset_mapping\"]\n",
    "    sample_map = inputs.pop(\"overflow_to_sample_mapping\")\n",
    "    example_ids = []\n",
    "    start_positions = []\n",
    "    end_positions = []\n",
    "    answers = examples[\"answers\"]\n",
    "\n",
    "    for i, offset in enumerate(offset_mapping):\n",
    "        sample_idx = sample_map[i]\n",
    "        example_ids.append(examples[\"id\"][sample_idx])\n",
    "\n",
    "        sequence_ids = inputs.sequence_ids(i)\n",
    "        offsets_cleaned = [\n",
    "            o if sequence_ids[k] == 1 else None for k, o in enumerate(offset)\n",
    "        ]\n",
    "        inputs[\"offset_mapping\"][i] = offsets_cleaned\n",
    "\n",
    "        answer = answers[sample_idx]\n",
    "        if len(answer[\"answer_start\"]) == 0:\n",
    "            # No answer case\n",
    "            start_positions.append(0)\n",
    "            end_positions.append(0)\n",
    "        else:\n",
    "            start_char = answer[\"answer_start\"][0]\n",
    "            end_char = answer[\"answer_start\"][0] + len(answer[\"text\"][0])\n",
    "\n",
    "        \n",
    "            idx = 0\n",
    "            while sequence_ids[idx] != 1:\n",
    "                idx += 1\n",
    "            context_start = idx\n",
    "            while idx < len(sequence_ids) and sequence_ids[idx] == 1:\n",
    "                idx += 1\n",
    "            context_end = idx - 1\n",
    "\n",
    "            # If the answer is outside the context, assigning (0,0)\n",
    "            if offsets_cleaned[context_start][0] > start_char or offsets_cleaned[context_end][1] < end_char:\n",
    "                start_positions.append(0)\n",
    "                end_positions.append(0)\n",
    "            else:\n",
    "              \n",
    "                idx = context_start\n",
    "                while idx <= context_end and offsets_cleaned[idx][0] <= start_char:\n",
    "                    idx += 1\n",
    "                start_positions.append(idx - 1)\n",
    "\n",
    "                idx = context_end\n",
    "                while idx >= context_start and offsets_cleaned[idx][1] >= end_char:\n",
    "                    idx -= 1\n",
    "                end_positions.append(idx + 1)\n",
    "\n",
    "    inputs[\"example_id\"] = example_ids\n",
    "    inputs[\"start_positions\"] = start_positions\n",
    "    inputs[\"end_positions\"] = end_positions\n",
    "    return inputs"
   ]
  },
  {
   "cell_type": "code",
   "execution_count": 11,
   "metadata": {
    "execution": {
     "iopub.execute_input": "2025-03-15T13:35:36.407013Z",
     "iopub.status.busy": "2025-03-15T13:35:36.406733Z",
     "iopub.status.idle": "2025-03-15T13:35:45.297773Z",
     "shell.execute_reply": "2025-03-15T13:35:45.296871Z",
     "shell.execute_reply.started": "2025-03-15T13:35:36.406994Z"
    },
    "trusted": true
   },
   "outputs": [
    {
     "data": {
      "application/vnd.jupyter.widget-view+json": {
       "model_id": "4d4dbcb08ab645a2a9f854e246e93446",
       "version_major": 2,
       "version_minor": 0
      },
      "text/plain": [
       "Map:   0%|          | 0/11873 [00:00<?, ? examples/s]"
      ]
     },
     "metadata": {},
     "output_type": "display_data"
    }
   ],
   "source": [
    "validation_dataset = raw_datasets[\"validation\"].map(\n",
    "    preprocess_validation_examples,\n",
    "    batched=True,\n",
    "    remove_columns=raw_datasets[\"validation\"].column_names,\n",
    ")\n"
   ]
  },
  {
   "cell_type": "code",
   "execution_count": 12,
   "metadata": {
    "execution": {
     "iopub.execute_input": "2025-03-15T13:35:45.299124Z",
     "iopub.status.busy": "2025-03-15T13:35:45.298870Z",
     "iopub.status.idle": "2025-03-15T13:35:48.080314Z",
     "shell.execute_reply": "2025-03-15T13:35:48.079138Z",
     "shell.execute_reply.started": "2025-03-15T13:35:45.299102Z"
    },
    "trusted": true
   },
   "outputs": [
    {
     "data": {
      "application/vnd.jupyter.widget-view+json": {
       "model_id": "f16a522c0e7b46469effa78cc1f17288",
       "version_major": 2,
       "version_minor": 0
      },
      "text/plain": [
       "pytorch_model.bin:   0%|          | 0.00/215M [00:00<?, ?B/s]"
      ]
     },
     "metadata": {},
     "output_type": "display_data"
    },
    {
     "name": "stderr",
     "output_type": "stream",
     "text": [
      "Some weights of BertForQuestionAnswering were not initialized from the model checkpoint at SpanBERT/spanbert-base-cased and are newly initialized: ['qa_outputs.bias', 'qa_outputs.weight']\n",
      "You should probably TRAIN this model on a down-stream task to be able to use it for predictions and inference.\n"
     ]
    }
   ],
   "source": [
    "model = AutoModelForQuestionAnswering.from_pretrained(\"SpanBERT/spanbert-base-cased\")"
   ]
  },
  {
   "cell_type": "code",
   "execution_count": null,
   "metadata": {
    "execution": {
     "iopub.execute_input": "2025-03-15T14:03:16.838578Z",
     "iopub.status.busy": "2025-03-15T14:03:16.838251Z",
     "iopub.status.idle": "2025-03-15T14:03:16.866134Z",
     "shell.execute_reply": "2025-03-15T14:03:16.865464Z",
     "shell.execute_reply.started": "2025-03-15T14:03:16.838549Z"
    },
    "trusted": true
   },
   "outputs": [],
   "source": [
    "''' \n",
    "Training arguments\n",
    "'''\n",
    "\n",
    "training_args = TrainingArguments(\n",
    "    output_dir= \"./spanbert-finetuned-squad\",\n",
    "    evaluation_strategy=\"epoch\",\n",
    "    save_strategy=\"epoch\",\n",
    "    logging_strategy=\"epoch\",\n",
    "    # logging_steps=1,\n",
    "    learning_rate=2e-5,\n",
    "    per_device_train_batch_size=8,\n",
    "    per_device_eval_batch_size=8,\n",
    "    num_train_epochs=6,\n",
    "    weight_decay=0.01,\n",
    "    report_to=\"none\"\n",
    ")"
   ]
  },
  {
   "cell_type": "code",
   "execution_count": 28,
   "metadata": {
    "execution": {
     "iopub.execute_input": "2025-03-15T14:03:19.548517Z",
     "iopub.status.busy": "2025-03-15T14:03:19.548223Z",
     "iopub.status.idle": "2025-03-15T14:03:19.563219Z",
     "shell.execute_reply": "2025-03-15T14:03:19.562479Z",
     "shell.execute_reply.started": "2025-03-15T14:03:19.548493Z"
    },
    "trusted": true
   },
   "outputs": [
    {
     "name": "stderr",
     "output_type": "stream",
     "text": [
      "<ipython-input-28-cd2e227fd4d0>:1: FutureWarning: `tokenizer` is deprecated and will be removed in version 5.0.0 for `Trainer.__init__`. Use `processing_class` instead.\n",
      "  trainer = Trainer(\n"
     ]
    }
   ],
   "source": [
    "trainer = Trainer(\n",
    "    model=model,\n",
    "    args=training_args,\n",
    "    train_dataset=train_dataset,\n",
    "    eval_dataset=validation_dataset,\n",
    "    tokenizer=tokenizer,\n",
    ")"
   ]
  },
  {
   "cell_type": "code",
   "execution_count": 29,
   "metadata": {
    "execution": {
     "iopub.execute_input": "2025-03-15T14:03:22.113730Z",
     "iopub.status.busy": "2025-03-15T14:03:22.113387Z",
     "iopub.status.idle": "2025-03-15T14:03:22.117523Z",
     "shell.execute_reply": "2025-03-15T14:03:22.116694Z",
     "shell.execute_reply.started": "2025-03-15T14:03:22.113701Z"
    },
    "trusted": true
   },
   "outputs": [],
   "source": [
    "trainer.can_return_loss = True"
   ]
  },
  {
   "cell_type": "code",
   "execution_count": 30,
   "metadata": {
    "execution": {
     "iopub.execute_input": "2025-03-15T14:03:24.414740Z",
     "iopub.status.busy": "2025-03-15T14:03:24.414380Z",
     "iopub.status.idle": "2025-03-15T15:23:43.615066Z",
     "shell.execute_reply": "2025-03-15T15:23:43.614055Z",
     "shell.execute_reply.started": "2025-03-15T14:03:24.414709Z"
    },
    "trusted": true
   },
   "outputs": [
    {
     "data": {
      "text/html": [
       "\n",
       "    <div>\n",
       "      \n",
       "      <progress value='11472' max='11472' style='width:300px; height:20px; vertical-align: middle;'></progress>\n",
       "      [11472/11472 1:20:18, Epoch 6/6]\n",
       "    </div>\n",
       "    <table border=\"1\" class=\"dataframe\">\n",
       "  <thead>\n",
       " <tr style=\"text-align: left;\">\n",
       "      <th>Epoch</th>\n",
       "      <th>Training Loss</th>\n",
       "      <th>Validation Loss</th>\n",
       "    </tr>\n",
       "  </thead>\n",
       "  <tbody>\n",
       "    <tr>\n",
       "      <td>1</td>\n",
       "      <td>1.363700</td>\n",
       "      <td>2.097396</td>\n",
       "    </tr>\n",
       "    <tr>\n",
       "      <td>2</td>\n",
       "      <td>1.036900</td>\n",
       "      <td>2.294517</td>\n",
       "    </tr>\n",
       "    <tr>\n",
       "      <td>3</td>\n",
       "      <td>0.789500</td>\n",
       "      <td>2.241175</td>\n",
       "    </tr>\n",
       "    <tr>\n",
       "      <td>4</td>\n",
       "      <td>0.645000</td>\n",
       "      <td>2.979806</td>\n",
       "    </tr>\n",
       "    <tr>\n",
       "      <td>5</td>\n",
       "      <td>0.541200</td>\n",
       "      <td>3.270980</td>\n",
       "    </tr>\n",
       "    <tr>\n",
       "      <td>6</td>\n",
       "      <td>0.487400</td>\n",
       "      <td>3.447168</td>\n",
       "    </tr>\n",
       "  </tbody>\n",
       "</table><p>"
      ],
      "text/plain": [
       "<IPython.core.display.HTML object>"
      ]
     },
     "metadata": {},
     "output_type": "display_data"
    },
    {
     "data": {
      "text/plain": [
       "TrainOutput(global_step=11472, training_loss=0.8106186093978137, metrics={'train_runtime': 4818.7135, 'train_samples_per_second': 19.037, 'train_steps_per_second': 2.381, 'total_flos': 1.7977347511815168e+16, 'train_loss': 0.8106186093978137, 'epoch': 6.0})"
      ]
     },
     "execution_count": 30,
     "metadata": {},
     "output_type": "execute_result"
    }
   ],
   "source": [
    "trainer.train()"
   ]
  },
  {
   "cell_type": "code",
   "execution_count": null,
   "metadata": {
    "execution": {
     "iopub.execute_input": "2025-03-15T15:23:43.616798Z",
     "iopub.status.busy": "2025-03-15T15:23:43.616437Z",
     "iopub.status.idle": "2025-03-15T15:23:43.624000Z",
     "shell.execute_reply": "2025-03-15T15:23:43.623170Z",
     "shell.execute_reply.started": "2025-03-15T15:23:43.616775Z"
    },
    "trusted": true
   },
   "outputs": [],
   "source": [
    "''' \n",
    "postprocess predictions\n",
    "'''\n",
    "\n",
    "\n",
    "def postprocess_predictions(examples, features, start_logits, end_logits, n_best=20, max_answer_length=30):\n",
    "    example_to_features = collections.defaultdict(list)\n",
    "    for idx, feature in enumerate(features):\n",
    "        example_to_features[feature[\"example_id\"]].append(idx)\n",
    "\n",
    "    predicted_answers = []\n",
    "    \n",
    "    for example in examples:\n",
    "        example_id = example[\"id\"]\n",
    "        context = example[\"context\"]\n",
    "        answers = []\n",
    "\n",
    "        for feature_index in example_to_features[example_id]:\n",
    "            start_logit = start_logits[feature_index]\n",
    "            end_logit = end_logits[feature_index]\n",
    "            offsets = features[feature_index][\"offset_mapping\"]\n",
    "\n",
    "            start_indexes = np.argsort(start_logit)[-1 : -n_best - 1 : -1].tolist()\n",
    "            end_indexes = np.argsort(end_logit)[-1 : -n_best - 1 : -1].tolist()\n",
    "\n",
    "            for start_index in start_indexes:\n",
    "                for end_index in end_indexes:\n",
    "                    if offsets[start_index] is None or offsets[end_index] is None:\n",
    "                        continue\n",
    "                    if end_index < start_index or end_index - start_index + 1 > max_answer_length:\n",
    "                        continue\n",
    "\n",
    "                    answer_text = context[offsets[start_index][0] : offsets[end_index][1]]\n",
    "                    logit_score = start_logit[start_index] + end_logit[end_index]\n",
    "\n",
    "                    answers.append({\"text\": answer_text, \"logit_score\": logit_score})\n",
    "\n",
    "        best_answer = max(answers, key=lambda x: x[\"logit_score\"]) if answers else {\"text\": \"\"}\n",
    "        predicted_answers.append({\"id\": example_id, \"prediction_text\": best_answer[\"text\"]})\n",
    "\n",
    "    return predicted_answers\n"
   ]
  },
  {
   "cell_type": "code",
   "execution_count": 32,
   "metadata": {
    "execution": {
     "iopub.execute_input": "2025-03-15T15:23:43.625968Z",
     "iopub.status.busy": "2025-03-15T15:23:43.625771Z",
     "iopub.status.idle": "2025-03-15T15:29:29.233392Z",
     "shell.execute_reply": "2025-03-15T15:29:29.232694Z",
     "shell.execute_reply.started": "2025-03-15T15:23:43.625951Z"
    },
    "trusted": true
   },
   "outputs": [
    {
     "data": {
      "text/html": [],
      "text/plain": [
       "<IPython.core.display.HTML object>"
      ]
     },
     "metadata": {},
     "output_type": "display_data"
    },
    {
     "data": {
      "text/html": [],
      "text/plain": [
       "<IPython.core.display.HTML object>"
      ]
     },
     "metadata": {},
     "output_type": "display_data"
    }
   ],
   "source": [
    "def exact_match_score(predictions, references):\n",
    "    assert len(predictions) == len(references), \"Lists must have the same length\"\n",
    "    matches = sum(p == r for p, r in zip(predictions, references))\n",
    "    return matches / len(references) * 100\n",
    "val_set = raw_datasets[\"validation\"]\n",
    "predicted_answers = postprocess_predictions(val_set, validation_dataset, trainer.predict(validation_dataset).predictions[0], trainer.predict(validation_dataset).predictions[1])\n",
    "theoretical_answers = [{\"id\": ex[\"id\"], \"answers\": ex[\"answers\"]} for ex in val_set]"
   ]
  },
  {
   "cell_type": "code",
   "execution_count": null,
   "metadata": {
    "execution": {
     "iopub.execute_input": "2025-03-15T15:29:29.234896Z",
     "iopub.status.busy": "2025-03-15T15:29:29.234634Z",
     "iopub.status.idle": "2025-03-15T15:29:29.249841Z",
     "shell.execute_reply": "2025-03-15T15:29:29.248862Z",
     "shell.execute_reply.started": "2025-03-15T15:29:29.234865Z"
    },
    "trusted": true
   },
   "outputs": [
    {
     "name": "stdout",
     "output_type": "stream",
     "text": [
      "Exact Match Score: 53.63%\n"
     ]
    }
   ],
   "source": [
    "\n",
    "filtered_predictions = []\n",
    "filtered_references = []\n",
    "\n",
    "for pred, ref in zip(predicted_answers, theoretical_answers):\n",
    "    if ref[\"answers\"][\"text\"]: \n",
    "        filtered_predictions.append(pred[\"prediction_text\"])\n",
    "        filtered_references.append(ref[\"answers\"][\"text\"][0])\n",
    "\n",
    "em_score = exact_match_score(filtered_predictions, filtered_references)\n",
    "\n",
    "print(f\"Exact Match Score: {em_score:.2f}%\")"
   ]
  },
  {
   "cell_type": "code",
   "execution_count": null,
   "metadata": {
    "execution": {
     "iopub.execute_input": "2025-03-15T15:33:06.307620Z",
     "iopub.status.busy": "2025-03-15T15:33:06.307281Z",
     "iopub.status.idle": "2025-03-15T15:38:50.221849Z",
     "shell.execute_reply": "2025-03-15T15:38:50.221027Z",
     "shell.execute_reply.started": "2025-03-15T15:33:06.307582Z"
    },
    "trusted": true
   },
   "outputs": [
    {
     "name": "stderr",
     "output_type": "stream",
     "text": [
      "<ipython-input-35-79e500c069f1>:4: FutureWarning: `tokenizer` is deprecated and will be removed in version 5.0.0 for `Trainer.__init__`. Use `processing_class` instead.\n",
      "  loaded_trainer = Trainer(model=loaded_model, args=training_args, tokenizer=tokenizer,eval_dataset=validation_dataset)\n"
     ]
    },
    {
     "data": {
      "text/html": [],
      "text/plain": [
       "<IPython.core.display.HTML object>"
      ]
     },
     "metadata": {},
     "output_type": "display_data"
    },
    {
     "data": {
      "text/html": [],
      "text/plain": [
       "<IPython.core.display.HTML object>"
      ]
     },
     "metadata": {},
     "output_type": "display_data"
    },
    {
     "name": "stdout",
     "output_type": "stream",
     "text": [
      "Exact Match Score: 53.63%\n"
     ]
    }
   ],
   "source": [
    "#Saving  the Model\n",
    "trainer.save_model(\"./spanbert-finetuned\")\n",
    "loaded_model = AutoModelForQuestionAnswering.from_pretrained(\"./spanbert-finetuned\")\n",
    "loaded_trainer = Trainer(model=loaded_model, args=training_args, tokenizer=tokenizer,eval_dataset=validation_dataset)\n",
    "\n",
    "predicted_answers = postprocess_predictions(\n",
    "    val_set, validation_dataset,\n",
    "    loaded_trainer.predict(validation_dataset).predictions[0],\n",
    "    loaded_trainer.predict(validation_dataset).predictions[1]\n",
    ")\n",
    "\n",
    "filtered_predictions = []\n",
    "filtered_references = []\n",
    "\n",
    "for pred, ref in zip(predicted_answers, theoretical_answers):\n",
    "    if ref[\"answers\"][\"text\"]:  \n",
    "        filtered_predictions.append(pred[\"prediction_text\"])\n",
    "        filtered_references.append(ref[\"answers\"][\"text\"][0])\n",
    "\n",
    "em_score = exact_match_score(filtered_predictions, filtered_references)\n",
    "\n",
    "print(f\"Exact Match Score: {em_score:.2f}%\")\n"
   ]
  },
  {
   "cell_type": "code",
   "execution_count": null,
   "metadata": {
    "execution": {
     "iopub.execute_input": "2025-03-15T15:52:20.578426Z",
     "iopub.status.busy": "2025-03-15T15:52:20.578104Z",
     "iopub.status.idle": "2025-03-15T15:52:20.768456Z",
     "shell.execute_reply": "2025-03-15T15:52:20.767594Z",
     "shell.execute_reply.started": "2025-03-15T15:52:20.578399Z"
    },
    "trusted": true
   },
   "outputs": [
    {
     "data": {
      "image/png": "[encoded data removed]",
      "text/plain": [
       "<Figure size 800x500 with 1 Axes>"
      ]
     },
     "metadata": {},
     "output_type": "display_data"
    }
   ],
   "source": [
    "import matplotlib.pyplot as plt\n",
    "import numpy as np\n",
    "\n",
    "def plot_loss(trainer_obj):\n",
    "   \n",
    "    train_loss = [x[\"loss\"] for x in trainer_obj.state.log_history if \"loss\" in x]\n",
    "    validation_loss = [x[\"eval_loss\"] for x in trainer_obj.state.log_history if \"eval_loss\" in x]\n",
    "    \n",
    "    plt.figure(figsize=(8, 5))\n",
    "    plt.plot(train_loss, label=\"Training Loss\", marker='o', linestyle='-')\n",
    "    plt.plot(validation_loss, label=\"Validation Loss\", marker='s', linestyle='--', color='red')\n",
    "    plt.xlabel(\"Epoch\")\n",
    "    plt.ylabel(\"Loss\")\n",
    "    plt.legend()\n",
    "    plt.title(\"Training & Validation Loss\")\n",
    "    plt.grid()\n",
    "\n",
    "    plt.ylim(0, max(max(train_loss), max(validation_loss)) *4)\n",
    "\n",
    "    plt.show()\n",
    "\n",
    "plot_loss(trainer)\n"
   ]
  },
  {
   "cell_type": "code",
   "execution_count": 38,
   "metadata": {
    "execution": {
     "iopub.execute_input": "2025-03-15T15:45:29.058059Z",
     "iopub.status.busy": "2025-03-15T15:45:29.057668Z",
     "iopub.status.idle": "2025-03-15T15:45:54.408766Z",
     "shell.execute_reply": "2025-03-15T15:45:54.407863Z",
     "shell.execute_reply.started": "2025-03-15T15:45:29.058031Z"
    },
    "trusted": true
   },
   "outputs": [
    {
     "name": "stdout",
     "output_type": "stream",
     "text": [
      "  adding: kaggle/working/spanbert-finetuned/ (stored 0%)\n",
      "  adding: kaggle/working/spanbert-finetuned/vocab.txt (deflated 49%)\n",
      "  adding: kaggle/working/spanbert-finetuned/tokenizer_config.json (deflated 74%)\n",
      "  adding: kaggle/working/spanbert-finetuned/tokenizer.json (deflated 70%)\n",
      "  adding: kaggle/working/spanbert-finetuned/training_args.bin (deflated 51%)\n",
      "  adding: kaggle/working/spanbert-finetuned/model.safetensors (deflated 10%)\n",
      "  adding: kaggle/working/spanbert-finetuned/config.json (deflated 47%)\n",
      "  adding: kaggle/working/spanbert-finetuned/special_tokens_map.json (deflated 42%)\n"
     ]
    }
   ],
   "source": [
    "!zip -r spanbert.zip /kaggle/working/spanbert-finetuned"
   ]
  },
  {
   "cell_type": "code",
   "execution_count": 39,
   "metadata": {
    "execution": {
     "iopub.execute_input": "2025-03-15T15:47:08.349194Z",
     "iopub.status.busy": "2025-03-15T15:47:08.348829Z",
     "iopub.status.idle": "2025-03-15T15:47:08.355394Z",
     "shell.execute_reply": "2025-03-15T15:47:08.354521Z",
     "shell.execute_reply.started": "2025-03-15T15:47:08.349167Z"
    },
    "trusted": true
   },
   "outputs": [
    {
     "data": {
      "text/html": [
       "<a href='spanbert.zip' target='_blank'>spanbert.zip</a><br>"
      ],
      "text/plain": [
       "/kaggle/working/spanbert.zip"
      ]
     },
     "execution_count": 39,
     "metadata": {},
     "output_type": "execute_result"
    }
   ],
   "source": [
    "from IPython.display import FileLink\n",
    "FileLink(r'spanbert.zip')"
   ]
  },
  {
   "cell_type": "markdown",
   "metadata": {},
   "source": [
    "### Spanbert CRF"
   ]
  },
  {
   "cell_type": "code",
   "execution_count": 1,
   "metadata": {
    "execution": {
     "iopub.execute_input": "2025-03-15T19:58:52.267763Z",
     "iopub.status.busy": "2025-03-15T19:58:52.267485Z",
     "iopub.status.idle": "2025-03-15T19:58:56.980463Z",
     "shell.execute_reply": "2025-03-15T19:58:56.979425Z",
     "shell.execute_reply.started": "2025-03-15T19:58:52.267728Z"
    },
    "trusted": true
   },
   "outputs": [
    {
     "name": "stdout",
     "output_type": "stream",
     "text": [
      "Collecting pytorch-crf\n",
      "  Downloading pytorch_crf-0.7.2-py3-none-any.whl.metadata (2.4 kB)\n",
      "Downloading pytorch_crf-0.7.2-py3-none-any.whl (9.5 kB)\n",
      "Installing collected packages: pytorch-crf\n",
      "Successfully installed pytorch-crf-0.7.2\n",
      "Note: you may need to restart the kernel to use updated packages.\n"
     ]
    }
   ],
   "source": [
    "pip install pytorch-crf"
   ]
  },
  {
   "cell_type": "code",
   "execution_count": null,
   "metadata": {
    "execution": {
     "iopub.execute_input": "2025-03-15T19:59:00.708636Z",
     "iopub.status.busy": "2025-03-15T19:59:00.708268Z",
     "iopub.status.idle": "2025-03-15T22:39:01.607727Z",
     "shell.execute_reply": "2025-03-15T22:39:01.606922Z",
     "shell.execute_reply.started": "2025-03-15T19:59:00.708600Z"
    },
    "trusted": true
   },
   "outputs": [
    {
     "data": {
      "application/vnd.jupyter.widget-view+json": {
       "model_id": "59d04febda634f03a2bc0815e8740a04",
       "version_major": 2,
       "version_minor": 0
      },
      "text/plain": [
       "config.json:   0%|          | 0.00/413 [00:00<?, ?B/s]"
      ]
     },
     "metadata": {},
     "output_type": "display_data"
    },
    {
     "data": {
      "application/vnd.jupyter.widget-view+json": {
       "model_id": "dd98ee0c085845c5975d3808fc05112a",
       "version_major": 2,
       "version_minor": 0
      },
      "text/plain": [
       "vocab.txt:   0%|          | 0.00/213k [00:00<?, ?B/s]"
      ]
     },
     "metadata": {},
     "output_type": "display_data"
    },
    {
     "data": {
      "application/vnd.jupyter.widget-view+json": {
       "model_id": "d418c862ee3c4bb3973cffdea99dc35f",
       "version_major": 2,
       "version_minor": 0
      },
      "text/plain": [
       "README.md:   0%|          | 0.00/8.92k [00:00<?, ?B/s]"
      ]
     },
     "metadata": {},
     "output_type": "display_data"
    },
    {
     "data": {
      "application/vnd.jupyter.widget-view+json": {
       "model_id": "a94edb0bf66941b5b61b650d208cd298",
       "version_major": 2,
       "version_minor": 0
      },
      "text/plain": [
       "train-00000-of-00001.parquet:   0%|          | 0.00/16.4M [00:00<?, ?B/s]"
      ]
     },
     "metadata": {},
     "output_type": "display_data"
    },
    {
     "data": {
      "application/vnd.jupyter.widget-view+json": {
       "model_id": "853f9a76384048f1847cf82741cb0bc8",
       "version_major": 2,
       "version_minor": 0
      },
      "text/plain": [
       "validation-00000-of-00001.parquet:   0%|          | 0.00/1.35M [00:00<?, ?B/s]"
      ]
     },
     "metadata": {},
     "output_type": "display_data"
    },
    {
     "data": {
      "application/vnd.jupyter.widget-view+json": {
       "model_id": "15a9695bce2944f1908efbfe1d5962fc",
       "version_major": 2,
       "version_minor": 0
      },
      "text/plain": [
       "Generating train split:   0%|          | 0/130319 [00:00<?, ? examples/s]"
      ]
     },
     "metadata": {},
     "output_type": "display_data"
    },
    {
     "data": {
      "application/vnd.jupyter.widget-view+json": {
       "model_id": "d6d3f994f99b4537b16fd96acba001f2",
       "version_major": 2,
       "version_minor": 0
      },
      "text/plain": [
       "Generating validation split:   0%|          | 0/11873 [00:00<?, ? examples/s]"
      ]
     },
     "metadata": {},
     "output_type": "display_data"
    },
    {
     "data": {
      "application/vnd.jupyter.widget-view+json": {
       "model_id": "ae2ad78c7a034f3886fed52bf70b8ce3",
       "version_major": 2,
       "version_minor": 0
      },
      "text/plain": [
       "Map:   0%|          | 0/15000 [00:00<?, ? examples/s]"
      ]
     },
     "metadata": {},
     "output_type": "display_data"
    },
    {
     "data": {
      "application/vnd.jupyter.widget-view+json": {
       "model_id": "062bdf879cbc492ead957d4da58c02ae",
       "version_major": 2,
       "version_minor": 0
      },
      "text/plain": [
       "Map:   0%|          | 0/11873 [00:00<?, ? examples/s]"
      ]
     },
     "metadata": {},
     "output_type": "display_data"
    },
    {
     "data": {
      "application/vnd.jupyter.widget-view+json": {
       "model_id": "10a3e5e78f3344f6b973d3b67c967848",
       "version_major": 2,
       "version_minor": 0
      },
      "text/plain": [
       "pytorch_model.bin:   0%|          | 0.00/215M [00:00<?, ?B/s]"
      ]
     },
     "metadata": {},
     "output_type": "display_data"
    },
    {
     "name": "stderr",
     "output_type": "stream",
     "text": [
      "Some weights of BertModel were not initialized from the model checkpoint at SpanBERT/spanbert-base-cased and are newly initialized: ['bert.pooler.dense.bias', 'bert.pooler.dense.weight']\n",
      "You should probably TRAIN this model on a down-stream task to be able to use it for predictions and inference.\n",
      "/usr/local/lib/python3.10/dist-packages/transformers/training_args.py:1575: FutureWarning: `evaluation_strategy` is deprecated and will be removed in version 4.46 of 🤗 Transformers. Use `eval_strategy` instead\n",
      "  warnings.warn(\n",
      "<ipython-input-2-6656e760ba08>:180: FutureWarning: `tokenizer` is deprecated and will be removed in version 5.0.0 for `Trainer.__init__`. Use `processing_class` instead.\n",
      "  trainer = Trainer(\n"
     ]
    },
    {
     "data": {
      "text/html": [
       "\n",
       "    <div>\n",
       "      \n",
       "      <progress value='11472' max='11472' style='width:300px; height:20px; vertical-align: middle;'></progress>\n",
       "      [11472/11472 2:33:53, Epoch 6/6]\n",
       "    </div>\n",
       "    <table border=\"1\" class=\"dataframe\">\n",
       "  <thead>\n",
       " <tr style=\"text-align: left;\">\n",
       "      <th>Epoch</th>\n",
       "      <th>Training Loss</th>\n",
       "      <th>Validation Loss</th>\n",
       "    </tr>\n",
       "  </thead>\n",
       "  <tbody>\n",
       "    <tr>\n",
       "      <td>1</td>\n",
       "      <td>10.211900</td>\n",
       "      <td>7.555632</td>\n",
       "    </tr>\n",
       "    <tr>\n",
       "      <td>2</td>\n",
       "      <td>4.340400</td>\n",
       "      <td>6.771304</td>\n",
       "    </tr>\n",
       "    <tr>\n",
       "      <td>3</td>\n",
       "      <td>2.883800</td>\n",
       "      <td>8.530226</td>\n",
       "    </tr>\n",
       "    <tr>\n",
       "      <td>4</td>\n",
       "      <td>2.053400</td>\n",
       "      <td>9.432690</td>\n",
       "    </tr>\n",
       "    <tr>\n",
       "      <td>5</td>\n",
       "      <td>1.509200</td>\n",
       "      <td>10.688242</td>\n",
       "    </tr>\n",
       "    <tr>\n",
       "      <td>6</td>\n",
       "      <td>1.200800</td>\n",
       "      <td>10.986923</td>\n",
       "    </tr>\n",
       "  </tbody>\n",
       "</table><p>"
      ],
      "text/plain": [
       "<IPython.core.display.HTML object>"
      ]
     },
     "metadata": {},
     "output_type": "display_data"
    },
    {
     "data": {
      "text/html": [],
      "text/plain": [
       "<IPython.core.display.HTML object>"
      ]
     },
     "metadata": {},
     "output_type": "display_data"
    }
   ],
   "source": [
    "\n",
    "import collections\n",
    "import numpy as np\n",
    "import torch\n",
    "import torch.nn as nn\n",
    "from torchcrf import CRF\n",
    "from transformers import (\n",
    "    AutoTokenizer,\n",
    "    Trainer,\n",
    "    TrainingArguments,\n",
    "    AutoConfig,\n",
    "    BertPreTrainedModel,\n",
    "    AutoModel,\n",
    ")\n",
    "import matplotlib.pyplot as plt\n",
    "from datasets import load_dataset\n",
    "from tqdm.auto import tqdm\n",
    "\n",
    "# Hyperparameters\n",
    "max_length = 384\n",
    "stride = 128\n",
    "\n",
    "tokenizer = AutoTokenizer.from_pretrained(\"SpanBERT/spanbert-base-cased\")\n",
    "\n",
    "def preprocess_training_examples(examples):\n",
    "    questions = [q.strip() for q in examples[\"question\"]]\n",
    "    inputs = tokenizer(\n",
    "        questions,\n",
    "        examples[\"context\"],\n",
    "        max_length=max_length,\n",
    "        truncation=\"only_second\",\n",
    "        stride=stride,\n",
    "        return_overflowing_tokens=True,\n",
    "        return_offsets_mapping=True,\n",
    "        padding=\"max_length\",\n",
    "    )\n",
    "    offset_mapping = inputs.pop(\"offset_mapping\")\n",
    "    sample_map = inputs.pop(\"overflow_to_sample_mapping\")\n",
    "    answers = examples[\"answers\"]\n",
    "    start_positions = []\n",
    "    end_positions = []\n",
    "\n",
    "    for i, offset in enumerate(offset_mapping):\n",
    "        sample_idx = sample_map[i]\n",
    "        answer = answers[sample_idx]\n",
    "\n",
    "        # Handling unanswerable cases\n",
    "        if len(answer[\"text\"]) == 0:\n",
    "            start_positions.append(0)\n",
    "            end_positions.append(0)\n",
    "            continue\n",
    "\n",
    "        start_char = answer[\"answer_start\"][0]\n",
    "        end_char = start_char + len(answer[\"text\"][0])\n",
    "        sequence_ids = inputs.sequence_ids(i)\n",
    "\n",
    "        idx = 0\n",
    "        while sequence_ids[idx] != 1:\n",
    "            idx += 1\n",
    "        context_start = idx\n",
    "        while idx < len(sequence_ids) and sequence_ids[idx] == 1:\n",
    "            idx += 1\n",
    "        context_end = idx - 1\n",
    "\n",
    "        if offset[context_start][0] > start_char or offset[context_end][1] < end_char:\n",
    "            start_positions.append(0)\n",
    "            end_positions.append(0)\n",
    "        else:\n",
    "            idx = context_start\n",
    "            while idx <= context_end and offset[idx][0] <= start_char:\n",
    "                idx += 1\n",
    "            start_positions.append(idx - 1)\n",
    "\n",
    "            idx = context_end\n",
    "            while idx >= context_start and offset[idx][1] >= end_char:\n",
    "                idx -= 1\n",
    "            end_positions.append(idx + 1)\n",
    "\n",
    "    # Creating token-level labels for CRF: 0 = O, 1 = B-ANSWER, 2 = I-ANSWER\n",
    "    labels = []\n",
    "    for sp, ep in zip(start_positions, end_positions):\n",
    "        label_seq = [0] * max_length\n",
    "        if sp != 0 or ep != 0:\n",
    "            label_seq[sp] = 1  # B-ANSWER\n",
    "            for j in range(sp + 1, ep + 1):\n",
    "                label_seq[j] = 2  # I-ANSWER\n",
    "        labels.append(label_seq)\n",
    "\n",
    "    inputs[\"example_id\"] = [examples[\"id\"][sample_map[i]] for i in range(len(sample_map))]\n",
    "    inputs[\"labels\"] = labels\n",
    "    inputs[\"offset_mapping\"] = offset_mapping  # keep for postprocessing\n",
    "    return inputs\n",
    "\n",
    "# def preprocess_validation_examples(examples):\n",
    "#     questions = [q.strip() for q in examples[\"question\"]]\n",
    "#     inputs = tokenizer(\n",
    "#         questions,\n",
    "#         examples[\"context\"],\n",
    "#         max_length=max_length,\n",
    "#         truncation=\"only_second\",\n",
    "#         stride=stride,\n",
    "#         return_overflowing_tokens=True,\n",
    "#         return_offsets_mapping=True,\n",
    "#         padding=\"max_length\",\n",
    "#     )\n",
    "#     offset_mapping = inputs.pop(\"offset_mapping\")\n",
    "#     sample_map = inputs.pop(\"overflow_to_sample_mapping\")\n",
    "#     inputs[\"example_id\"] = [examples[\"id\"][sample_map[i]] for i in range(len(sample_map))]\n",
    "#     inputs[\"offset_mapping\"] = offset_mapping\n",
    "#     return inputs\n",
    "\n",
    "raw_datasets = load_dataset(\"squad_v2\")\n",
    "\n",
    "\n",
    "train_size= 15000\n",
    "raw_datasets[\"train\"] = raw_datasets[\"train\"].select(range(train_size))\n",
    "# raw_datasets[\"validation\"] = raw_datasets[\"validation\"].select(range(val_size))\n",
    "\n",
    "train_dataset = raw_datasets[\"train\"].map(\n",
    "    preprocess_training_examples,\n",
    "    batched=True,\n",
    "    remove_columns=raw_datasets[\"train\"].column_names,\n",
    ")\n",
    "validation_dataset = raw_datasets[\"validation\"].map(\n",
    "    preprocess_training_examples,\n",
    "    batched=True,\n",
    "    remove_columns=raw_datasets[\"validation\"].column_names,\n",
    ")\n",
    "\n",
    "class SpanBERTCRFForQuestionAnswering(BertPreTrainedModel):\n",
    "    def __init__(self, config):\n",
    "        super().__init__(config)\n",
    "        self.num_labels = 3  # 0: O, 1: B-ANSWER, 2: I-ANSWER\n",
    "        self.spanbert = AutoModel.from_pretrained(\"SpanBERT/spanbert-base-cased\", config=config)\n",
    "        self.dropout = nn.Dropout(config.hidden_dropout_prob)\n",
    "        self.classifier = nn.Linear(config.hidden_size, self.num_labels)\n",
    "        self.crf = CRF(num_tags=self.num_labels, batch_first=True)\n",
    "        self.init_weights()\n",
    "\n",
    "    def forward(self, input_ids, attention_mask=None, token_type_ids=None, labels=None,return_loss=True):\n",
    "        outputs = self.spanbert(input_ids=input_ids, attention_mask=attention_mask, token_type_ids=token_type_ids)\n",
    "        sequence_output = outputs[0]  # (batch_size, seq_length, hidden_size)\n",
    "        sequence_output = self.dropout(sequence_output)\n",
    "        emissions = self.classifier(sequence_output)  # (batch_size, seq_length, num_labels)\n",
    "        mask = attention_mask.bool()\n",
    "       \n",
    "        if labels is not None:\n",
    "            loss = -self.crf(emissions, labels, mask=mask, reduction=\"mean\")\n",
    "            return {\"loss\": loss, \"logits\": emissions}\n",
    "        else:\n",
    "            # Returning logits only to decode using CRF externally.\n",
    "            return {\"logits\": emissions}\n",
    "\n",
    "config = AutoConfig.from_pretrained(\"SpanBERT/spanbert-base-cased\")\n",
    "model = SpanBERTCRFForQuestionAnswering(config)\n",
    "\n",
    "# Training arguments\n",
    "training_args = TrainingArguments(\n",
    "    output_dir=\"./spanbert-crf-finetuned-squad\",\n",
    "    eval_strategy=\"epoch\",\n",
    "    evaluation_strategy=\"epoch\",\n",
    "    save_strategy=\"epoch\",\n",
    "    logging_strategy=\"epoch\",\n",
    "    # logging_steps=1\n",
    "    learning_rate=2e-5,\n",
    "    per_device_train_batch_size=8,\n",
    "    per_device_eval_batch_size=8,\n",
    "    num_train_epochs=6,\n",
    "    weight_decay=0.01,\n",
    "    report_to=\"none\",\n",
    "    # label_names = [\"start_positions\",\"end\"]\n",
    "    # prediction_loss_only=False # Forces Trainer to track loss\n",
    ")\n",
    "\n",
    "\n",
    "trainer = Trainer(\n",
    "    model=model,\n",
    "    args=training_args,\n",
    "    train_dataset=train_dataset,\n",
    "    eval_dataset=validation_dataset,\n",
    "    tokenizer=tokenizer,\n",
    ")\n",
    "trainer.can_return_loss = True\n",
    "\n",
    "trainer.train()\n",
    "# for epoch in range(training_args.num_train_epochs):\n",
    "#     trainer.train()\n",
    "#     eval_results = trainer.evaluate()\n",
    "#     print(f\"Epoch {epoch+1}: Training Loss = {eval_results['loss']:.4f} , Validation Loss = {eval_results['eval_loss']:.4f}\")\n",
    "\n",
    "\n",
    "def postprocess_predictions(examples, features, predicted_label_sequences, max_answer_length=30):\n",
    "    example_to_features = collections.defaultdict(list)\n",
    "    for idx, feature in enumerate(features):\n",
    "        example_to_features[feature[\"example_id\"]].append(idx)\n",
    "\n",
    "    predicted_answers = []\n",
    "    for example in examples:\n",
    "        example_id = example[\"id\"]\n",
    "        context = example[\"context\"]\n",
    "        answers = []\n",
    "\n",
    "        for feature_index in example_to_features[example_id]:\n",
    "            pred_labels = predicted_label_sequences[feature_index]  # predicted label sequence for the feature\n",
    "            offsets = features[feature_index][\"offset_mapping\"]\n",
    "            answer_text = \"\"\n",
    "\n",
    "            for i, label in enumerate(pred_labels):\n",
    "                if label == 1:\n",
    "                    start_i = i\n",
    "                    end_i = i\n",
    "                    while end_i + 1 < len(pred_labels) and pred_labels[end_i + 1] == 2:\n",
    "                        end_i += 1\n",
    "                    if end_i - start_i + 1 <= max_answer_length:\n",
    "                        if offsets[start_i] is not None and offsets[end_i] is not None:\n",
    "                            answer_text = context[offsets[start_i][0]:offsets[end_i][1]]\n",
    "                    break  \n",
    "            answers.append(answer_text)\n",
    "        best_answer = max(answers, key=len) if any(a != \"\" for a in answers) else \"\"\n",
    "        predicted_answers.append({\"id\": example_id, \"prediction_text\": best_answer})\n",
    "    return predicted_answers\n",
    "\n",
    "\n",
    "pred_out = trainer.predict(validation_dataset)\n",
    "logits = pred_out.predictions  # shape: (num_features, seq_length, num_labels)\n"
   ]
  },
  {
   "cell_type": "code",
   "execution_count": 3,
   "metadata": {
    "execution": {
     "iopub.execute_input": "2025-03-15T22:39:01.609136Z",
     "iopub.status.busy": "2025-03-15T22:39:01.608875Z",
     "iopub.status.idle": "2025-03-15T22:40:21.871872Z",
     "shell.execute_reply": "2025-03-15T22:40:21.870994Z",
     "shell.execute_reply.started": "2025-03-15T22:39:01.609114Z"
    },
    "trusted": true
   },
   "outputs": [
    {
     "name": "stdout",
     "output_type": "stream",
     "text": [
      "Exact Match Score: 46.86%\n"
     ]
    }
   ],
   "source": [
    "device = model.device\n",
    "logits_tensor = torch.tensor(logits).to(device)\n",
    "attention_mask = torch.tensor(validation_dataset[\"attention_mask\"]).to(device)\n",
    "\n",
    "# Use our model's CRF to decode predictions\n",
    "predicted_label_sequences = model.crf.decode(logits_tensor, mask=attention_mask.bool())\n",
    "\n",
    "# Use original validation examples for postprocessing (assume raw_datasets[\"validation\"] exists)\n",
    "val_set = raw_datasets[\"validation\"]\n",
    "predicted_answers = postprocess_predictions(val_set, validation_dataset, predicted_label_sequences)\n",
    "\n",
    "# Prepare theoretical (ground truth) answers\n",
    "theoretical_answers = [{\"id\": ex[\"id\"], \"answers\": ex[\"answers\"]} for ex in val_set]\n",
    "\n",
    "def exact_match_score(predictions, references):\n",
    "    assert len(predictions) == len(references), \"Lists must have the same length\"\n",
    "    matches = sum(p == r for p, r in zip(predictions, references))\n",
    "    return matches / len(references) * 100\n",
    "\n",
    "# em_score = exact_match_score(\n",
    "#     [p[\"prediction_text\"] for p in predicted_answers],\n",
    "#     [r[\"answers\"][\"text\"][0] if r[\"answers\"][\"text\"] else \"\" for r in theoretical_answers],\n",
    "# )\n",
    "# # Ensure we compare only against answerable references\n",
    "\n",
    "\n",
    "# print(f\"Exact Match Score: {em_score:.2f}%\")\n",
    "filtered_predictions = []\n",
    "filtered_references = []\n",
    "\n",
    "for pred, ref in zip(predicted_answers, theoretical_answers):\n",
    "    if ref[\"answers\"][\"text\"]:  # Only include if there's an actual answer\n",
    "        filtered_predictions.append(pred[\"prediction_text\"])\n",
    "        filtered_references.append(ref[\"answers\"][\"text\"][0])\n",
    "\n",
    "# Calculate Exact Match Score\n",
    "em_score = exact_match_score(filtered_predictions, filtered_references)\n",
    "print(f\"Exact Match Score: {em_score:.2f}%\")"
   ]
  },
  {
   "cell_type": "code",
   "execution_count": null,
   "metadata": {
    "trusted": true
   },
   "outputs": [],
   "source": [
    "trainer.save_model(\"./spanbert-crf-finetuned\")"
   ]
  },
  {
   "cell_type": "code",
   "execution_count": null,
   "metadata": {
    "execution": {
     "iopub.execute_input": "2025-03-15T22:55:36.184053Z",
     "iopub.status.busy": "2025-03-15T22:55:36.183728Z",
     "iopub.status.idle": "2025-03-15T23:02:07.971536Z",
     "shell.execute_reply": "2025-03-15T23:02:07.970786Z",
     "shell.execute_reply.started": "2025-03-15T22:55:36.184030Z"
    },
    "trusted": true
   },
   "outputs": [
    {
     "name": "stderr",
     "output_type": "stream",
     "text": [
      "Some weights of BertModel were not initialized from the model checkpoint at SpanBERT/spanbert-base-cased and are newly initialized: ['bert.pooler.dense.bias', 'bert.pooler.dense.weight']\n",
      "You should probably TRAIN this model on a down-stream task to be able to use it for predictions and inference.\n",
      "<ipython-input-10-b2bc45a6f3e8>:23: FutureWarning: `tokenizer` is deprecated and will be removed in version 5.0.0 for `Trainer.__init__`. Use `processing_class` instead.\n",
      "  trainer = Trainer(\n"
     ]
    },
    {
     "data": {
      "text/html": [],
      "text/plain": [
       "<IPython.core.display.HTML object>"
      ]
     },
     "metadata": {},
     "output_type": "display_data"
    },
    {
     "name": "stdout",
     "output_type": "stream",
     "text": [
      "Exact Match Score: 46.86%\n"
     ]
    }
   ],
   "source": [
    "from transformers import AutoTokenizer, Trainer\n",
    "import torch\n",
    "from collections import defaultdict\n",
    "\n",
    "tokenizer = AutoTokenizer.from_pretrained(\"SpanBERT/spanbert-base-cased\")\n",
    "model = SpanBERTCRFForQuestionAnswering.from_pretrained(\"./spanbert-crf-finetuned\")\n",
    "\n",
    "# Load the validation dataset and preprocess it\n",
    "# validation_dataset = raw_datasets[\"validation\"].map(\n",
    "#     preprocess_training_examples,\n",
    "#     batched=True,\n",
    "#     remove_columns=raw_datasets[\"validation\"].column_names,\n",
    "# )\n",
    "\n",
    "\n",
    "training_args = TrainingArguments(\n",
    "    output_dir=\"./spanbert-crf-finetuned-squad\",\n",
    "    per_device_eval_batch_size=8,\n",
    "    report_to=\"none\", \n",
    ")\n",
    "\n",
    "trainer = Trainer(\n",
    "    model=model,\n",
    "    args=training_args,\n",
    "    eval_dataset=validation_dataset,\n",
    "    tokenizer=tokenizer,\n",
    ")\n",
    "\n",
    "\n",
    "pred_out = trainer.predict(validation_dataset)\n",
    "logits = pred_out.predictions  # shape: (num_features, seq_length, num_labels)\n",
    "\n",
    "\n",
    "attention_mask = torch.tensor(validation_dataset[\"attention_mask\"]).to(model.device)\n",
    "logits_tensor = torch.tensor(logits).to(model.device)\n",
    "predicted_label_sequences = model.crf.decode(logits_tensor, mask=attention_mask.bool())\n",
    "\n",
    "# Postprocess predictions\n",
    "predicted_answers = postprocess_predictions(raw_datasets[\"validation\"], validation_dataset, predicted_label_sequences)\n",
    "\n",
    "theoretical_answers = [{\"id\": ex[\"id\"], \"answers\": ex[\"answers\"]} for ex in raw_datasets[\"validation\"]]\n",
    "\n",
    "filtered_predictions = []\n",
    "filtered_references = []\n",
    "\n",
    "for pred, ref in zip(predicted_answers, theoretical_answers):\n",
    "    if ref[\"answers\"][\"text\"]: \n",
    "        filtered_predictions.append(pred[\"prediction_text\"])\n",
    "        filtered_references.append(ref[\"answers\"][\"text\"][0])\n",
    "\n",
    "\n",
    "def exact_match_score(predictions, references):\n",
    "    assert len(predictions) == len(references), \"Lists must have the same length\"\n",
    "    matches = sum(p == r for p, r in zip(predictions, references))\n",
    "    return matches / len(references) * 100\n",
    "\n",
    "\n",
    "em_score = exact_match_score(filtered_predictions, filtered_references)\n",
    "print(f\"Exact Match Score: {em_score:.2f}%\")\n"
   ]
  },
  {
   "cell_type": "code",
   "execution_count": null,
   "metadata": {
    "execution": {
     "iopub.execute_input": "2025-03-15T22:48:13.457134Z",
     "iopub.status.busy": "2025-03-15T22:48:13.456789Z",
     "iopub.status.idle": "2025-03-15T22:48:13.764443Z",
     "shell.execute_reply": "2025-03-15T22:48:13.763563Z",
     "shell.execute_reply.started": "2025-03-15T22:48:13.457100Z"
    },
    "trusted": true
   },
   "outputs": [
    {
     "data": {
      "image/png": "[encoded data removed]",
      "text/plain": [
       "<Figure size 800x500 with 1 Axes>"
      ]
     },
     "metadata": {},
     "output_type": "display_data"
    }
   ],
   "source": [
    "def plot_loss(trainer_obj):\n",
    "    train_loss = [x[\"loss\"] for x in trainer_obj.state.log_history if \"loss\" in x]\n",
    "    validation_loss = [x[\"eval_loss\"] for x in trainer_obj.state.log_history if \"eval_loss\" in x]\n",
    "\n",
    "   \n",
    "    plt.figure(figsize=(8, 5))\n",
    "    plt.plot(train_loss, label=\"Training Loss\", marker='o', linestyle='-')\n",
    "    plt.plot(validation_loss, label=\"Validation Loss\", marker='s', linestyle='--', color='red')\n",
    "    plt.xlabel(\"Epoch\")\n",
    "    plt.ylabel(\"Loss\")\n",
    "    plt.legend()\n",
    "    plt.title(\"Training & Validation Loss\")\n",
    "    plt.grid()\n",
    "\n",
    "    plt.ylim(0, max(max(train_loss), max(validation_loss)) *4)\n",
    "\n",
    "    plt.show()\n",
    "\n",
    "\n",
    "plot_loss(trainer)"
   ]
  },
  {
   "cell_type": "code",
   "execution_count": 7,
   "metadata": {
    "execution": {
     "iopub.execute_input": "2025-03-15T22:48:25.643960Z",
     "iopub.status.busy": "2025-03-15T22:48:25.643654Z",
     "iopub.status.idle": "2025-03-15T22:48:51.103010Z",
     "shell.execute_reply": "2025-03-15T22:48:51.102192Z",
     "shell.execute_reply.started": "2025-03-15T22:48:25.643933Z"
    },
    "trusted": true
   },
   "outputs": [
    {
     "name": "stdout",
     "output_type": "stream",
     "text": [
      "  adding: kaggle/working/spanbert-crf-finetuned/ (stored 0%)\n",
      "  adding: kaggle/working/spanbert-crf-finetuned/training_args.bin (deflated 51%)\n",
      "  adding: kaggle/working/spanbert-crf-finetuned/special_tokens_map.json (deflated 42%)\n",
      "  adding: kaggle/working/spanbert-crf-finetuned/vocab.txt (deflated 49%)\n",
      "  adding: kaggle/working/spanbert-crf-finetuned/tokenizer.json (deflated 70%)\n",
      "  adding: kaggle/working/spanbert-crf-finetuned/config.json (deflated 47%)\n",
      "  adding: kaggle/working/spanbert-crf-finetuned/tokenizer_config.json (deflated 74%)\n",
      "  adding: kaggle/working/spanbert-crf-finetuned/model.safetensors (deflated 9%)\n"
     ]
    }
   ],
   "source": [
    "!zip -r spanbert_crf.zip /kaggle/working/spanbert-crf-finetuned"
   ]
  },
  {
   "cell_type": "code",
   "execution_count": 8,
   "metadata": {
    "execution": {
     "iopub.execute_input": "2025-03-15T22:48:51.104765Z",
     "iopub.status.busy": "2025-03-15T22:48:51.104485Z",
     "iopub.status.idle": "2025-03-15T22:48:51.110315Z",
     "shell.execute_reply": "2025-03-15T22:48:51.109655Z",
     "shell.execute_reply.started": "2025-03-15T22:48:51.104743Z"
    },
    "trusted": true
   },
   "outputs": [
    {
     "data": {
      "text/html": [
       "<a href='spanbert_crf.zip' target='_blank'>spanbert_crf.zip</a><br>"
      ],
      "text/plain": [
       "/kaggle/working/spanbert_crf.zip"
      ]
     },
     "execution_count": 8,
     "metadata": {},
     "output_type": "execute_result"
    }
   ],
   "source": [
    "from IPython.display import FileLink\n",
    "FileLink(r'spanbert_crf.zip')"
   ]
  }
 ],
 "metadata": {
  "kaggle": {
   "accelerator": "gpu",
   "dataSources": [],
   "dockerImageVersionId": 30919,
   "isGpuEnabled": true,
   "isInternetEnabled": true,
   "language": "python",
   "sourceType": "notebook"
  },
  "kernelspec": {
   "display_name": "Python 3",
   "language": "python",
   "name": "python3"
  },
  "language_info": {
   "codemirror_mode": {
    "name": "ipython",
    "version": 3
   },
   "file_extension": ".py",
   "mimetype": "text/x-python",
   "name": "python",
   "nbconvert_exporter": "python",
   "pygments_lexer": "ipython3",
   "version": "3.10.12"
  }
 },
 "nbformat": 4,
 "nbformat_minor": 4
}
